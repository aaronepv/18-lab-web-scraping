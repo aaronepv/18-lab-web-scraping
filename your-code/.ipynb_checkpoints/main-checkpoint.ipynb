{
 "cells": [
  {
   "cell_type": "markdown",
   "metadata": {},
   "source": [
    "# Web Scraping Lab\n",
    "\n",
    "You will find in this notebook some scrapy exercises to practise your scraping skills.\n",
    "\n",
    "**Tips:**\n",
    "\n",
    "- Check the response status code for each request to ensure you have obtained the intended contennt.\n",
    "- Print the response text in each request to understand the kind of info you are getting and its format.\n",
    "- Check for patterns in the response text to extract the data/info requested in each question.\n",
    "- Visit each url and take a look at its source through Chrome DevTools. You'll need to identify the html tags, special class names etc. used for the html content you are expected to extract."
   ]
  },
  {
   "cell_type": "markdown",
   "metadata": {},
   "source": [
    "- [Requests library](http://docs.python-requests.org/en/master/#the-user-guide) documentation \n",
    "- [Beautiful Soup Doc](https://www.crummy.com/software/BeautifulSoup/bs4/doc/)\n",
    "- [Urllib](https://docs.python.org/3/library/urllib.html#module-urllib)\n",
    "- [re lib](https://docs.python.org/3/library/re.html)\n",
    "- [lxml lib](https://lxml.de/)\n",
    "- [Scrapy](https://scrapy.org/)\n",
    "- [List of HTTP status codes](https://en.wikipedia.org/wiki/List_of_HTTP_status_codes)\n",
    "- [HTML basics](http://www.simplehtmlguide.com/cheatsheet.php)\n",
    "- [CSS basics](https://www.cssbasics.com/#page_start)"
   ]
  },
  {
   "cell_type": "markdown",
   "metadata": {},
   "source": [
    "#### Below are the libraries and modules you may need. `requests`,  `BeautifulSoup` and `pandas` are imported for you. If you prefer to use additional libraries feel free to uncomment them."
   ]
  },
  {
   "cell_type": "code",
   "execution_count": 2,
   "metadata": {},
   "outputs": [],
   "source": [
    "import requests\n",
    "from bs4 import BeautifulSoup\n",
    "import pandas as pd\n",
    "import urllib.request\n",
    "\n",
    "# from pprint import pprint\n",
    "# from lxml import html\n",
    "# from lxml.html import fromstring\n",
    "# import urllib.request\n",
    "# from urllib.request import urlopen\n",
    "# import random\n",
    "# import re\n",
    "# import scrapy"
   ]
  },
  {
   "cell_type": "markdown",
   "metadata": {},
   "source": [
    "#### Download, parse (using BeautifulSoup), and print the content from the Trending Developers page from GitHub:"
   ]
  },
  {
   "cell_type": "code",
   "execution_count": 3,
   "metadata": {},
   "outputs": [],
   "source": [
    "# This is the url you will scrape in this exercise\n",
    "url = 'https://github.com/trending/developers'"
   ]
  },
  {
   "cell_type": "code",
   "execution_count": 15,
   "metadata": {},
   "outputs": [
    {
     "data": {
      "text/plain": [
       "\"\\n\\n\\n\\n\\n\\n\\n\\n\\n\\n\\n\\n\\n\\n\\n\\nTrending  developers on GitHub today · GitHub\\n\\n\\n\\n\\n\\n\\n\\n\\n\\n\\n\\n\\n\\n\\n\\n\\n\\n\\n\\n\\n\\n\\n\\n\\n\\n\\n\\n\\n\\n\\n\\n\\n\\n\\n\\n\\n\\n\\n\\n\\n\\n\\n\\n\\n\\n\\n\\n\\n\\n\\n\\n\\n\\n\\n\\n\\n\\n\\n\\n\\nSkip to content\\n\\n\\n\\n\\n\\n\\n\\n\\n\\n\\n\\n\\n\\n                Sign\\xa0up\\n              \\n\\n\\n\\n\\n\\n\\n\\n\\n\\n\\n\\n\\n\\n\\n\\n\\n                    Why GitHub?\\n                    \\n\\n\\n\\n\\nFeatures →\\n\\nCode review\\nProject management\\nIntegrations\\nActions\\nPackages\\nSecurity\\nTeam management\\nHosting\\nMobile\\n\\n\\nCustomer stories →\\nSecurity →\\n\\n\\n\\n\\n\\nTeam\\n\\n\\nEnterprise\\n\\n\\n\\n\\n                    Explore\\n                    \\n\\n\\n\\n\\n\\nExplore GitHub →\\n\\nLearn & contribute\\n\\nTopics\\nCollections\\nTrending\\nLearning Lab\\nOpen source guides\\n\\nConnect with others\\n\\nEvents\\nCommunity forum\\nGitHub Education\\n\\n\\n\\n\\n\\nMarketplace\\n\\n\\n\\n\\n                    Pricing\\n                    \\n\\n\\n\\n\\nPlans →\\n\\nCompare plans\\nContact Sales\\n\\n\\nNonprofit →\\nEducation →\\n\\n\\n\\n\\n\\n\\n\\n\\n\\n\\n\\n\\n\\n\\n\\n\\n\\n\\n\\n\\n\\n\\n\\n\\n\\n\\n\\n\\n\\n\\n        Search\\n      \\n\\n        All GitHub\\n      \\n↵\\n\\n\\n      Jump to\\n      ↵\\n\\n\\n\\n\\n\\n\\nNo suggested jump to results\\n\\n\\n\\n\\n\\n\\n\\n\\n\\n\\n\\n\\n\\n\\n\\n        Search\\n      \\n\\n        All GitHub\\n      \\n↵\\n\\n\\n      Jump to\\n      ↵\\n\\n\\n\\n\\n\\n\\n\\n\\n\\n\\n\\n\\n\\n\\n\\n        Search\\n      \\n\\n        All GitHub\\n      \\n↵\\n\\n\\n      Jump to\\n      ↵\\n\\n\\n\\n\\n\\n\\n \\n\\n\\n\\n          Sign\\xa0in\\n        \\n\\n              Sign\\xa0up\\n            \\n\\n\\n\\n\\n\\n\\n\\n\\n\\n\\n\\n\\n\\n{{ message }}\\n\\n\\n\\n\\n\\n\\n\\n\\n\\n\\nExplore\\nTopics\\nTrending\\nCollections\\nEvents\\nGitHub Sponsors\\n\\n\\n              Get email updates\\n \\n\\n\\n\\n\\n\\nTrending\\n\\n      These are the developers building the hot tools today.\\n    \\n\\n\\n\\n\\n\\n\\nRepositories\\nDevelopers\\n\\n\\n\\n\\n\\n    Language:\\n\\n    \\n        Any\\n \\n\\n\\n\\n        Select a language\\n\\n\\n\\n\\n\\n\\n\\n\\n\\n\\n\\n\\n\\n\\n\\n              C++\\n \\n\\n\\n              HTML\\n \\n\\n\\n              Java\\n \\n\\n\\n              JavaScript\\n \\n\\n\\n              PHP\\n \\n\\n\\n              Python\\n \\n\\n\\n              Ruby\\n \\n\\n\\n              Unknown languages\\n \\n\\n\\n              1C Enterprise\\n \\n\\n\\n              4D\\n \\n\\n\\n              ABAP\\n \\n\\n\\n              ABNF\\n \\n\\n\\n              ActionScript\\n \\n\\n\\n              Ada\\n \\n\\n\\n              Adobe Font Metrics\\n \\n\\n\\n              Agda\\n \\n\\n\\n              AGS Script\\n \\n\\n\\n              Alloy\\n \\n\\n\\n              Alpine Abuild\\n \\n\\n\\n              Altium Designer\\n \\n\\n\\n              AMPL\\n \\n\\n\\n              AngelScript\\n \\n\\n\\n              Ant Build System\\n \\n\\n\\n              ANTLR\\n \\n\\n\\n              ApacheConf\\n \\n\\n\\n              Apex\\n \\n\\n\\n              API Blueprint\\n \\n\\n\\n              APL\\n \\n\\n\\n              Apollo Guidance Computer\\n \\n\\n\\n              AppleScript\\n \\n\\n\\n              Arc\\n \\n\\n\\n              AsciiDoc\\n \\n\\n\\n              ASN.1\\n \\n\\n\\n              ASP\\n \\n\\n\\n              AspectJ\\n \\n\\n\\n              Assembly\\n \\n\\n\\n              Asymptote\\n \\n\\n\\n              ATS\\n \\n\\n\\n              Augeas\\n \\n\\n\\n              AutoHotkey\\n \\n\\n\\n              AutoIt\\n \\n\\n\\n              Awk\\n \\n\\n\\n              Ballerina\\n \\n\\n\\n              Batchfile\\n \\n\\n\\n              Befunge\\n \\n\\n\\n              BibTeX\\n \\n\\n\\n              Bison\\n \\n\\n\\n              BitBake\\n \\n\\n\\n              Blade\\n \\n\\n\\n              BlitzBasic\\n \\n\\n\\n              BlitzMax\\n \\n\\n\\n              Bluespec\\n \\n\\n\\n              Boo\\n \\n\\n\\n              Brainfuck\\n \\n\\n\\n              Brightscript\\n \\n\\n\\n              Zeek\\n \\n\\n\\n              C\\n \\n\\n\\n              C#\\n \\n\\n\\n              C++\\n \\n\\n\\n              C-ObjDump\\n \\n\\n\\n              C2hs Haskell\\n \\n\\n\\n              Cabal Config\\n \\n\\n\\n              Cap'n Proto\\n \\n\\n\\n              CartoCSS\\n \\n\\n\\n              Ceylon\\n \\n\\n\\n              Chapel\\n \\n\\n\\n              Charity\\n \\n\\n\\n              ChucK\\n \\n\\n\\n              Cirru\\n \\n\\n\\n              Clarion\\n \\n\\n\\n              Clean\\n \\n\\n\\n              Click\\n \\n\\n\\n              CLIPS\\n \\n\\n\\n              Clojure\\n \\n\\n\\n              Closure Templates\\n \\n\\n\\n              Cloud Firestore Security Rules\\n \\n\\n\\n              CMake\\n \\n\\n\\n              COBOL\\n \\n\\n\\n              CodeQL\\n \\n\\n\\n              CoffeeScript\\n \\n\\n\\n              ColdFusion\\n \\n\\n\\n              ColdFusion CFC\\n \\n\\n\\n              COLLADA\\n \\n\\n\\n              Common Lisp\\n \\n\\n\\n              Common Workflow Language\\n \\n\\n\\n              Component Pascal\\n \\n\\n\\n              CoNLL-U\\n \\n\\n\\n              Cool\\n \\n\\n\\n              Coq\\n \\n\\n\\n              Cpp-ObjDump\\n \\n\\n\\n              Creole\\n \\n\\n\\n              Crystal\\n \\n\\n\\n              CSON\\n \\n\\n\\n              Csound\\n \\n\\n\\n              Csound Document\\n \\n\\n\\n              Csound Score\\n \\n\\n\\n              CSS\\n \\n\\n\\n              CSV\\n \\n\\n\\n              Cuda\\n \\n\\n\\n              cURL Config\\n \\n\\n\\n              CWeb\\n \\n\\n\\n              Cycript\\n \\n\\n\\n              Cython\\n \\n\\n\\n              D\\n \\n\\n\\n              D-ObjDump\\n \\n\\n\\n              Dafny\\n \\n\\n\\n              Darcs Patch\\n \\n\\n\\n              Dart\\n \\n\\n\\n              DataWeave\\n \\n\\n\\n              desktop\\n \\n\\n\\n              Dhall\\n \\n\\n\\n              Diff\\n \\n\\n\\n              DIGITAL Command Language\\n \\n\\n\\n              dircolors\\n \\n\\n\\n              DirectX 3D File\\n \\n\\n\\n              DM\\n \\n\\n\\n              DNS Zone\\n \\n\\n\\n              Dockerfile\\n \\n\\n\\n              Dogescript\\n \\n\\n\\n              DTrace\\n \\n\\n\\n              Dylan\\n \\n\\n\\n              E\\n \\n\\n\\n              Eagle\\n \\n\\n\\n              Easybuild\\n \\n\\n\\n              EBNF\\n \\n\\n\\n              eC\\n \\n\\n\\n              Ecere Projects\\n \\n\\n\\n              ECL\\n \\n\\n\\n              ECLiPSe\\n \\n\\n\\n              EditorConfig\\n \\n\\n\\n              Edje Data Collection\\n \\n\\n\\n              edn\\n \\n\\n\\n              Eiffel\\n \\n\\n\\n              EJS\\n \\n\\n\\n              Elixir\\n \\n\\n\\n              Elm\\n \\n\\n\\n              Emacs Lisp\\n \\n\\n\\n              EmberScript\\n \\n\\n\\n              EML\\n \\n\\n\\n              EQ\\n \\n\\n\\n              Erlang\\n \\n\\n\\n              F#\\n \\n\\n\\n              F*\\n \\n\\n\\n              Factor\\n \\n\\n\\n              Fancy\\n \\n\\n\\n              Fantom\\n \\n\\n\\n              Faust\\n \\n\\n\\n              FIGlet Font\\n \\n\\n\\n              Filebench WML\\n \\n\\n\\n              Filterscript\\n \\n\\n\\n              fish\\n \\n\\n\\n              FLUX\\n \\n\\n\\n              Formatted\\n \\n\\n\\n              Forth\\n \\n\\n\\n              Fortran\\n \\n\\n\\n              Fortran Free Form\\n \\n\\n\\n              FreeMarker\\n \\n\\n\\n              Frege\\n \\n\\n\\n              Futhark\\n \\n\\n\\n              G-code\\n \\n\\n\\n              Game Maker Language\\n \\n\\n\\n              GAML\\n \\n\\n\\n              GAMS\\n \\n\\n\\n              GAP\\n \\n\\n\\n              GCC Machine Description\\n \\n\\n\\n              GDB\\n \\n\\n\\n              GDScript\\n \\n\\n\\n              GEDCOM\\n \\n\\n\\n              Genie\\n \\n\\n\\n              Genshi\\n \\n\\n\\n              Gentoo Ebuild\\n \\n\\n\\n              Gentoo Eclass\\n \\n\\n\\n              Gerber Image\\n \\n\\n\\n              Gettext Catalog\\n \\n\\n\\n              Gherkin\\n \\n\\n\\n              Git Attributes\\n \\n\\n\\n              Git Config\\n \\n\\n\\n              GLSL\\n \\n\\n\\n              Glyph\\n \\n\\n\\n              Glyph Bitmap Distribution Format\\n \\n\\n\\n              GN\\n \\n\\n\\n              Gnuplot\\n \\n\\n\\n              Go\\n \\n\\n\\n              Golo\\n \\n\\n\\n              Gosu\\n \\n\\n\\n              Grace\\n \\n\\n\\n              Gradle\\n \\n\\n\\n              Grammatical Framework\\n \\n\\n\\n              Graph Modeling Language\\n \\n\\n\\n              GraphQL\\n \\n\\n\\n              Graphviz (DOT)\\n \\n\\n\\n              Groovy\\n \\n\\n\\n              Groovy Server Pages\\n \\n\\n\\n              Hack\\n \\n\\n\\n              Haml\\n \\n\\n\\n              Handlebars\\n \\n\\n\\n              HAProxy\\n \\n\\n\\n              Harbour\\n \\n\\n\\n              Haskell\\n \\n\\n\\n              Haxe\\n \\n\\n\\n              HCL\\n \\n\\n\\n              HiveQL\\n \\n\\n\\n              HLSL\\n \\n\\n\\n              HolyC\\n \\n\\n\\n              HTML\\n \\n\\n\\n              HTML+Django\\n \\n\\n\\n              HTML+ECR\\n \\n\\n\\n              HTML+EEX\\n \\n\\n\\n              HTML+ERB\\n \\n\\n\\n              HTML+PHP\\n \\n\\n\\n              HTML+Razor\\n \\n\\n\\n              HTTP\\n \\n\\n\\n              HXML\\n \\n\\n\\n              Hy\\n \\n\\n\\n              HyPhy\\n \\n\\n\\n              IDL\\n \\n\\n\\n              Idris\\n \\n\\n\\n              Ignore List\\n \\n\\n\\n              IGOR Pro\\n \\n\\n\\n              Inform 7\\n \\n\\n\\n              INI\\n \\n\\n\\n              Inno Setup\\n \\n\\n\\n              Io\\n \\n\\n\\n              Ioke\\n \\n\\n\\n              IRC log\\n \\n\\n\\n              Isabelle\\n \\n\\n\\n              Isabelle ROOT\\n \\n\\n\\n              J\\n \\n\\n\\n              Jasmin\\n \\n\\n\\n              Java\\n \\n\\n\\n              Java Properties\\n \\n\\n\\n              Java Server Pages\\n \\n\\n\\n              JavaScript\\n \\n\\n\\n              JavaScript+ERB\\n \\n\\n\\n              JFlex\\n \\n\\n\\n              Jison\\n \\n\\n\\n              Jison Lex\\n \\n\\n\\n              Jolie\\n \\n\\n\\n              JSON\\n \\n\\n\\n              JSON with Comments\\n \\n\\n\\n              JSON5\\n \\n\\n\\n              JSONiq\\n \\n\\n\\n              JSONLD\\n \\n\\n\\n              Jsonnet\\n \\n\\n\\n              JSX\\n \\n\\n\\n              Julia\\n \\n\\n\\n              Jupyter Notebook\\n \\n\\n\\n              KiCad Layout\\n \\n\\n\\n              KiCad Legacy Layout\\n \\n\\n\\n              KiCad Schematic\\n \\n\\n\\n              Kit\\n \\n\\n\\n              Kotlin\\n \\n\\n\\n              KRL\\n \\n\\n\\n              LabVIEW\\n \\n\\n\\n              Lasso\\n \\n\\n\\n              Latte\\n \\n\\n\\n              Lean\\n \\n\\n\\n              Less\\n \\n\\n\\n              Lex\\n \\n\\n\\n              LFE\\n \\n\\n\\n              LilyPond\\n \\n\\n\\n              Limbo\\n \\n\\n\\n              Linker Script\\n \\n\\n\\n              Linux Kernel Module\\n \\n\\n\\n              Liquid\\n \\n\\n\\n              Literate Agda\\n \\n\\n\\n              Literate CoffeeScript\\n \\n\\n\\n              Literate Haskell\\n \\n\\n\\n              LiveScript\\n \\n\\n\\n              LLVM\\n \\n\\n\\n              Logos\\n \\n\\n\\n              Logtalk\\n \\n\\n\\n              LOLCODE\\n \\n\\n\\n              LookML\\n \\n\\n\\n              LoomScript\\n \\n\\n\\n              LSL\\n \\n\\n\\n              LTspice Symbol\\n \\n\\n\\n              Lua\\n \\n\\n\\n              M\\n \\n\\n\\n              M4\\n \\n\\n\\n              M4Sugar\\n \\n\\n\\n              Macaulay2\\n \\n\\n\\n              Makefile\\n \\n\\n\\n              Mako\\n \\n\\n\\n              Markdown\\n \\n\\n\\n              Marko\\n \\n\\n\\n              Mask\\n \\n\\n\\n              Mathematica\\n \\n\\n\\n              MATLAB\\n \\n\\n\\n              Maven POM\\n \\n\\n\\n              Max\\n \\n\\n\\n              MAXScript\\n \\n\\n\\n              mcfunction\\n \\n\\n\\n              MediaWiki\\n \\n\\n\\n              Mercury\\n \\n\\n\\n              Meson\\n \\n\\n\\n              Metal\\n \\n\\n\\n              Microsoft Developer Studio Project\\n \\n\\n\\n              MiniD\\n \\n\\n\\n              Mirah\\n \\n\\n\\n              mIRC Script\\n \\n\\n\\n              MLIR\\n \\n\\n\\n              Modelica\\n \\n\\n\\n              Modula-2\\n \\n\\n\\n              Modula-3\\n \\n\\n\\n              Module Management System\\n \\n\\n\\n              Monkey\\n \\n\\n\\n              Moocode\\n \\n\\n\\n              MoonScript\\n \\n\\n\\n              Motorola 68K Assembly\\n \\n\\n\\n              MQL4\\n \\n\\n\\n              MQL5\\n \\n\\n\\n              MTML\\n \\n\\n\\n              MUF\\n \\n\\n\\n              mupad\\n \\n\\n\\n              Muse\\n \\n\\n\\n              Myghty\\n \\n\\n\\n              nanorc\\n \\n\\n\\n              NASL\\n \\n\\n\\n              NCL\\n \\n\\n\\n              Nearley\\n \\n\\n\\n              Nemerle\\n \\n\\n\\n              nesC\\n \\n\\n\\n              NetLinx\\n \\n\\n\\n              NetLinx+ERB\\n \\n\\n\\n              NetLogo\\n \\n\\n\\n              NewLisp\\n \\n\\n\\n              Nextflow\\n \\n\\n\\n              Nginx\\n \\n\\n\\n              Nim\\n \\n\\n\\n              Ninja\\n \\n\\n\\n              Nit\\n \\n\\n\\n              Nix\\n \\n\\n\\n              NL\\n \\n\\n\\n              NPM Config\\n \\n\\n\\n              NSIS\\n \\n\\n\\n              Nu\\n \\n\\n\\n              NumPy\\n \\n\\n\\n              ObjDump\\n \\n\\n\\n              Object Data Instance Notation\\n \\n\\n\\n              Objective-C\\n \\n\\n\\n              Objective-C++\\n \\n\\n\\n              Objective-J\\n \\n\\n\\n              ObjectScript\\n \\n\\n\\n              OCaml\\n \\n\\n\\n              Odin\\n \\n\\n\\n              Omgrofl\\n \\n\\n\\n              ooc\\n \\n\\n\\n              Opa\\n \\n\\n\\n              Opal\\n \\n\\n\\n              Open Policy Agent\\n \\n\\n\\n              OpenCL\\n \\n\\n\\n              OpenEdge ABL\\n \\n\\n\\n              OpenQASM\\n \\n\\n\\n              OpenRC runscript\\n \\n\\n\\n              OpenSCAD\\n \\n\\n\\n              OpenStep Property List\\n \\n\\n\\n              OpenType Feature File\\n \\n\\n\\n              Org\\n \\n\\n\\n              Ox\\n \\n\\n\\n              Oxygene\\n \\n\\n\\n              Oz\\n \\n\\n\\n              P4\\n \\n\\n\\n              Pan\\n \\n\\n\\n              Papyrus\\n \\n\\n\\n              Parrot\\n \\n\\n\\n              Parrot Assembly\\n \\n\\n\\n              Parrot Internal Representation\\n \\n\\n\\n              Pascal\\n \\n\\n\\n              Pawn\\n \\n\\n\\n              Pep8\\n \\n\\n\\n              Perl\\n \\n\\n\\n              PHP\\n \\n\\n\\n              Pic\\n \\n\\n\\n              Pickle\\n \\n\\n\\n              PicoLisp\\n \\n\\n\\n              PigLatin\\n \\n\\n\\n              Pike\\n \\n\\n\\n              PlantUML\\n \\n\\n\\n              PLpgSQL\\n \\n\\n\\n              PLSQL\\n \\n\\n\\n              Pod\\n \\n\\n\\n              Pod 6\\n \\n\\n\\n              PogoScript\\n \\n\\n\\n              Pony\\n \\n\\n\\n              PostCSS\\n \\n\\n\\n              PostScript\\n \\n\\n\\n              POV-Ray SDL\\n \\n\\n\\n              PowerBuilder\\n \\n\\n\\n              PowerShell\\n \\n\\n\\n              Prisma\\n \\n\\n\\n              Processing\\n \\n\\n\\n              Proguard\\n \\n\\n\\n              Prolog\\n \\n\\n\\n              Propeller Spin\\n \\n\\n\\n              Protocol Buffer\\n \\n\\n\\n              Public Key\\n \\n\\n\\n              Pug\\n \\n\\n\\n              Puppet\\n \\n\\n\\n              Pure Data\\n \\n\\n\\n              PureBasic\\n \\n\\n\\n              PureScript\\n \\n\\n\\n              Python\\n \\n\\n\\n              Python console\\n \\n\\n\\n              Python traceback\\n \\n\\n\\n              q\\n \\n\\n\\n              QMake\\n \\n\\n\\n              QML\\n \\n\\n\\n              Quake\\n \\n\\n\\n              R\\n \\n\\n\\n              Racket\\n \\n\\n\\n              Ragel\\n \\n\\n\\n              Raku\\n \\n\\n\\n              RAML\\n \\n\\n\\n              Rascal\\n \\n\\n\\n              Raw token data\\n \\n\\n\\n              RDoc\\n \\n\\n\\n              Readline Config\\n \\n\\n\\n              REALbasic\\n \\n\\n\\n              Reason\\n \\n\\n\\n              Rebol\\n \\n\\n\\n              Red\\n \\n\\n\\n              Redcode\\n \\n\\n\\n              Regular Expression\\n \\n\\n\\n              Ren'Py\\n \\n\\n\\n              RenderScript\\n \\n\\n\\n              reStructuredText\\n \\n\\n\\n              REXX\\n \\n\\n\\n              RHTML\\n \\n\\n\\n              Rich Text Format\\n \\n\\n\\n              Ring\\n \\n\\n\\n              Riot\\n \\n\\n\\n              RMarkdown\\n \\n\\n\\n              RobotFramework\\n \\n\\n\\n              Roff\\n \\n\\n\\n              Roff Manpage\\n \\n\\n\\n              Rouge\\n \\n\\n\\n              RPC\\n \\n\\n\\n              RPM Spec\\n \\n\\n\\n              Ruby\\n \\n\\n\\n              RUNOFF\\n \\n\\n\\n              Rust\\n \\n\\n\\n              Sage\\n \\n\\n\\n              SaltStack\\n \\n\\n\\n              SAS\\n \\n\\n\\n              Sass\\n \\n\\n\\n              Scala\\n \\n\\n\\n              Scaml\\n \\n\\n\\n              Scheme\\n \\n\\n\\n              Scilab\\n \\n\\n\\n              SCSS\\n \\n\\n\\n              sed\\n \\n\\n\\n              Self\\n \\n\\n\\n              ShaderLab\\n \\n\\n\\n              Shell\\n \\n\\n\\n              ShellSession\\n \\n\\n\\n              Shen\\n \\n\\n\\n              Sieve\\n \\n\\n\\n              Slash\\n \\n\\n\\n              Slice\\n \\n\\n\\n              Slim\\n \\n\\n\\n              Smali\\n \\n\\n\\n              Smalltalk\\n \\n\\n\\n              Smarty\\n \\n\\n\\n              SmPL\\n \\n\\n\\n              SMT\\n \\n\\n\\n              Solidity\\n \\n\\n\\n              SourcePawn\\n \\n\\n\\n              SPARQL\\n \\n\\n\\n              Spline Font Database\\n \\n\\n\\n              SQF\\n \\n\\n\\n              SQL\\n \\n\\n\\n              SQLPL\\n \\n\\n\\n              Squirrel\\n \\n\\n\\n              SRecode Template\\n \\n\\n\\n              SSH Config\\n \\n\\n\\n              Stan\\n \\n\\n\\n              Standard ML\\n \\n\\n\\n              Starlark\\n \\n\\n\\n              Stata\\n \\n\\n\\n              STON\\n \\n\\n\\n              Stylus\\n \\n\\n\\n              SubRip Text\\n \\n\\n\\n              SugarSS\\n \\n\\n\\n              SuperCollider\\n \\n\\n\\n              Svelte\\n \\n\\n\\n              SVG\\n \\n\\n\\n              Swift\\n \\n\\n\\n              SWIG\\n \\n\\n\\n              SystemVerilog\\n \\n\\n\\n              Tcl\\n \\n\\n\\n              Tcsh\\n \\n\\n\\n              Tea\\n \\n\\n\\n              Terra\\n \\n\\n\\n              TeX\\n \\n\\n\\n              Texinfo\\n \\n\\n\\n              Text\\n \\n\\n\\n              Textile\\n \\n\\n\\n              Thrift\\n \\n\\n\\n              TI Program\\n \\n\\n\\n              TLA\\n \\n\\n\\n              TOML\\n \\n\\n\\n              TSQL\\n \\n\\n\\n              TSX\\n \\n\\n\\n              Turing\\n \\n\\n\\n              Turtle\\n \\n\\n\\n              Twig\\n \\n\\n\\n              TXL\\n \\n\\n\\n              Type Language\\n \\n\\n\\n              TypeScript\\n \\n\\n\\n              Unified Parallel C\\n \\n\\n\\n              Unity3D Asset\\n \\n\\n\\n              Unix Assembly\\n \\n\\n\\n              Uno\\n \\n\\n\\n              UnrealScript\\n \\n\\n\\n              UrWeb\\n \\n\\n\\n              V\\n \\n\\n\\n              Vala\\n \\n\\n\\n              VBA\\n \\n\\n\\n              VBScript\\n \\n\\n\\n              VCL\\n \\n\\n\\n              Verilog\\n \\n\\n\\n              VHDL\\n \\n\\n\\n              Vim script\\n \\n\\n\\n              Vim Snippet\\n \\n\\n\\n              Visual Basic .NET\\n \\n\\n\\n              Visual Basic .NET\\n \\n\\n\\n              Volt\\n \\n\\n\\n              Vue\\n \\n\\n\\n              Wavefront Material\\n \\n\\n\\n              Wavefront Object\\n \\n\\n\\n              wdl\\n \\n\\n\\n              Web Ontology Language\\n \\n\\n\\n              WebAssembly\\n \\n\\n\\n              WebIDL\\n \\n\\n\\n              WebVTT\\n \\n\\n\\n              Wget Config\\n \\n\\n\\n              Windows Registry Entries\\n \\n\\n\\n              wisp\\n \\n\\n\\n              Wollok\\n \\n\\n\\n              World of Warcraft Addon Data\\n \\n\\n\\n              X BitMap\\n \\n\\n\\n              X Font Directory Index\\n \\n\\n\\n              X PixMap\\n \\n\\n\\n              X10\\n \\n\\n\\n              xBase\\n \\n\\n\\n              XC\\n \\n\\n\\n              XCompose\\n \\n\\n\\n              XML\\n \\n\\n\\n              XML Property List\\n \\n\\n\\n              Xojo\\n \\n\\n\\n              XPages\\n \\n\\n\\n              XProc\\n \\n\\n\\n              XQuery\\n \\n\\n\\n              XS\\n \\n\\n\\n              XSLT\\n \\n\\n\\n              Xtend\\n \\n\\n\\n              Yacc\\n \\n\\n\\n              YAML\\n \\n\\n\\n              YANG\\n \\n\\n\\n              YARA\\n \\n\\n\\n              YASnippet\\n \\n\\n\\n              ZAP\\n \\n\\n\\n              Zeek\\n \\n\\n\\n              ZenScript\\n \\n\\n\\n              Zephir\\n \\n\\n\\n              Zig\\n \\n\\n\\n              ZIL\\n \\n\\n\\n              Zimpl\\n \\n\\n\\n\\n\\n\\n\\n\\n\\n\\n\\n    Date range:\\n\\n    \\n      Today\\n \\n\\n\\n\\n        Adjust time span\\n\\n\\n\\n\\n\\n\\n\\n\\n\\n            Today\\n \\n\\n\\n            This week\\n \\n\\n\\n            This month\\n \\n\\n\\n\\n\\n\\n\\n\\n\\n    1\\n\\n\\n\\n\\n \\n\\n\\n\\n\\n\\n            Phan An\\n \\n\\n\\n              phanan\\n \\n\\n\\n\\n\\nPopular repo\\n\\n\\n\\n      htaccess\\n \\n\\n✂A collection of useful .htaccess snippets.\\n    \\n\\n\\n\\n\\n\\n\\n\\n\\n\\n              Sponsor\\n \\n\\n\\n\\n\\nFollow\\n\\n\\n\\n\\n\\n\\n\\n\\n\\n    2\\n\\n\\n\\n\\n \\n\\n\\n\\n\\n\\n            Nathan Shively-Sanders\\n \\n\\n\\n              sandersn\\n \\n\\n\\n\\n\\nPopular repo\\n\\n\\n\\n      downlevel-dts\\n \\n\\n      Convert a new d.ts to one that works with older versions of Typescript\\n    \\n\\n\\n\\n\\n\\n\\n\\n\\n\\nFollow\\n\\n\\n\\n\\n\\n\\n\\n\\n\\n    3\\n\\n\\n\\n\\n \\n\\n\\n\\n\\n\\n            Tobrun\\n \\n\\n\\n              tobrun\\n \\n\\n\\n\\n\\nPopular repo\\n\\n\\n\\n      flutter-mapbox-gl\\n \\n\\n      A Mapbox GL flutter package for creating custom maps\\n    \\n\\n\\n\\n\\n\\n\\n\\n\\n\\nFollow\\n\\n\\n\\n\\n\\n\\n\\n\\n\\n    4\\n\\n\\n\\n\\n \\n\\n\\n\\n\\n\\n            Mark Chandler\\n \\n\\n\\n              with-heart\\n \\n\\n\\n\\n VNDLY Inc.\\n\\n\\n\\n\\n\\n\\n\\n\\n              Sponsor\\n \\n\\n\\n\\n\\nFollow\\n\\n\\n\\n\\n\\n\\n\\n\\n\\n    5\\n\\n\\n\\n\\n \\n\\n\\n\\n\\n\\n            Alex Arslan\\n \\n\\n\\n              ararslan\\n \\n\\n\\n\\n\\nPopular repo\\n\\n\\n\\n      FrankenTuples.jl\\n \\n\\n      Part Tuple, part NamedTuple... it's alive!\\n    \\n\\n\\n\\n\\n\\n\\n\\n\\n\\n              Sponsor\\n \\n\\n\\n\\n\\nFollow\\n\\n\\n\\n\\n\\n\\n\\n\\n\\n    6\\n\\n\\n\\n\\n \\n\\n\\n\\n\\n\\n            hustcc\\n \\n\\n\\n              hustcc\\n \\n\\n\\n\\n\\nPopular repo\\n\\n\\n\\n      echarts-for-react\\n \\n\\n📈 Apache ECharts (incubating) components for React wrapper. 一个简单的 Apache echarts (incubating) 的 React 封装。\\n    \\n\\n\\n\\n\\n\\n\\n\\n\\n\\nFollow\\n\\n\\n\\n\\n\\n\\n\\n\\n\\n    7\\n\\n\\n\\n\\n \\n\\n\\n\\n\\n\\n            Seth Vargo\\n \\n\\n\\n              sethvargo\\n \\n\\n\\n\\n\\nPopular repo\\n\\n\\n\\n      go-signalcontext\\n \\n\\n      Create Go contexts that cancel on signals.\\n    \\n\\n\\n\\n\\n\\n\\n\\n\\n\\nFollow\\n\\n\\n\\n\\n\\n\\n\\n\\n\\n    8\\n\\n\\n\\n\\n \\n\\n\\n\\n\\n\\n            David Dias\\n \\n\\n\\n              thedaviddias\\n \\n\\n\\n\\n\\nPopular repo\\n\\n\\n\\n      Front-End-Checklist\\n \\n\\n🗂 The perfect Front-End Checklist for modern websites and meticulous developers\\n    \\n\\n\\n\\n\\n\\n\\n\\n\\n\\nFollow\\n\\n\\n\\n\\n\\n\\n\\n\\n\\n    9\\n\\n\\n\\n\\n \\n\\n\\n\\n\\n\\n            Steven\\n \\n\\n\\n              styfle\\n \\n\\n\\n\\n\\nPopular repo\\n\\n\\n\\n      cancel-workflow-action\\n \\n\\n⏹️ GitHub Action to cancel previous running workflows on push\\n    \\n\\n\\n\\n\\n\\n\\n\\n\\n\\n              Sponsor\\n \\n\\n\\n\\n\\nFollow\\n\\n\\n\\n\\n\\n\\n\\n\\n\\n    10\\n\\n\\n\\n\\n \\n\\n\\n\\n\\n\\n            Juliette\\n \\n\\n\\n              jrfnl\\n \\n\\n\\n\\n Advies en zo\\n\\n\\n\\n\\n\\n\\n\\n\\nFollow\\n\\n\\n\\n\\n\\n\\n\\n\\n\\n    11\\n\\n\\n\\n\\n \\n\\n\\n\\n\\n\\n            Ariel Mashraki\\n \\n\\n\\n              a8m\\n \\n\\n\\n\\n\\nPopular repo\\n\\n\\n\\n      golang-cheat-sheet\\n \\n\\n      An overview of Go syntax and features.\\n    \\n\\n\\n\\n\\n\\n\\n\\n\\n\\nFollow\\n\\n\\n\\n\\n\\n\\n\\n\\n\\n    12\\n\\n\\n\\n\\n \\n\\n\\n\\n\\n\\n            Nick Snyder\\n \\n\\n\\n              nicksnyder\\n \\n\\n\\n\\n\\nPopular repo\\n\\n\\n\\n      go-i18n\\n \\n\\n      Translate your Go program into multiple languages.\\n    \\n\\n\\n\\n\\n\\n\\n\\n\\n\\nFollow\\n\\n\\n\\n\\n\\n\\n\\n\\n\\n    13\\n\\n\\n\\n\\n \\n\\n\\n\\n\\n\\n            Marco Pivetta\\n \\n\\n\\n              Ocramius\\n \\n\\n\\n\\n\\nPopular repo\\n\\n\\n\\n      ProxyManager\\n \\n\\n🎩✨🌈 OOP Proxy wrappers utilities - generates and manages proxies of your objects\\n    \\n\\n\\n\\n\\n\\n\\n\\n\\n\\n              Sponsor\\n \\n\\n\\n\\n\\nFollow\\n\\n\\n\\n\\n\\n\\n\\n\\n\\n    14\\n\\n\\n\\n\\n \\n\\n\\n\\n\\n\\n            Iván López\\n \\n\\n\\n              ilopmar\\n \\n\\n\\n\\n Object Computing, Inc. (OCI)\\n\\n\\n\\n\\n\\n\\n\\n\\nFollow\\n\\n\\n\\n\\n\\n\\n\\n\\n\\n    15\\n\\n\\n\\n\\n \\n\\n\\n\\n\\n\\n            Lucas Käldström\\n \\n\\n\\n              luxas\\n \\n\\n\\n\\n\\nPopular repo\\n\\n\\n\\n      kubeadm-workshop\\n \\n\\n      Showcasing a bare-metal multi-platform kubeadm setup with persistent storage and monitoring\\n    \\n\\n\\n\\n\\n\\n\\n\\n\\n\\nFollow\\n\\n\\n\\n\\n\\n\\n\\n\\n\\n    16\\n\\n\\n\\n\\n \\n\\n\\n\\n\\n\\n            Briana Swift\\n \\n\\n\\n              brianamarie\\n \\n\\n\\n\\n Berlin\\n\\n\\n\\n\\n\\n\\n\\n\\nFollow\\n\\n\\n\\n\\n\\n\\n\\n\\n\\n    17\\n\\n\\n\\n\\n \\n\\n\\n\\n\\n\\n            Stefan Prodan\\n \\n\\n\\n              stefanprodan\\n \\n\\n\\n\\n\\nPopular repo\\n\\n\\n\\n      dockprom\\n \\n\\n      Docker hosts and containers monitoring with Prometheus, Grafana, cAdvisor, NodeExporter and AlertManager\\n    \\n\\n\\n\\n\\n\\n\\n\\n\\n\\nFollow\\n\\n\\n\\n\\n\\n\\n\\n\\n\\n    18\\n\\n\\n\\n\\n \\n\\n\\n\\n\\n\\n            Sorin Sbarnea\\n \\n\\n\\n              ssbarnea\\n \\n\\n\\n\\n Red Hat\\n\\n\\n\\n\\n\\n\\n\\n\\n              Sponsor\\n \\n\\n\\n\\n\\nFollow\\n\\n\\n\\n\\n\\n\\n\\n\\n\\n    19\\n\\n\\n\\n\\n \\n\\n\\n\\n\\n\\n            Andrew Gallant\\n \\n\\n\\n              BurntSushi\\n \\n\\n\\n\\n\\nPopular repo\\n\\n\\n\\n      ripgrep\\n \\n\\n      ripgrep recursively searches directories for a regex pattern\\n    \\n\\n\\n\\n\\n\\n\\n\\n\\n\\nFollow\\n\\n\\n\\n\\n\\n\\n\\n\\n\\n    20\\n\\n\\n\\n\\n \\n\\n\\n\\n\\n\\n            Orta Therox\\n \\n\\n\\n              orta\\n \\n\\n\\n\\n\\nPopular repo\\n\\n\\n\\n      code-owner-self-merge\\n \\n\\n      A GitHub Action for letting CODEOWNERS merge PRs via green PR reviews\\n    \\n\\n\\n\\n\\n\\n\\n\\n\\n\\n              Sponsor\\n \\n\\n\\n\\n\\nFollow\\n\\n\\n\\n\\n\\n\\n\\n\\n\\n    21\\n\\n\\n\\n\\n \\n\\n\\n\\n\\n\\n            Michał Lytek\\n \\n\\n\\n              MichalLytek\\n \\n\\n\\n\\n\\nPopular repo\\n\\n\\n\\n      type-graphql\\n \\n\\n      Create GraphQL schema and resolvers with TypeScript, using classes and decorators!\\n    \\n\\n\\n\\n\\n\\n\\n\\n\\n\\nFollow\\n\\n\\n\\n\\n\\n\\n\\n\\n\\n    22\\n\\n\\n\\n\\n \\n\\n\\n\\n\\n\\n            Carlos Cuesta\\n \\n\\n\\n              carloscuesta\\n \\n\\n\\n\\n\\nPopular repo\\n\\n\\n\\n      gitmoji\\n \\n\\n      An emoji guide for your commit messages. 😜\\n\\n\\n\\n\\n\\n\\n\\n\\n\\n\\n              Sponsor\\n \\n\\n\\n\\n\\nFollow\\n\\n\\n\\n\\n\\n\\n\\n\\n\\n    23\\n\\n\\n\\n\\n \\n\\n\\n\\n\\n\\n            Fred K. Schott\\n \\n\\n\\n              FredKSchott\\n \\n\\n\\n\\n\\nPopular repo\\n\\n\\n\\n      the-node-way\\n \\n\\n      Design patterns and best practices for building scaleable, maintainable and beautiful Node.js applications. Now with website! -->\\n    \\n\\n\\n\\n\\n\\n\\n\\n\\n\\nFollow\\n\\n\\n\\n\\n\\n\\n\\n\\n\\n    24\\n\\n\\n\\n\\n \\n\\n\\n\\n\\n\\n            Nathan Rajlich\\n \\n\\n\\n              TooTallNate\\n \\n\\n\\n\\n\\nPopular repo\\n\\n\\n\\n      Java-WebSocket\\n \\n\\n      A barebones WebSocket client and server implementation written in 100% Java.\\n    \\n\\n\\n\\n\\n\\n\\n\\n\\n\\nFollow\\n\\n\\n\\n\\n\\n\\n\\n\\n\\n    25\\n\\n\\n\\n\\n \\n\\n\\n\\n\\n\\n            David Tolnay\\n \\n\\n\\n              dtolnay\\n \\n\\n\\n\\n\\nPopular repo\\n\\n\\n\\n      cxx\\n \\n\\n      Safe interop between Rust and C++\\n    \\n\\n\\n\\n\\n\\n\\n\\n\\n\\n              Sponsor\\n \\n\\n\\n\\n\\nFollow\\n\\n\\n\\n\\n\\n\\n\\n\\n\\n\\n\\n\\n\\n\\n\\n\\n\\n\\n\\n\\n\\nProduct\\n\\nFeatures\\nSecurity\\nTeam\\nEnterprise\\nCustomer stories\\nThe ReadME Project\\nPricing\\nResources\\nRoadmap\\n\\n\\n\\nPlatform\\n\\nDeveloper API\\nPartners\\nAtom\\nElectron\\nGitHub Desktop\\n\\n\\n\\nSupport\\n\\nHelp\\nCommunity Forum\\nProfessional Services\\nLearning Lab\\nStatus\\nContact GitHub\\n\\n\\n\\nCompany\\n\\nAbout\\nBlog\\nCareers\\nPress\\nSocial Impact\\nShop\\n\\n\\n\\n\\n\\n\\n\\n\\n\\n\\nTwitter\\n\\n\\n\\n\\n\\nFacebook\\n\\n\\n\\n\\n\\nYouTube\\n\\n\\n\\n\\n\\nLinkedIn\\n\\n\\n\\n\\n\\nGitHub\\n\\n\\n\\n\\n© 2020 GitHub, Inc.\\nTerms\\nPrivacy\\nSite Map\\nWhat is Git?\\n\\n\\n\\n\\n\\n\\n\\n\\n\\n    You can’t perform that action at this time.\\n  \\n\\n\\n\\n\\n\\n\\n\\n\\n\\n\\n\\n\\n\\n\\n\\n\\n\\nYou signed in with another tab or window. Reload to refresh your session.\\nYou signed out in another tab or window. Reload to refresh your session.\\n\\n\\n\\n\\n\\n\\n\\n\\n\\n\\n\\n\\n\\n\\n\\n\\n\\n\\n\""
      ]
     },
     "execution_count": 15,
     "metadata": {},
     "output_type": "execute_result"
    }
   ],
   "source": [
    "#your code\n",
    "\n",
    "r = requests.get(url)\n",
    "soup = BeautifulSoup(r.content, 'html.parser')\n",
    "soup.text"
   ]
  },
  {
   "cell_type": "markdown",
   "metadata": {},
   "source": [
    "#### Display the names of the trending developers retrieved in the previous step.\n",
    "\n",
    "Your output should be a Python list of developer names. Each name should not contain any html tag.\n",
    "\n",
    "**Instructions:**\n",
    "\n",
    "1. Find out the html tag and class names used for the developer names. You can achieve this using Chrome DevTools.\n",
    "\n",
    "1. Use BeautifulSoup to extract all the html elements that contain the developer names.\n",
    "\n",
    "1. Use string manipulation techniques to replace whitespaces and linebreaks (i.e. `\\n`) in the *text* of each html element. Use a list to store the clean names.\n",
    "\n",
    "1. Print the list of names.\n",
    "\n",
    "Your output should look like below:\n",
    "\n",
    "```\n",
    "['trimstray (@trimstray)',\n",
    " 'joewalnes (JoeWalnes)',\n",
    " 'charlax (Charles-AxelDein)',\n",
    " 'ForrestKnight (ForrestKnight)',\n",
    " 'revery-ui (revery-ui)',\n",
    " 'alibaba (Alibaba)',\n",
    " 'Microsoft (Microsoft)',\n",
    " 'github (GitHub)',\n",
    " 'facebook (Facebook)',\n",
    " 'boazsegev (Bo)',\n",
    " 'google (Google)',\n",
    " 'cloudfetch',\n",
    " 'sindresorhus (SindreSorhus)',\n",
    " 'tensorflow',\n",
    " 'apache (TheApacheSoftwareFoundation)',\n",
    " 'DevonCrawford (DevonCrawford)',\n",
    " 'ARMmbed (ArmMbed)',\n",
    " 'vuejs (vuejs)',\n",
    " 'fastai (fast.ai)',\n",
    " 'QiShaoXuan (Qi)',\n",
    " 'joelparkerhenderson (JoelParkerHenderson)',\n",
    " 'torvalds (LinusTorvalds)',\n",
    " 'CyC2018',\n",
    " 'komeiji-satori (神楽坂覚々)',\n",
    " 'script-8']\n",
    " ```"
   ]
  },
  {
   "cell_type": "code",
   "execution_count": 16,
   "metadata": {},
   "outputs": [
    {
     "name": "stdout",
     "output_type": "stream",
     "text": [
      "['Phan An', 'Nathan Shively-Sanders', 'Tobrun', 'Mark Chandler', 'Alex Arslan', 'hustcc', 'Seth Vargo', 'David Dias', 'Steven', 'Juliette', 'Ariel Mashraki', 'Nick Snyder', 'Marco Pivetta', 'Iván López', 'Lucas Käldström', 'Briana Swift', 'Stefan Prodan', 'Sorin Sbarnea', 'Andrew Gallant', 'Orta Therox', 'Michał Lytek', 'Carlos Cuesta', 'Fred K. Schott', 'Nathan Rajlich', 'David Tolnay']\n"
     ]
    }
   ],
   "source": [
    "#your code\n",
    "developers = soup.find_all('h1', attrs={'class':'h3 lh-condensed'})\n",
    "name_developers=[]\n",
    "for x in developers:\n",
    "    name_developers.append(x.text.strip())\n",
    "print(name_developers)\n"
   ]
  },
  {
   "cell_type": "markdown",
   "metadata": {},
   "source": [
    "#### Display the trending Python repositories in GitHub\n",
    "\n",
    "The steps to solve this problem is similar to the previous one except that you need to find out the repository names instead of developer names."
   ]
  },
  {
   "cell_type": "code",
   "execution_count": 40,
   "metadata": {},
   "outputs": [],
   "source": [
    "# This is the url you will scrape in this exercise\n",
    "url1 = 'https://github.com/trending/python?since=daily'"
   ]
  },
  {
   "cell_type": "code",
   "execution_count": 42,
   "metadata": {
    "collapsed": true
   },
   "outputs": [
    {
     "data": {
      "text/plain": [
       "\"\\n\\n\\n\\n\\n\\n\\n\\n\\n\\n\\n\\n\\n\\n\\n\\nTrending Python repositories on GitHub today · GitHub\\n\\n\\n\\n\\n\\n\\n\\n\\n\\n\\n\\n\\n\\n\\n\\n\\n\\n\\n\\n\\n\\n\\n\\n\\n\\n\\n\\n\\n\\n\\n\\n\\n\\n\\n\\n\\n\\n\\n\\n\\n\\n\\n\\n\\n\\n\\n\\n\\n\\n\\n\\n\\n\\n\\n\\n\\n\\n\\n\\n\\nSkip to content\\n\\n\\n\\n\\n\\n\\n\\n\\n\\n\\n\\n\\n\\n                Sign\\xa0up\\n              \\n\\n\\n\\n\\n\\n\\n\\n\\n\\n\\n\\n\\n\\n\\n\\n\\n                    Why GitHub?\\n                    \\n\\n\\n\\n\\nFeatures →\\n\\nCode review\\nProject management\\nIntegrations\\nActions\\nPackages\\nSecurity\\nTeam management\\nHosting\\nMobile\\n\\n\\nCustomer stories →\\nSecurity →\\n\\n\\n\\n\\n\\nTeam\\n\\n\\nEnterprise\\n\\n\\n\\n\\n                    Explore\\n                    \\n\\n\\n\\n\\n\\nExplore GitHub →\\n\\nLearn & contribute\\n\\nTopics\\nCollections\\nTrending\\nLearning Lab\\nOpen source guides\\n\\nConnect with others\\n\\nEvents\\nCommunity forum\\nGitHub Education\\n\\n\\n\\n\\n\\nMarketplace\\n\\n\\n\\n\\n                    Pricing\\n                    \\n\\n\\n\\n\\nPlans →\\n\\nCompare plans\\nContact Sales\\n\\n\\nNonprofit →\\nEducation →\\n\\n\\n\\n\\n\\n\\n\\n\\n\\n\\n\\n\\n\\n\\n\\n\\n\\n\\n\\n\\n\\n\\n\\n\\n\\n\\n\\n\\n\\n\\n        Search\\n      \\n\\n        All GitHub\\n      \\n↵\\n\\n\\n      Jump to\\n      ↵\\n\\n\\n\\n\\n\\n\\nNo suggested jump to results\\n\\n\\n\\n\\n\\n\\n\\n\\n\\n\\n\\n\\n\\n\\n\\n        Search\\n      \\n\\n        All GitHub\\n      \\n↵\\n\\n\\n      Jump to\\n      ↵\\n\\n\\n\\n\\n\\n\\n\\n\\n\\n\\n\\n\\n\\n\\n\\n        Search\\n      \\n\\n        All GitHub\\n      \\n↵\\n\\n\\n      Jump to\\n      ↵\\n\\n\\n\\n\\n\\n\\n \\n\\n\\n\\n          Sign\\xa0in\\n        \\n\\n              Sign\\xa0up\\n            \\n\\n\\n\\n\\n\\n\\n\\n\\n\\n\\n\\n\\n\\n{{ message }}\\n\\n\\n\\n\\n\\n\\n\\n\\n\\n\\nExplore\\nTopics\\nTrending\\nCollections\\nEvents\\nGitHub Sponsors\\n\\n\\n              Get email updates\\n \\n\\n\\n\\n\\n\\nTrending\\n\\n      See what the GitHub community is most excited about today.\\n    \\n\\n\\n\\n\\n\\n\\nRepositories\\nDevelopers\\n\\n\\n\\n\\n\\n    Spoken Language:\\n\\n    \\n        Any\\n \\n\\n\\n\\n        Select a spoken language\\n\\n\\n\\n\\n\\n\\n\\n\\n\\n\\n\\n\\n\\n\\n\\n              Abkhazian\\n \\n\\n\\n              Afar\\n \\n\\n\\n              Afrikaans\\n \\n\\n\\n              Akan\\n \\n\\n\\n              Albanian\\n \\n\\n\\n              Amharic\\n \\n\\n\\n              Arabic\\n \\n\\n\\n              Aragonese\\n \\n\\n\\n              Armenian\\n \\n\\n\\n              Assamese\\n \\n\\n\\n              Avaric\\n \\n\\n\\n              Avestan\\n \\n\\n\\n              Aymara\\n \\n\\n\\n              Azerbaijani\\n \\n\\n\\n              Bambara\\n \\n\\n\\n              Bashkir\\n \\n\\n\\n              Basque\\n \\n\\n\\n              Belarusian\\n \\n\\n\\n              Bengali\\n \\n\\n\\n              Bihari languages\\n \\n\\n\\n              Bislama\\n \\n\\n\\n              Bosnian\\n \\n\\n\\n              Breton\\n \\n\\n\\n              Bulgarian\\n \\n\\n\\n              Burmese\\n \\n\\n\\n              Catalan, Valencian\\n \\n\\n\\n              Chamorro\\n \\n\\n\\n              Chechen\\n \\n\\n\\n              Chichewa, Chewa, Nyanja\\n \\n\\n\\n              Chinese\\n \\n\\n\\n              Chuvash\\n \\n\\n\\n              Cornish\\n \\n\\n\\n              Corsican\\n \\n\\n\\n              Cree\\n \\n\\n\\n              Croatian\\n \\n\\n\\n              Czech\\n \\n\\n\\n              Danish\\n \\n\\n\\n              Divehi, Dhivehi, Maldivian\\n \\n\\n\\n              Dutch, Flemish\\n \\n\\n\\n              Dzongkha\\n \\n\\n\\n              English\\n \\n\\n\\n              Esperanto\\n \\n\\n\\n              Estonian\\n \\n\\n\\n              Ewe\\n \\n\\n\\n              Faroese\\n \\n\\n\\n              Fijian\\n \\n\\n\\n              Finnish\\n \\n\\n\\n              French\\n \\n\\n\\n              Fulah\\n \\n\\n\\n              Galician\\n \\n\\n\\n              Georgian\\n \\n\\n\\n              German\\n \\n\\n\\n              Greek, Modern\\n \\n\\n\\n              Guarani\\n \\n\\n\\n              Gujarati\\n \\n\\n\\n              Haitian, Haitian Creole\\n \\n\\n\\n              Hausa\\n \\n\\n\\n              Hebrew\\n \\n\\n\\n              Herero\\n \\n\\n\\n              Hindi\\n \\n\\n\\n              Hiri Motu\\n \\n\\n\\n              Hungarian\\n \\n\\n\\n              Interlingua (International Auxil...\\n \\n\\n\\n              Indonesian\\n \\n\\n\\n              Interlingue, Occidental\\n \\n\\n\\n              Irish\\n \\n\\n\\n              Igbo\\n \\n\\n\\n              Inupiaq\\n \\n\\n\\n              Ido\\n \\n\\n\\n              Icelandic\\n \\n\\n\\n              Italian\\n \\n\\n\\n              Inuktitut\\n \\n\\n\\n              Japanese\\n \\n\\n\\n              Javanese\\n \\n\\n\\n              Kalaallisut, Greenlandic\\n \\n\\n\\n              Kannada\\n \\n\\n\\n              Kanuri\\n \\n\\n\\n              Kashmiri\\n \\n\\n\\n              Kazakh\\n \\n\\n\\n              Central Khmer\\n \\n\\n\\n              Kikuyu, Gikuyu\\n \\n\\n\\n              Kinyarwanda\\n \\n\\n\\n              Kirghiz, Kyrgyz\\n \\n\\n\\n              Komi\\n \\n\\n\\n              Kongo\\n \\n\\n\\n              Korean\\n \\n\\n\\n              Kurdish\\n \\n\\n\\n              Kuanyama, Kwanyama\\n \\n\\n\\n              Latin\\n \\n\\n\\n              Luxembourgish, Letzeburgesch\\n \\n\\n\\n              Ganda\\n \\n\\n\\n              Limburgan, Limburger, Limburgish\\n \\n\\n\\n              Lingala\\n \\n\\n\\n              Lao\\n \\n\\n\\n              Lithuanian\\n \\n\\n\\n              Luba-Katanga\\n \\n\\n\\n              Latvian\\n \\n\\n\\n              Manx\\n \\n\\n\\n              Macedonian\\n \\n\\n\\n              Malagasy\\n \\n\\n\\n              Malay\\n \\n\\n\\n              Malayalam\\n \\n\\n\\n              Maltese\\n \\n\\n\\n              Maori\\n \\n\\n\\n              Marathi\\n \\n\\n\\n              Marshallese\\n \\n\\n\\n              Mongolian\\n \\n\\n\\n              Nauru\\n \\n\\n\\n              Navajo, Navaho\\n \\n\\n\\n              North Ndebele\\n \\n\\n\\n              Nepali\\n \\n\\n\\n              Ndonga\\n \\n\\n\\n              Norwegian Bokmål\\n \\n\\n\\n              Norwegian Nynorsk\\n \\n\\n\\n              Norwegian\\n \\n\\n\\n              Sichuan Yi, Nuosu\\n \\n\\n\\n              South Ndebele\\n \\n\\n\\n              Occitan\\n \\n\\n\\n              Ojibwa\\n \\n\\n\\n              Church Slavic, Old Slavonic, Chu...\\n \\n\\n\\n              Oromo\\n \\n\\n\\n              Oriya\\n \\n\\n\\n              Ossetian, Ossetic\\n \\n\\n\\n              Punjabi, Panjabi\\n \\n\\n\\n              Pali\\n \\n\\n\\n              Persian\\n \\n\\n\\n              Polish\\n \\n\\n\\n              Pashto, Pushto\\n \\n\\n\\n              Portuguese\\n \\n\\n\\n              Quechua\\n \\n\\n\\n              Romansh\\n \\n\\n\\n              Rundi\\n \\n\\n\\n              Romanian, Moldavian, Moldovan\\n \\n\\n\\n              Russian\\n \\n\\n\\n              Sanskrit\\n \\n\\n\\n              Sardinian\\n \\n\\n\\n              Sindhi\\n \\n\\n\\n              Northern Sami\\n \\n\\n\\n              Samoan\\n \\n\\n\\n              Sango\\n \\n\\n\\n              Serbian\\n \\n\\n\\n              Gaelic, Scottish Gaelic\\n \\n\\n\\n              Shona\\n \\n\\n\\n              Sinhala, Sinhalese\\n \\n\\n\\n              Slovak\\n \\n\\n\\n              Slovenian\\n \\n\\n\\n              Somali\\n \\n\\n\\n              Southern Sotho\\n \\n\\n\\n              Spanish, Castilian\\n \\n\\n\\n              Sundanese\\n \\n\\n\\n              Swahili\\n \\n\\n\\n              Swati\\n \\n\\n\\n              Swedish\\n \\n\\n\\n              Tamil\\n \\n\\n\\n              Telugu\\n \\n\\n\\n              Tajik\\n \\n\\n\\n              Thai\\n \\n\\n\\n              Tigrinya\\n \\n\\n\\n              Tibetan\\n \\n\\n\\n              Turkmen\\n \\n\\n\\n              Tagalog\\n \\n\\n\\n              Tswana\\n \\n\\n\\n              Tonga (Tonga Islands)\\n \\n\\n\\n              Turkish\\n \\n\\n\\n              Tsonga\\n \\n\\n\\n              Tatar\\n \\n\\n\\n              Twi\\n \\n\\n\\n              Tahitian\\n \\n\\n\\n              Uighur, Uyghur\\n \\n\\n\\n              Ukrainian\\n \\n\\n\\n              Urdu\\n \\n\\n\\n              Uzbek\\n \\n\\n\\n              Venda\\n \\n\\n\\n              Vietnamese\\n \\n\\n\\n              Volapük\\n \\n\\n\\n              Walloon\\n \\n\\n\\n              Welsh\\n \\n\\n\\n              Wolof\\n \\n\\n\\n              Western Frisian\\n \\n\\n\\n              Xhosa\\n \\n\\n\\n              Yiddish\\n \\n\\n\\n              Yoruba\\n \\n\\n\\n              Zhuang, Chuang\\n \\n\\n\\n              Zulu\\n \\n\\n\\n\\n\\n\\n\\n\\n\\n\\n\\n    Language:\\n\\n    \\n        Python\\n \\n\\n\\n\\n        Select a language\\n\\n\\n\\n\\n\\n\\n\\n\\n\\n\\n\\n\\n\\n\\n            Clear language\\n \\n\\n\\n\\n\\n              C++\\n \\n\\n\\n              HTML\\n \\n\\n\\n              Java\\n \\n\\n\\n              JavaScript\\n \\n\\n\\n              PHP\\n \\n\\n\\n              Python\\n \\n\\n\\n              Ruby\\n \\n\\n\\n              Unknown languages\\n \\n\\n\\n              1C Enterprise\\n \\n\\n\\n              4D\\n \\n\\n\\n              ABAP\\n \\n\\n\\n              ABNF\\n \\n\\n\\n              ActionScript\\n \\n\\n\\n              Ada\\n \\n\\n\\n              Adobe Font Metrics\\n \\n\\n\\n              Agda\\n \\n\\n\\n              AGS Script\\n \\n\\n\\n              Alloy\\n \\n\\n\\n              Alpine Abuild\\n \\n\\n\\n              Altium Designer\\n \\n\\n\\n              AMPL\\n \\n\\n\\n              AngelScript\\n \\n\\n\\n              Ant Build System\\n \\n\\n\\n              ANTLR\\n \\n\\n\\n              ApacheConf\\n \\n\\n\\n              Apex\\n \\n\\n\\n              API Blueprint\\n \\n\\n\\n              APL\\n \\n\\n\\n              Apollo Guidance Computer\\n \\n\\n\\n              AppleScript\\n \\n\\n\\n              Arc\\n \\n\\n\\n              AsciiDoc\\n \\n\\n\\n              ASN.1\\n \\n\\n\\n              ASP\\n \\n\\n\\n              AspectJ\\n \\n\\n\\n              Assembly\\n \\n\\n\\n              Asymptote\\n \\n\\n\\n              ATS\\n \\n\\n\\n              Augeas\\n \\n\\n\\n              AutoHotkey\\n \\n\\n\\n              AutoIt\\n \\n\\n\\n              Awk\\n \\n\\n\\n              Ballerina\\n \\n\\n\\n              Batchfile\\n \\n\\n\\n              Befunge\\n \\n\\n\\n              BibTeX\\n \\n\\n\\n              Bison\\n \\n\\n\\n              BitBake\\n \\n\\n\\n              Blade\\n \\n\\n\\n              BlitzBasic\\n \\n\\n\\n              BlitzMax\\n \\n\\n\\n              Bluespec\\n \\n\\n\\n              Boo\\n \\n\\n\\n              Brainfuck\\n \\n\\n\\n              Brightscript\\n \\n\\n\\n              Zeek\\n \\n\\n\\n              C\\n \\n\\n\\n              C#\\n \\n\\n\\n              C++\\n \\n\\n\\n              C-ObjDump\\n \\n\\n\\n              C2hs Haskell\\n \\n\\n\\n              Cabal Config\\n \\n\\n\\n              Cap'n Proto\\n \\n\\n\\n              CartoCSS\\n \\n\\n\\n              Ceylon\\n \\n\\n\\n              Chapel\\n \\n\\n\\n              Charity\\n \\n\\n\\n              ChucK\\n \\n\\n\\n              Cirru\\n \\n\\n\\n              Clarion\\n \\n\\n\\n              Clean\\n \\n\\n\\n              Click\\n \\n\\n\\n              CLIPS\\n \\n\\n\\n              Clojure\\n \\n\\n\\n              Closure Templates\\n \\n\\n\\n              Cloud Firestore Security Rules\\n \\n\\n\\n              CMake\\n \\n\\n\\n              COBOL\\n \\n\\n\\n              CodeQL\\n \\n\\n\\n              CoffeeScript\\n \\n\\n\\n              ColdFusion\\n \\n\\n\\n              ColdFusion CFC\\n \\n\\n\\n              COLLADA\\n \\n\\n\\n              Common Lisp\\n \\n\\n\\n              Common Workflow Language\\n \\n\\n\\n              Component Pascal\\n \\n\\n\\n              CoNLL-U\\n \\n\\n\\n              Cool\\n \\n\\n\\n              Coq\\n \\n\\n\\n              Cpp-ObjDump\\n \\n\\n\\n              Creole\\n \\n\\n\\n              Crystal\\n \\n\\n\\n              CSON\\n \\n\\n\\n              Csound\\n \\n\\n\\n              Csound Document\\n \\n\\n\\n              Csound Score\\n \\n\\n\\n              CSS\\n \\n\\n\\n              CSV\\n \\n\\n\\n              Cuda\\n \\n\\n\\n              cURL Config\\n \\n\\n\\n              CWeb\\n \\n\\n\\n              Cycript\\n \\n\\n\\n              Cython\\n \\n\\n\\n              D\\n \\n\\n\\n              D-ObjDump\\n \\n\\n\\n              Dafny\\n \\n\\n\\n              Darcs Patch\\n \\n\\n\\n              Dart\\n \\n\\n\\n              DataWeave\\n \\n\\n\\n              desktop\\n \\n\\n\\n              Dhall\\n \\n\\n\\n              Diff\\n \\n\\n\\n              DIGITAL Command Language\\n \\n\\n\\n              dircolors\\n \\n\\n\\n              DirectX 3D File\\n \\n\\n\\n              DM\\n \\n\\n\\n              DNS Zone\\n \\n\\n\\n              Dockerfile\\n \\n\\n\\n              Dogescript\\n \\n\\n\\n              DTrace\\n \\n\\n\\n              Dylan\\n \\n\\n\\n              E\\n \\n\\n\\n              Eagle\\n \\n\\n\\n              Easybuild\\n \\n\\n\\n              EBNF\\n \\n\\n\\n              eC\\n \\n\\n\\n              Ecere Projects\\n \\n\\n\\n              ECL\\n \\n\\n\\n              ECLiPSe\\n \\n\\n\\n              EditorConfig\\n \\n\\n\\n              Edje Data Collection\\n \\n\\n\\n              edn\\n \\n\\n\\n              Eiffel\\n \\n\\n\\n              EJS\\n \\n\\n\\n              Elixir\\n \\n\\n\\n              Elm\\n \\n\\n\\n              Emacs Lisp\\n \\n\\n\\n              EmberScript\\n \\n\\n\\n              EML\\n \\n\\n\\n              EQ\\n \\n\\n\\n              Erlang\\n \\n\\n\\n              F#\\n \\n\\n\\n              F*\\n \\n\\n\\n              Factor\\n \\n\\n\\n              Fancy\\n \\n\\n\\n              Fantom\\n \\n\\n\\n              Faust\\n \\n\\n\\n              FIGlet Font\\n \\n\\n\\n              Filebench WML\\n \\n\\n\\n              Filterscript\\n \\n\\n\\n              fish\\n \\n\\n\\n              FLUX\\n \\n\\n\\n              Formatted\\n \\n\\n\\n              Forth\\n \\n\\n\\n              Fortran\\n \\n\\n\\n              Fortran Free Form\\n \\n\\n\\n              FreeMarker\\n \\n\\n\\n              Frege\\n \\n\\n\\n              Futhark\\n \\n\\n\\n              G-code\\n \\n\\n\\n              Game Maker Language\\n \\n\\n\\n              GAML\\n \\n\\n\\n              GAMS\\n \\n\\n\\n              GAP\\n \\n\\n\\n              GCC Machine Description\\n \\n\\n\\n              GDB\\n \\n\\n\\n              GDScript\\n \\n\\n\\n              GEDCOM\\n \\n\\n\\n              Genie\\n \\n\\n\\n              Genshi\\n \\n\\n\\n              Gentoo Ebuild\\n \\n\\n\\n              Gentoo Eclass\\n \\n\\n\\n              Gerber Image\\n \\n\\n\\n              Gettext Catalog\\n \\n\\n\\n              Gherkin\\n \\n\\n\\n              Git Attributes\\n \\n\\n\\n              Git Config\\n \\n\\n\\n              GLSL\\n \\n\\n\\n              Glyph\\n \\n\\n\\n              Glyph Bitmap Distribution Format\\n \\n\\n\\n              GN\\n \\n\\n\\n              Gnuplot\\n \\n\\n\\n              Go\\n \\n\\n\\n              Golo\\n \\n\\n\\n              Gosu\\n \\n\\n\\n              Grace\\n \\n\\n\\n              Gradle\\n \\n\\n\\n              Grammatical Framework\\n \\n\\n\\n              Graph Modeling Language\\n \\n\\n\\n              GraphQL\\n \\n\\n\\n              Graphviz (DOT)\\n \\n\\n\\n              Groovy\\n \\n\\n\\n              Groovy Server Pages\\n \\n\\n\\n              Hack\\n \\n\\n\\n              Haml\\n \\n\\n\\n              Handlebars\\n \\n\\n\\n              HAProxy\\n \\n\\n\\n              Harbour\\n \\n\\n\\n              Haskell\\n \\n\\n\\n              Haxe\\n \\n\\n\\n              HCL\\n \\n\\n\\n              HiveQL\\n \\n\\n\\n              HLSL\\n \\n\\n\\n              HolyC\\n \\n\\n\\n              HTML\\n \\n\\n\\n              HTML+Django\\n \\n\\n\\n              HTML+ECR\\n \\n\\n\\n              HTML+EEX\\n \\n\\n\\n              HTML+ERB\\n \\n\\n\\n              HTML+PHP\\n \\n\\n\\n              HTML+Razor\\n \\n\\n\\n              HTTP\\n \\n\\n\\n              HXML\\n \\n\\n\\n              Hy\\n \\n\\n\\n              HyPhy\\n \\n\\n\\n              IDL\\n \\n\\n\\n              Idris\\n \\n\\n\\n              Ignore List\\n \\n\\n\\n              IGOR Pro\\n \\n\\n\\n              Inform 7\\n \\n\\n\\n              INI\\n \\n\\n\\n              Inno Setup\\n \\n\\n\\n              Io\\n \\n\\n\\n              Ioke\\n \\n\\n\\n              IRC log\\n \\n\\n\\n              Isabelle\\n \\n\\n\\n              Isabelle ROOT\\n \\n\\n\\n              J\\n \\n\\n\\n              Jasmin\\n \\n\\n\\n              Java\\n \\n\\n\\n              Java Properties\\n \\n\\n\\n              Java Server Pages\\n \\n\\n\\n              JavaScript\\n \\n\\n\\n              JavaScript+ERB\\n \\n\\n\\n              JFlex\\n \\n\\n\\n              Jison\\n \\n\\n\\n              Jison Lex\\n \\n\\n\\n              Jolie\\n \\n\\n\\n              JSON\\n \\n\\n\\n              JSON with Comments\\n \\n\\n\\n              JSON5\\n \\n\\n\\n              JSONiq\\n \\n\\n\\n              JSONLD\\n \\n\\n\\n              Jsonnet\\n \\n\\n\\n              JSX\\n \\n\\n\\n              Julia\\n \\n\\n\\n              Jupyter Notebook\\n \\n\\n\\n              KiCad Layout\\n \\n\\n\\n              KiCad Legacy Layout\\n \\n\\n\\n              KiCad Schematic\\n \\n\\n\\n              Kit\\n \\n\\n\\n              Kotlin\\n \\n\\n\\n              KRL\\n \\n\\n\\n              LabVIEW\\n \\n\\n\\n              Lasso\\n \\n\\n\\n              Latte\\n \\n\\n\\n              Lean\\n \\n\\n\\n              Less\\n \\n\\n\\n              Lex\\n \\n\\n\\n              LFE\\n \\n\\n\\n              LilyPond\\n \\n\\n\\n              Limbo\\n \\n\\n\\n              Linker Script\\n \\n\\n\\n              Linux Kernel Module\\n \\n\\n\\n              Liquid\\n \\n\\n\\n              Literate Agda\\n \\n\\n\\n              Literate CoffeeScript\\n \\n\\n\\n              Literate Haskell\\n \\n\\n\\n              LiveScript\\n \\n\\n\\n              LLVM\\n \\n\\n\\n              Logos\\n \\n\\n\\n              Logtalk\\n \\n\\n\\n              LOLCODE\\n \\n\\n\\n              LookML\\n \\n\\n\\n              LoomScript\\n \\n\\n\\n              LSL\\n \\n\\n\\n              LTspice Symbol\\n \\n\\n\\n              Lua\\n \\n\\n\\n              M\\n \\n\\n\\n              M4\\n \\n\\n\\n              M4Sugar\\n \\n\\n\\n              Macaulay2\\n \\n\\n\\n              Makefile\\n \\n\\n\\n              Mako\\n \\n\\n\\n              Markdown\\n \\n\\n\\n              Marko\\n \\n\\n\\n              Mask\\n \\n\\n\\n              Mathematica\\n \\n\\n\\n              MATLAB\\n \\n\\n\\n              Maven POM\\n \\n\\n\\n              Max\\n \\n\\n\\n              MAXScript\\n \\n\\n\\n              mcfunction\\n \\n\\n\\n              MediaWiki\\n \\n\\n\\n              Mercury\\n \\n\\n\\n              Meson\\n \\n\\n\\n              Metal\\n \\n\\n\\n              Microsoft Developer Studio Project\\n \\n\\n\\n              MiniD\\n \\n\\n\\n              Mirah\\n \\n\\n\\n              mIRC Script\\n \\n\\n\\n              MLIR\\n \\n\\n\\n              Modelica\\n \\n\\n\\n              Modula-2\\n \\n\\n\\n              Modula-3\\n \\n\\n\\n              Module Management System\\n \\n\\n\\n              Monkey\\n \\n\\n\\n              Moocode\\n \\n\\n\\n              MoonScript\\n \\n\\n\\n              Motorola 68K Assembly\\n \\n\\n\\n              MQL4\\n \\n\\n\\n              MQL5\\n \\n\\n\\n              MTML\\n \\n\\n\\n              MUF\\n \\n\\n\\n              mupad\\n \\n\\n\\n              Muse\\n \\n\\n\\n              Myghty\\n \\n\\n\\n              nanorc\\n \\n\\n\\n              NASL\\n \\n\\n\\n              NCL\\n \\n\\n\\n              Nearley\\n \\n\\n\\n              Nemerle\\n \\n\\n\\n              nesC\\n \\n\\n\\n              NetLinx\\n \\n\\n\\n              NetLinx+ERB\\n \\n\\n\\n              NetLogo\\n \\n\\n\\n              NewLisp\\n \\n\\n\\n              Nextflow\\n \\n\\n\\n              Nginx\\n \\n\\n\\n              Nim\\n \\n\\n\\n              Ninja\\n \\n\\n\\n              Nit\\n \\n\\n\\n              Nix\\n \\n\\n\\n              NL\\n \\n\\n\\n              NPM Config\\n \\n\\n\\n              NSIS\\n \\n\\n\\n              Nu\\n \\n\\n\\n              NumPy\\n \\n\\n\\n              ObjDump\\n \\n\\n\\n              Object Data Instance Notation\\n \\n\\n\\n              Objective-C\\n \\n\\n\\n              Objective-C++\\n \\n\\n\\n              Objective-J\\n \\n\\n\\n              ObjectScript\\n \\n\\n\\n              OCaml\\n \\n\\n\\n              Odin\\n \\n\\n\\n              Omgrofl\\n \\n\\n\\n              ooc\\n \\n\\n\\n              Opa\\n \\n\\n\\n              Opal\\n \\n\\n\\n              Open Policy Agent\\n \\n\\n\\n              OpenCL\\n \\n\\n\\n              OpenEdge ABL\\n \\n\\n\\n              OpenQASM\\n \\n\\n\\n              OpenRC runscript\\n \\n\\n\\n              OpenSCAD\\n \\n\\n\\n              OpenStep Property List\\n \\n\\n\\n              OpenType Feature File\\n \\n\\n\\n              Org\\n \\n\\n\\n              Ox\\n \\n\\n\\n              Oxygene\\n \\n\\n\\n              Oz\\n \\n\\n\\n              P4\\n \\n\\n\\n              Pan\\n \\n\\n\\n              Papyrus\\n \\n\\n\\n              Parrot\\n \\n\\n\\n              Parrot Assembly\\n \\n\\n\\n              Parrot Internal Representation\\n \\n\\n\\n              Pascal\\n \\n\\n\\n              Pawn\\n \\n\\n\\n              Pep8\\n \\n\\n\\n              Perl\\n \\n\\n\\n              PHP\\n \\n\\n\\n              Pic\\n \\n\\n\\n              Pickle\\n \\n\\n\\n              PicoLisp\\n \\n\\n\\n              PigLatin\\n \\n\\n\\n              Pike\\n \\n\\n\\n              PlantUML\\n \\n\\n\\n              PLpgSQL\\n \\n\\n\\n              PLSQL\\n \\n\\n\\n              Pod\\n \\n\\n\\n              Pod 6\\n \\n\\n\\n              PogoScript\\n \\n\\n\\n              Pony\\n \\n\\n\\n              PostCSS\\n \\n\\n\\n              PostScript\\n \\n\\n\\n              POV-Ray SDL\\n \\n\\n\\n              PowerBuilder\\n \\n\\n\\n              PowerShell\\n \\n\\n\\n              Prisma\\n \\n\\n\\n              Processing\\n \\n\\n\\n              Proguard\\n \\n\\n\\n              Prolog\\n \\n\\n\\n              Propeller Spin\\n \\n\\n\\n              Protocol Buffer\\n \\n\\n\\n              Public Key\\n \\n\\n\\n              Pug\\n \\n\\n\\n              Puppet\\n \\n\\n\\n              Pure Data\\n \\n\\n\\n              PureBasic\\n \\n\\n\\n              PureScript\\n \\n\\n\\n              Python\\n \\n\\n\\n              Python console\\n \\n\\n\\n              Python traceback\\n \\n\\n\\n              q\\n \\n\\n\\n              QMake\\n \\n\\n\\n              QML\\n \\n\\n\\n              Quake\\n \\n\\n\\n              R\\n \\n\\n\\n              Racket\\n \\n\\n\\n              Ragel\\n \\n\\n\\n              Raku\\n \\n\\n\\n              RAML\\n \\n\\n\\n              Rascal\\n \\n\\n\\n              Raw token data\\n \\n\\n\\n              RDoc\\n \\n\\n\\n              Readline Config\\n \\n\\n\\n              REALbasic\\n \\n\\n\\n              Reason\\n \\n\\n\\n              Rebol\\n \\n\\n\\n              Red\\n \\n\\n\\n              Redcode\\n \\n\\n\\n              Regular Expression\\n \\n\\n\\n              Ren'Py\\n \\n\\n\\n              RenderScript\\n \\n\\n\\n              reStructuredText\\n \\n\\n\\n              REXX\\n \\n\\n\\n              RHTML\\n \\n\\n\\n              Rich Text Format\\n \\n\\n\\n              Ring\\n \\n\\n\\n              Riot\\n \\n\\n\\n              RMarkdown\\n \\n\\n\\n              RobotFramework\\n \\n\\n\\n              Roff\\n \\n\\n\\n              Roff Manpage\\n \\n\\n\\n              Rouge\\n \\n\\n\\n              RPC\\n \\n\\n\\n              RPM Spec\\n \\n\\n\\n              Ruby\\n \\n\\n\\n              RUNOFF\\n \\n\\n\\n              Rust\\n \\n\\n\\n              Sage\\n \\n\\n\\n              SaltStack\\n \\n\\n\\n              SAS\\n \\n\\n\\n              Sass\\n \\n\\n\\n              Scala\\n \\n\\n\\n              Scaml\\n \\n\\n\\n              Scheme\\n \\n\\n\\n              Scilab\\n \\n\\n\\n              SCSS\\n \\n\\n\\n              sed\\n \\n\\n\\n              Self\\n \\n\\n\\n              ShaderLab\\n \\n\\n\\n              Shell\\n \\n\\n\\n              ShellSession\\n \\n\\n\\n              Shen\\n \\n\\n\\n              Sieve\\n \\n\\n\\n              Slash\\n \\n\\n\\n              Slice\\n \\n\\n\\n              Slim\\n \\n\\n\\n              Smali\\n \\n\\n\\n              Smalltalk\\n \\n\\n\\n              Smarty\\n \\n\\n\\n              SmPL\\n \\n\\n\\n              SMT\\n \\n\\n\\n              Solidity\\n \\n\\n\\n              SourcePawn\\n \\n\\n\\n              SPARQL\\n \\n\\n\\n              Spline Font Database\\n \\n\\n\\n              SQF\\n \\n\\n\\n              SQL\\n \\n\\n\\n              SQLPL\\n \\n\\n\\n              Squirrel\\n \\n\\n\\n              SRecode Template\\n \\n\\n\\n              SSH Config\\n \\n\\n\\n              Stan\\n \\n\\n\\n              Standard ML\\n \\n\\n\\n              Starlark\\n \\n\\n\\n              Stata\\n \\n\\n\\n              STON\\n \\n\\n\\n              Stylus\\n \\n\\n\\n              SubRip Text\\n \\n\\n\\n              SugarSS\\n \\n\\n\\n              SuperCollider\\n \\n\\n\\n              Svelte\\n \\n\\n\\n              SVG\\n \\n\\n\\n              Swift\\n \\n\\n\\n              SWIG\\n \\n\\n\\n              SystemVerilog\\n \\n\\n\\n              Tcl\\n \\n\\n\\n              Tcsh\\n \\n\\n\\n              Tea\\n \\n\\n\\n              Terra\\n \\n\\n\\n              TeX\\n \\n\\n\\n              Texinfo\\n \\n\\n\\n              Text\\n \\n\\n\\n              Textile\\n \\n\\n\\n              Thrift\\n \\n\\n\\n              TI Program\\n \\n\\n\\n              TLA\\n \\n\\n\\n              TOML\\n \\n\\n\\n              TSQL\\n \\n\\n\\n              TSX\\n \\n\\n\\n              Turing\\n \\n\\n\\n              Turtle\\n \\n\\n\\n              Twig\\n \\n\\n\\n              TXL\\n \\n\\n\\n              Type Language\\n \\n\\n\\n              TypeScript\\n \\n\\n\\n              Unified Parallel C\\n \\n\\n\\n              Unity3D Asset\\n \\n\\n\\n              Unix Assembly\\n \\n\\n\\n              Uno\\n \\n\\n\\n              UnrealScript\\n \\n\\n\\n              UrWeb\\n \\n\\n\\n              V\\n \\n\\n\\n              Vala\\n \\n\\n\\n              VBA\\n \\n\\n\\n              VBScript\\n \\n\\n\\n              VCL\\n \\n\\n\\n              Verilog\\n \\n\\n\\n              VHDL\\n \\n\\n\\n              Vim script\\n \\n\\n\\n              Vim Snippet\\n \\n\\n\\n              Visual Basic .NET\\n \\n\\n\\n              Visual Basic .NET\\n \\n\\n\\n              Volt\\n \\n\\n\\n              Vue\\n \\n\\n\\n              Wavefront Material\\n \\n\\n\\n              Wavefront Object\\n \\n\\n\\n              wdl\\n \\n\\n\\n              Web Ontology Language\\n \\n\\n\\n              WebAssembly\\n \\n\\n\\n              WebIDL\\n \\n\\n\\n              WebVTT\\n \\n\\n\\n              Wget Config\\n \\n\\n\\n              Windows Registry Entries\\n \\n\\n\\n              wisp\\n \\n\\n\\n              Wollok\\n \\n\\n\\n              World of Warcraft Addon Data\\n \\n\\n\\n              X BitMap\\n \\n\\n\\n              X Font Directory Index\\n \\n\\n\\n              X PixMap\\n \\n\\n\\n              X10\\n \\n\\n\\n              xBase\\n \\n\\n\\n              XC\\n \\n\\n\\n              XCompose\\n \\n\\n\\n              XML\\n \\n\\n\\n              XML Property List\\n \\n\\n\\n              Xojo\\n \\n\\n\\n              XPages\\n \\n\\n\\n              XProc\\n \\n\\n\\n              XQuery\\n \\n\\n\\n              XS\\n \\n\\n\\n              XSLT\\n \\n\\n\\n              Xtend\\n \\n\\n\\n              Yacc\\n \\n\\n\\n              YAML\\n \\n\\n\\n              YANG\\n \\n\\n\\n              YARA\\n \\n\\n\\n              YASnippet\\n \\n\\n\\n              ZAP\\n \\n\\n\\n              Zeek\\n \\n\\n\\n              ZenScript\\n \\n\\n\\n              Zephir\\n \\n\\n\\n              Zig\\n \\n\\n\\n              ZIL\\n \\n\\n\\n              Zimpl\\n \\n\\n\\n\\n\\n\\n\\n\\n\\n\\n\\n    Date range:\\n\\n    \\n      Today\\n \\n\\n\\n\\n        Adjust time span\\n\\n\\n\\n\\n\\n\\n\\n\\n\\n            Today\\n \\n\\n\\n            This week\\n \\n\\n\\n            This month\\n \\n\\n\\n\\n\\n\\n\\n\\n\\n\\n\\n      Star\\n\\n\\n\\n\\n\\n\\n        flairNLP /\\n\\n      flair\\n \\n\\n      A very simple framework for state-of-the-art Natural Language Processing (NLP)\\n    \\n\\n\\n\\nPython\\n\\n\\n\\n        9,210\\n\\n\\n\\n        1,262\\n\\n\\n        Built by\\n\\n          \\n\\n\\n\\n\\n\\n\\n\\n        26 stars today\\n \\n\\n\\n\\n\\n\\n      Star\\n\\n\\n\\n\\n\\n\\n        PostHog /\\n\\n      posthog\\n \\n\\n🦔 PostHog is developer-friendly, open-source product analytics.\\n    \\n\\n\\n\\nPython\\n\\n\\n\\n        3,073\\n\\n\\n\\n        189\\n\\n\\n        Built by\\n\\n          \\n\\n\\n\\n\\n\\n\\n\\n        58 stars today\\n \\n\\n\\n\\n\\n\\n      Star\\n\\n\\n\\n\\n\\n\\n        kangvcar /\\n\\n      InfoSpider\\n \\n\\n      INFO-SPIDER 是一个集众多数据源于一身的爬虫工具箱🧰，旨在安全快捷的帮助用户拿回自己的数据，工具代码开源，流程透明。支持数据源包括GitHub、QQ邮箱、网易邮箱、阿里邮箱、新浪邮箱、Hotmail邮箱、Outlook邮箱、京东、淘宝、支付宝、中国移动、中国联通、中国电信、知乎、哔哩哔哩、网易云音乐、QQ好友、QQ群、生成朋友圈相册、浏览器浏览历史、12306、博客园、CSDN博客、开源中国博客、简书。\\n    \\n\\n\\n\\nPython\\n\\n\\n\\n        597\\n\\n\\n\\n        72\\n\\n\\n        Built by\\n\\n          \\n\\n\\n\\n\\n\\n\\n\\n        277 stars today\\n \\n\\n\\n\\n\\n\\n      Star\\n\\n\\n\\n\\n\\n\\n        PyTorchLightning /\\n\\n      pytorch-lightning\\n \\n\\n      The lightweight PyTorch wrapper for high-performance AI research. Scale your models, not the boilerplate.\\n    \\n\\n\\n\\nPython\\n\\n\\n\\n        7,519\\n\\n\\n\\n        878\\n\\n\\n        Built by\\n\\n          \\n\\n\\n\\n\\n\\n\\n\\n        36 stars today\\n \\n\\n\\n\\n\\n\\n      Star\\n\\n\\n\\n\\n\\n\\n        vaexio /\\n\\n      vaex\\n \\n\\n       Out-of-Core DataFrames for Python, ML, visualize and explore big tabular data at a billion rows per second 🚀\\n\\n\\n\\n\\nPython\\n\\n\\n\\n        4,843\\n\\n\\n\\n        373\\n\\n\\n        Built by\\n\\n          \\n\\n\\n\\n\\n\\n\\n\\n        78 stars today\\n \\n\\n\\n\\n\\n\\n      Star\\n\\n\\n\\n\\n\\n\\n        donnemartin /\\n\\n      system-design-primer\\n \\n\\n      Learn how to design large-scale systems. Prep for the system design interview. Includes Anki flashcards.\\n    \\n\\n\\n\\nPython\\n\\n\\n\\n        104,643\\n\\n\\n\\n        18,755\\n\\n\\n        Built by\\n\\n          \\n\\n\\n\\n\\n\\n\\n\\n        86 stars today\\n \\n\\n\\n\\n\\n\\n      Star\\n\\n\\n\\n\\n\\n\\n        PaddlePaddle /\\n\\n      PaddleDetection\\n \\n\\n      Object detection and instance segmentation toolkit based on PaddlePaddle.\\n    \\n\\n\\n\\nPython\\n\\n\\n\\n        1,022\\n\\n\\n\\n        352\\n\\n\\n        Built by\\n\\n          \\n\\n\\n\\n\\n\\n\\n\\n        32 stars today\\n \\n\\n\\n\\n\\n\\n      Star\\n\\n\\n\\n\\n\\n\\n        opencv /\\n\\n      cvat\\n \\n\\n      Powerful and efficient Computer Vision Annotation Tool (CVAT)\\n    \\n\\n\\n\\nPython\\n\\n\\n\\n        4,011\\n\\n\\n\\n        1,046\\n\\n\\n        Built by\\n\\n          \\n\\n\\n\\n\\n\\n\\n\\n        11 stars today\\n \\n\\n\\n\\n\\n\\n      Star\\n\\n\\n\\n\\n\\n\\n        huggingface /\\n\\n      transformers\\n \\n\\n🤗Transformers: State-of-the-art Natural Language Processing for Pytorch and TensorFlow 2.0.\\n    \\n\\n\\n\\nPython\\n\\n\\n\\n        32,721\\n\\n\\n\\n        7,784\\n\\n\\n        Built by\\n\\n          \\n\\n\\n\\n\\n\\n\\n\\n        75 stars today\\n \\n\\n\\n\\n\\n\\n      Star\\n\\n\\n\\n\\n\\n\\n        abhimishra91 /\\n\\n      insight\\n \\n\\n      Repository for Project Insight: NLP as a Service\\n    \\n\\n\\n\\nPython\\n\\n\\n\\n        179\\n\\n\\n\\n        22\\n\\n\\n        Built by\\n\\n          \\n\\n\\n\\n        67 stars today\\n \\n\\n\\n\\n\\n\\n      Star\\n\\n\\n\\n\\n\\n\\n        horovod /\\n\\n      horovod\\n \\n\\n      Distributed training framework for TensorFlow, Keras, PyTorch, and Apache MXNet.\\n    \\n\\n\\n\\nPython\\n\\n\\n\\n        9,818\\n\\n\\n\\n        1,580\\n\\n\\n        Built by\\n\\n          \\n\\n\\n\\n\\n\\n\\n\\n        11 stars today\\n \\n\\n\\n\\n\\n\\n      Star\\n\\n\\n\\n\\n\\n\\n        iperov /\\n\\n      DeepFaceLab\\n \\n\\n      DeepFaceLab is the leading software for creating deepfakes.\\n    \\n\\n\\n\\nPython\\n\\n\\n\\n        19,116\\n\\n\\n\\n        4,501\\n\\n\\n        Built by\\n\\n          \\n\\n\\n\\n\\n\\n\\n\\n        47 stars today\\n \\n\\n\\n\\n\\n\\n      Star\\n\\n\\n\\n\\n\\n\\n        microsoft /\\n\\n      recommenders\\n \\n\\n      Best Practices on Recommendation Systems\\n    \\n\\n\\n\\nPython\\n\\n\\n\\n        8,081\\n\\n\\n\\n        1,307\\n\\n\\n        Built by\\n\\n          \\n\\n\\n\\n\\n\\n\\n\\n        20 stars today\\n \\n\\n\\n\\n\\n\\n      Star\\n\\n\\n\\n\\n\\n\\n        d2l-ai /\\n\\n      d2l-en\\n \\n\\n      Interactive deep learning book with code, math, and discussions. Available in multi-frameworks.\\n    \\n\\n\\n\\nPython\\n\\n\\n\\n        7,075\\n\\n\\n\\n        1,600\\n\\n\\n        Built by\\n\\n          \\n\\n\\n\\n\\n\\n\\n\\n        88 stars today\\n \\n\\n\\n\\n\\n\\n      Star\\n\\n\\n\\n\\n\\n\\n        awslabs /\\n\\n      aws-lambda-powertools-python\\n \\n\\n      A suite of utilities for AWS Lambda Functions that makes tracing with AWS X-Ray, structured logging and creating custom metrics asynchronously easier\\n    \\n\\n\\n\\nPython\\n\\n\\n\\n        391\\n\\n\\n\\n        47\\n\\n\\n        Built by\\n\\n          \\n\\n\\n\\n\\n\\n\\n\\n        5 stars today\\n \\n\\n\\n\\n\\n\\n      Star\\n\\n\\n\\n\\n\\n\\n        apache /\\n\\n      airflow\\n \\n\\n      Apache Airflow - A platform to programmatically author, schedule, and monitor workflows\\n    \\n\\n\\n\\nPython\\n\\n\\n\\n        17,865\\n\\n\\n\\n        6,968\\n\\n\\n        Built by\\n\\n          \\n\\n\\n\\n\\n\\n\\n\\n        20 stars today\\n \\n\\n\\n\\n\\n\\n      Star\\n\\n\\n\\n\\n\\n\\n        optuna /\\n\\n      optuna\\n \\n\\n      A hyperparameter optimization framework\\n    \\n\\n\\n\\nPython\\n\\n\\n\\n        2,903\\n\\n\\n\\n        335\\n\\n\\n        Built by\\n\\n          \\n\\n\\n\\n\\n\\n\\n\\n        7 stars today\\n \\n\\n\\n\\n\\n\\n      Star\\n\\n\\n\\n\\n\\n\\n        scikit-learn /\\n\\n      scikit-learn\\n \\n\\n      scikit-learn: machine learning in Python\\n    \\n\\n\\n\\nPython\\n\\n\\n\\n        41,977\\n\\n\\n\\n        20,238\\n\\n\\n        Built by\\n\\n          \\n\\n\\n\\n\\n\\n\\n\\n        16 stars today\\n \\n\\n\\n\\n\\n\\n      Star\\n\\n\\n\\n\\n\\n\\n        catalyst-team /\\n\\n      catalyst\\n \\n\\n      Accelerated DL R&D\\n    \\n\\n\\n\\nPython\\n\\n\\n\\n        2,109\\n\\n\\n\\n        230\\n\\n\\n        Built by\\n\\n          \\n\\n\\n\\n\\n\\n\\n\\n        6 stars today\\n \\n\\n\\n\\n\\n\\n      Star\\n\\n\\n\\n\\n\\n\\n        Eloston /\\n\\n      ungoogled-chromium\\n \\n\\n      Google Chromium, sans integration with Google\\n    \\n\\n\\n\\nPython\\n\\n\\n\\n        9,719\\n\\n\\n\\n        426\\n\\n\\n        Built by\\n\\n          \\n\\n\\n\\n\\n\\n\\n\\n        42 stars today\\n \\n\\n\\n\\n\\n\\n      Star\\n\\n\\n\\n\\n\\n\\n        pytorch /\\n\\n      fairseq\\n \\n\\n      Facebook AI Research Sequence-to-Sequence Toolkit written in Python.\\n    \\n\\n\\n\\nPython\\n\\n\\n\\n        8,707\\n\\n\\n\\n        2,195\\n\\n\\n        Built by\\n\\n          \\n\\n\\n\\n\\n\\n\\n\\n        10 stars today\\n \\n\\n\\n\\n\\n\\n      Star\\n\\n\\n\\n\\n\\n\\n        ckan /\\n\\n      ckan\\n \\n\\n      CKAN is an open-source DMS (data management system) for powering data hubs and data portals. CKAN makes it easy to publish, share and use data. It powers catalog.data.gov, europeandataportal.eu/data, data.humdata.org among many other sites.\\n    \\n\\n\\n\\nPython\\n\\n\\n\\n        2,733\\n\\n\\n\\n        1,458\\n\\n\\n        Built by\\n\\n          \\n\\n\\n\\n\\n\\n\\n\\n        2 stars today\\n \\n\\n\\n\\n\\n\\n      Star\\n\\n\\n\\n\\n\\n\\n        lyhue1991 /\\n\\n      eat_tensorflow2_in_30_days\\n \\n\\n      Tensorflow2.0 🍎🍊 is delicious, just eat it! 😋😋\\n\\n\\n\\n\\nPython\\n\\n\\n\\n        5,401\\n\\n\\n\\n        1,436\\n\\n\\n        Built by\\n\\n          \\n\\n\\n\\n\\n\\n        42 stars today\\n \\n\\n\\n\\n\\n\\n      Star\\n\\n\\n\\n\\n\\n\\n        pennersr /\\n\\n      django-allauth\\n \\n\\n      Integrated set of Django applications addressing authentication, registration, account management as well as 3rd party (social) account authentication.\\n    \\n\\n\\n\\nPython\\n\\n\\n\\n        5,743\\n\\n\\n\\n        2,041\\n\\n\\n        Built by\\n\\n          \\n\\n\\n\\n\\n\\n\\n\\n        9 stars today\\n \\n\\n\\n\\n\\n\\n      Star\\n\\n\\n\\n\\n\\n\\n        miemie2013 /\\n\\n      Keras-YOLOv4\\n \\n\\n      supports training, at least 41.1% mAP.支持训练，至少41.1%mAP。少数的给出精度的复现。\\n    \\n\\n\\n\\nPython\\n\\n\\n\\n        193\\n\\n\\n\\n        59\\n\\n\\n        Built by\\n\\n          \\n\\n\\n\\n        4 stars today\\n \\n\\n\\n\\n\\n\\n\\n\\n\\n\\n\\n\\n\\n\\n\\n\\nProduct\\n\\nFeatures\\nSecurity\\nTeam\\nEnterprise\\nCustomer stories\\nThe ReadME Project\\nPricing\\nResources\\nRoadmap\\n\\n\\n\\nPlatform\\n\\nDeveloper API\\nPartners\\nAtom\\nElectron\\nGitHub Desktop\\n\\n\\n\\nSupport\\n\\nHelp\\nCommunity Forum\\nProfessional Services\\nLearning Lab\\nStatus\\nContact GitHub\\n\\n\\n\\nCompany\\n\\nAbout\\nBlog\\nCareers\\nPress\\nSocial Impact\\nShop\\n\\n\\n\\n\\n\\n\\n\\n\\n\\n\\nTwitter\\n\\n\\n\\n\\n\\nFacebook\\n\\n\\n\\n\\n\\nYouTube\\n\\n\\n\\n\\n\\nLinkedIn\\n\\n\\n\\n\\n\\nGitHub\\n\\n\\n\\n\\n© 2020 GitHub, Inc.\\nTerms\\nPrivacy\\nSite Map\\nWhat is Git?\\n\\n\\n\\n\\n\\n\\n\\n\\n\\n    You can’t perform that action at this time.\\n  \\n\\n\\n\\n\\n\\n\\n\\n\\n\\n\\n\\n\\n\\n\\n\\n\\n\\nYou signed in with another tab or window. Reload to refresh your session.\\nYou signed out in another tab or window. Reload to refresh your session.\\n\\n\\n\\n\\n\\n\\n\\n\\n\\n\\n\\n\\n\\n\\n\\n\\n\\n\\n\""
      ]
     },
     "execution_count": 42,
     "metadata": {},
     "output_type": "execute_result"
    }
   ],
   "source": [
    "#your code\n",
    "r1 = requests.get(url1)\n",
    "soup1 = BeautifulSoup(r1.content, 'html.parser')\n",
    "soup1.text"
   ]
  },
  {
   "cell_type": "code",
   "execution_count": 59,
   "metadata": {},
   "outputs": [
    {
     "name": "stdout",
     "output_type": "stream",
     "text": [
      "['flairNLP /flair', 'PostHog /posthog', 'kangvcar /InfoSpider', 'PyTorchLightning /pytorch-lightning', 'vaexio /vaex', 'donnemartin /system-design-primer', 'PaddlePaddle /PaddleDetection', 'opencv /cvat', 'huggingface /transformers', 'abhimishra91 /insight', 'horovod /horovod', 'iperov /DeepFaceLab', 'microsoft /recommenders', 'd2l-ai /d2l-en', 'awslabs /aws-lambda-powertools-python', 'apache /airflow', 'optuna /optuna', 'scikit-learn /scikit-learn', 'catalyst-team /catalyst', 'Eloston /ungoogled-chromium', 'pytorch /fairseq', 'ckan /ckan', 'lyhue1991 /eat_tensorflow2_in_30_days', 'pennersr /django-allauth', 'miemie2013 /Keras-YOLOv4']\n"
     ]
    }
   ],
   "source": [
    "repository = soup1.find_all('h1', attrs={'class':'h3 lh-condensed'})\n",
    "name_repository=[]\n",
    "for x in repository:\n",
    "    name_repository.append(x.find(\"a\").get_text().replace(\"\\n\",\"\").replace(\"        \",\"\").replace(\"      \",\"\"))\n",
    "print(name_repository)"
   ]
  },
  {
   "cell_type": "markdown",
   "metadata": {},
   "source": [
    "#### Display all the image links from Walt Disney wikipedia page"
   ]
  },
  {
   "cell_type": "code",
   "execution_count": 60,
   "metadata": {
    "collapsed": true
   },
   "outputs": [
    {
     "data": {
      "text/plain": [
       "'\\n\\n\\n\\nWalt Disney - Wikipedia\\ndocument.documentElement.className=\"client-js\";RLCONF={\"wgBreakFrames\":!1,\"wgSeparatorTransformTable\":[\"\",\"\"],\"wgDigitTransformTable\":[\"\",\"\"],\"wgDefaultDateFormat\":\"dmy\",\"wgMonthNames\":[\"\",\"January\",\"February\",\"March\",\"April\",\"May\",\"June\",\"July\",\"August\",\"September\",\"October\",\"November\",\"December\"],\"wgRequestId\":\"5390a08a-fb23-49ba-a656-d1edf5f6caa9\",\"wgCSPNonce\":!1,\"wgCanonicalNamespace\":\"\",\"wgCanonicalSpecialPageName\":!1,\"wgNamespaceNumber\":0,\"wgPageName\":\"Walt_Disney\",\"wgTitle\":\"Walt Disney\",\"wgCurRevisionId\":972127952,\"wgRevisionId\":972127952,\"wgArticleId\":32917,\"wgIsArticle\":!0,\"wgIsRedirect\":!1,\"wgAction\":\"view\",\"wgUserName\":null,\"wgUserGroups\":[\"*\"],\"wgCategories\":[\"Pages containing links to subscription-only content\",\"Wikipedia extended-confirmed-protected pages\",\"Wikipedia indefinitely move-protected pages\",\"Articles with short description\",\"Short description is different from Wikidata\",\"Featured articles\",\"Use mdy dates from April 2017\",\\n\"Use American English from May 2016\",\"All Wikipedia articles written in American English\",\"Biography with signature\",\"Articles with hCards\",\"Articles containing German-language text\",\"Articles containing French-language text\",\"Articles containing Spanish-language text\",\"CS1 maint: ref=harv\",\"Articles using Template:The Interviews people\",\"Wikipedia articles with AAG identifiers\",\"Wikipedia articles with BIBSYS identifiers\",\"Wikipedia articles with BNE identifiers\",\"Wikipedia articles with BNF identifiers\",\"Wikipedia articles with CANTIC identifiers\",\"Wikipedia articles with CINII identifiers\",\"Wikipedia articles with GND identifiers\",\"Wikipedia articles with ISNI identifiers\",\"Wikipedia articles with LCCN identifiers\",\"Wikipedia articles with MusicBrainz identifiers\",\"Wikipedia articles with NARA identifiers\",\"Wikipedia articles with NDL identifiers\",\"Wikipedia articles with NKC identifiers\",\"Wikipedia articles with NLA identifiers\",\"Wikipedia articles with NLI identifiers\",\\n\"Wikipedia articles with NLK identifiers\",\"Wikipedia articles with NLR identifiers\",\"Wikipedia articles with NTA identifiers\",\"Wikipedia articles with PIC identifiers\",\"Wikipedia articles with RKDartists identifiers\",\"Wikipedia articles with SELIBR identifiers\",\"Wikipedia articles with SNAC-ID identifiers\",\"Wikipedia articles with SUDOC identifiers\",\"Wikipedia articles with Trove identifiers\",\"Wikipedia articles with ULAN identifiers\",\"Wikipedia articles with VIAF identifiers\",\"Wikipedia articles with WorldCat identifiers\",\"AC with 26 elements\",\"Articles containing video clips\",\"Walt Disney\",\"1901 births\",\"1966 deaths\",\"20th-century American artists\",\"20th-century American businesspeople\",\"20th-century American male actors\",\"20th-century American writers\",\"Academy Honorary Award recipients\",\"American animated film producers\",\"American anti-communists\",\"American anti-fascists\",\"American cartoonists\",\"American company founders\",\"Film producers from Missouri\",\\n\"American film studio executives\",\"American film production company founders\",\"American male screenwriters\",\"American male voice actors\",\"American mass media owners\",\"American people of Canadian descent\",\"American people of English descent\",\"American people of German descent\",\"American people of Irish descent\",\"American Red Cross personnel\",\"Philanthropists from Illinois\",\"American television hosts\",\"Amusement park owners\",\"Animators from Illinois\",\"Animators from Missouri\",\"Artists from Chicago\",\"Burials at Forest Lawn Memorial Park (Glendale)\",\"Deaths from cancer in California\",\"Cecil B. DeMille Award Golden Globe winners\",\"César Honorary Award recipients\",\"Chairmen of Disney\",\"Congressional Gold Medal recipients\",\"Deaths from lung cancer\",\"Disney family\",\"Disney executives\",\"Film directors from Missouri\",\"History of animation\",\"Kansas City Art Institute alumni\",\"Male actors from Missouri\",\"People from Marceline, Missouri\",\"Presidential Medal of Freedom recipients\",\\n\"Primetime Emmy Award winners\",\"Producers of Best Documentary Short Subject Academy Award winners\",\"Producers of Live Action Short Film Academy Award winners\",\"Recipients of the Irving G. Thalberg Memorial Award\",\"School of the Art Institute of Chicago alumni\",\"Writers from Chicago\",\"Writers from Missouri\",\"Screenwriters from Illinois\",\"Recipients of the Silver Buffalo Award\",\"People from Holmby Hills, Los Angeles\",\"Disease-related deaths in California\",\"Officers Crosses of the Order of Merit of the Federal Republic of Germany\",\"Chevaliers of the Légion d\\'honneur\",\"Producers of Best Animated Short Academy Award winners\",\"20th-century American male writers\"],\"wgPageContentLanguage\":\"en\",\"wgPageContentModel\":\"wikitext\",\"wgRelevantPageName\":\"Walt_Disney\",\"wgRelevantArticleId\":32917,\"wgIsProbablyEditable\":!1,\"wgRelevantPageIsProbablyEditable\":!1,\"wgRestrictionEdit\":[\"extendedconfirmed\"],\"wgRestrictionMove\":[\"sysop\"],\"wgMediaViewerOnClick\":!0,\"wgMediaViewerEnabledByDefault\":!0,\\n\"wgPopupsReferencePreviews\":!1,\"wgPopupsConflictsWithNavPopupGadget\":!1,\"wgVisualEditor\":{\"pageLanguageCode\":\"en\",\"pageLanguageDir\":\"ltr\",\"pageVariantFallbacks\":\"en\"},\"wgMFDisplayWikibaseDescriptions\":{\"search\":!0,\"nearby\":!0,\"watchlist\":!0,\"tagline\":!1},\"wgWMESchemaEditAttemptStepOversample\":!1,\"wgULSCurrentAutonym\":\"English\",\"wgNoticeProject\":\"wikipedia\",\"wgCentralAuthMobileDomain\":!1,\"wgEditSubmitButtonLabelPublish\":!0,\"wgULSPosition\":\"interlanguage\",\"wgWikibaseItemId\":\"Q8704\"};RLSTATE={\"ext.globalCssJs.user.styles\":\"ready\",\"site.styles\":\"ready\",\"noscript\":\"ready\",\"user.styles\":\"ready\",\"ext.globalCssJs.user\":\"ready\",\"user\":\"ready\",\"user.options\":\"loading\",\"ext.cite.styles\":\"ready\",\"ext.tmh.thumbnail.styles\":\"ready\",\"skins.vector.styles.legacy\":\"ready\",\"jquery.makeCollapsible.styles\":\"ready\",\"mediawiki.toc.styles\":\"ready\",\"ext.visualEditor.desktopArticleTarget.noscript\":\"ready\",\"ext.uls.interlanguage\":\"ready\",\"ext.wikimediaBadges\":\"ready\",\"wikibase.client.init\"\\n:\"ready\"};RLPAGEMODULES=[\"ext.cite.ux-enhancements\",\"mw.MediaWikiPlayer.loader\",\"mw.PopUpMediaTransform\",\"mw.TMHGalleryHook.js\",\"ext.scribunto.logs\",\"site\",\"mediawiki.page.startup\",\"mediawiki.page.ready\",\"jquery.makeCollapsible\",\"mediawiki.toc\",\"skins.vector.legacy.js\",\"ext.gadget.ReferenceTooltips\",\"ext.gadget.charinsert\",\"ext.gadget.extra-toolbar-buttons\",\"ext.gadget.refToolbar\",\"ext.gadget.switcher\",\"ext.centralauth.centralautologin\",\"mmv.head\",\"mmv.bootstrap.autostart\",\"ext.popups\",\"ext.visualEditor.desktopArticleTarget.init\",\"ext.visualEditor.targetLoader\",\"ext.eventLogging\",\"ext.wikimediaEvents\",\"ext.navigationTiming\",\"ext.uls.compactlinks\",\"ext.uls.interface\",\"ext.cx.eventlogging.campaigns\",\"ext.quicksurveys.init\",\"ext.centralNotice.geoIP\",\"ext.centralNotice.startUp\"];\\n(RLQ=window.RLQ||[]).push(function(){mw.loader.implement(\"user.options@1hzgi\",function($,jQuery,require,module){/*@nomin*/mw.user.tokens.set({\"patrolToken\":\"+\\\\\\\\\",\"watchToken\":\"+\\\\\\\\\",\"csrfToken\":\"+\\\\\\\\\"});\\n});});\\n\\n\\n\\n\\n\\n\\n\\n\\n\\n\\n\\n\\n\\n\\n\\n\\n\\n\\n\\n\\n\\n\\n\\n\\n\\n\\n\\n\\nWalt Disney\\n\\nFrom Wikipedia, the free encyclopedia\\n\\n\\n\\nJump to navigation\\nJump to search\\nThis article is about the man. For the company he co-founded, see The Walt Disney Company. For other uses, see Walt Disney (disambiguation).\\n\\n\\nAmerican entrepreneur, animator and producer\\n\\n\\nWalt DisneyDisney in 1946BornWalter Elias Disney(1901-12-05)December 5, 1901Chicago, Illinois, U.S.DiedDecember 15, 1966(1966-12-15) (aged\\xa065)Burbank, California, U.S.Occupation\\nEntrepreneur\\nanimator\\nvoice actor\\nfilm producer\\nBoard member\\xa0ofThe Walt Disney Company (1923–1966)RelativesSee Disney familyAwards\\n26 Academy Awards(22 competitive, 4 honorary)\\n3 Golden Globe Awards\\n1 Emmy Award\\nSignature\\nWalter Elias Disney (/ˈdɪzni/;[1] December 5, 1901\\xa0–\\xa0December 15, 1966) was an American entrepreneur, animator, writer, voice actor and film producer. A pioneer of the American animation industry, he introduced several developments in the production of cartoons. As a film producer, Disney holds the record for most Academy Awards earned by an individual, having won 22 Oscars from 59 nominations. He was presented with two Golden Globe Special Achievement Awards and an Emmy Award, among other honors. Several of his films are included in the National Film Registry by the Library of Congress.\\nBorn in Chicago in 1901, Disney developed an early interest in drawing. He took art classes as a boy and got a job as a commercial illustrator at the age of 18. He moved to California in the early 1920s and set up the Disney Brothers Studio with his brother Roy. With Ub Iwerks, Walt developed the character Mickey Mouse in 1928, his first highly popular success; he also provided the voice for his creation in the early years. As the studio grew, Disney became more adventurous, introducing synchronized sound, full-color three-strip Technicolor, feature-length cartoons and technical developments in cameras. The results, seen in features such as Snow White and the Seven Dwarfs (1937), Pinocchio, Fantasia (both 1940), Dumbo (1941), and Bambi (1942), furthered the development of animated film. New animated and live-action films followed after World War II, including the critically successful Cinderella (1950) and Mary Poppins (1964), the latter of which received five Academy Awards.\\nIn the 1950s, Disney expanded into the amusement park industry, and in 1955 he opened Disneyland in Anaheim, California. To fund the project he diversified into television programs, such as Walt Disney\\'s Disneyland and The Mickey Mouse Club; he was also involved in planning the 1959 Moscow Fair, the 1960 Winter Olympics, and the 1964 New York World\\'s Fair. In 1965, he began development of another theme park, Disney World, the heart of which was to be a new type of city, the \"Experimental Prototype Community of Tomorrow\" (EPCOT). Disney was a heavy smoker throughout his life and died of lung cancer in December 1966 before either the park or the EPCOT project were completed.\\nDisney was a shy, self-deprecating and insecure man in private but adopted a warm and outgoing public persona. He had high standards and high expectations of those with whom he worked. Although there have been accusations that he was racist or anti-Semitic, they have been contradicted by many who knew him. His reputation changed in the years after his death, from a purveyor of homely patriotic values to a representative of American imperialism. He nevertheless remains an important figure in the history of animation and in the cultural history of the United States, where he is considered a national cultural icon. His film work continues to be shown and adapted; his namesake studio and company maintains high standards in its production of popular entertainment, and the Disney amusement parks have grown in size and number to attract visitors in several countries.\\n\\nContents\\n\\n1 Biography\\n\\n1.1 Early life: 1901–1920\\n1.2 Early career: 1920–1928\\n1.3 Creation of Mickey Mouse to the first Academy Awards: 1928–1933\\n1.4 Golden age of animation: 1934–1941\\n1.5 World War II and beyond: 1941–1950\\n1.6 Theme parks, television and other interests: 1950–1966\\n1.7 Illness, death and aftermath\\n\\n\\n2 Honors\\n3 Personality and reputation\\n4 Notes and references\\n\\n4.1 Notes\\n4.2 References\\n4.3 Sources\\n\\n\\n5 External links\\n\\n\\nBiography\\nEarly life: 1901–1920\\nWalt Disney was born on December 5, 1901, at 1249 Tripp Avenue, in Chicago\\'s Hermosa neighborhood.[a] He was the fourth son of Elias Disney\\u200d—\\u200cborn in the Province of Canada, to Irish parents\\u200d—\\u200cand Flora (née Call), an American of German and English descent.[3][4][b] Aside from Disney, Elias and Flora\\'s sons were Herbert, Raymond and Roy; the couple had a fifth child, Ruth, in December 1903.[7] In 1906, when Disney was four, the family moved to a farm in Marceline, Missouri, where his uncle Robert had just purchased land. In Marceline, Disney developed his interest in drawing when he was paid to draw the horse of a retired neighborhood doctor.[8] Elias was a subscriber to the Appeal to Reason newspaper, and Disney practiced drawing by copying the front-page cartoons of Ryan Walker.[9] Disney also began to develop an ability to work with watercolors and crayons.[4] He lived near the Atchison, Topeka and Santa Fe Railway line and became enamored with trains.[10] He and his younger sister Ruth started school at the same time at the Park School in Marceline in late 1909.[11]\\nIn 1911, the Disneys moved to Kansas City, Missouri.[12] There, Disney attended the Benton Grammar School, where he met fellow-student Walter Pfeiffer, who came from a family of theatre fans and introduced Disney to the world of vaudeville and motion pictures. Before long, he was spending more time at the Pfeiffers\\' house than at home.[13] Elias had purchased a newspaper delivery route for The Kansas City Star and Kansas City Times. Disney and his brother Roy woke up at 4:30 every morning to deliver the Times before school and repeated the round for the evening Star after school. The schedule was exhausting, and Disney often received poor grades after falling asleep in class, but he continued his paper route for more than six years.[14] He attended Saturday courses at the Kansas City Art Institute and also took a correspondence course in cartooning.[4][15]\\nIn 1917, Elias bought stock in a Chicago jelly producer, the O-Zell Company, and moved back to the city with his family.[16] Disney enrolled at McKinley High School and became the cartoonist of the school newspaper, drawing patriotic pictures about World War I;[17][18] he also took night courses at the Chicago Academy of Fine Arts.[19] In mid-1918, Disney attempted to join the United States Army to fight against the Germans, but he was rejected for being too young. After forging the date of birth on his birth certificate, he joined the Red Cross in September 1918 as an ambulance driver. He was shipped to France but arrived in November, after the armistice.[20] He drew cartoons on the side of his ambulance for decoration and had some of his work published in the army newspaper Stars and Stripes.[21] Disney returned to Kansas City in October 1919,[22] where he worked as an apprentice artist at the Pesmen-Rubin Commercial Art Studio. There, he drew commercial illustrations for advertising, theater programs and catalogs. He also befriended fellow artist Ub Iwerks.[23]\\n\\nEarly career: 1920–1928\\n Walt Disney\\'s business envelope featured a self-portrait c.\\u20091921\\nIn January 1920, as Pesmen-Rubin\\'s revenue declined after Christmas, Disney and Iwerks were laid off. They started their own business, the short-lived Iwerks-Disney Commercial Artists.[24] Failing to attract many customers, Disney and Iwerks agreed that Disney should leave temporarily to earn money at the Kansas City Film Ad Company, run by A.\\xa0V. Cauger; the following month Iwerks, who was not able to run their business alone, also joined.[25] The company produced commercials using the cutout animation technique.[26] Disney became interested in animation, although he preferred drawn cartoons such as Mutt and Jeff and Koko the Clown. With the assistance of a borrowed book on animation and a camera, he began experimenting at home.[27][c] He came to the conclusion that cel animation was more promising than the cutout method.[d] Unable to persuade Cauger to try cel animation at the company, Disney opened a new business with a co-worker from the Film Ad Co, Fred Harman.[29] Their main client was the local Newman Theater, and the short cartoons they produced were sold as \"Newman\\'s Laugh-O-Grams\".[30] Disney studied Paul Terry\\'s Aesop\\'s Fables as a model, and the first six \"Laugh-O-Grams\" were modernized fairy tales.[31]\\n\\nPlay media Newman Laugh-O-Gram (1921)\\nIn May 1921, the success of the \"Laugh-O-Grams\" led to the establishment of Laugh-O-Gram Studio, for which he hired more animators, including Fred Harman\\'s brother Hugh, Rudolf Ising and Iwerks.[32] The Laugh-O-Grams cartoons did not provide enough income to keep the company solvent, so Disney started production of Alice\\'s Wonderland\\u200d—\\u200cbased on Alice\\'s Adventures in Wonderland\\u200d—\\u200cwhich combined live action with animation; he cast Virginia Davis in the title role.[33] The result, a 12-and-a-half-minute, one-reel film, was completed too late to save Laugh-O-Gram Studio, which went into bankruptcy in 1923.[34]\\nDisney moved to Hollywood in July 1923. Although New York was the center of the cartoon industry, he was attracted to Los Angeles because his brother Roy was convalescing from tuberculosis there,[35] and he hoped to become a live-action film director.[36] Disney\\'s efforts to sell Alice\\'s Wonderland were in vain until he heard from New York film distributor Margaret J. Winkler. She was losing the rights to both the Out of the Inkwell and Felix the Cat cartoons, and needed a new series. In October, they signed a contract for six Alice comedies, with an option for two further series of six episodes each.[36][37] Disney and his brother Roy formed the Disney Brothers Studio\\u200d—\\u200cwhich later became The Walt Disney Company\\u200d—\\u200cto produce the films;[38][39] they persuaded Davis and her family to relocate to Hollywood to continue production, with Davis on contract at $100 a month. In July 1924, Disney also hired Iwerks, persuading him to relocate to Hollywood from Kansas City.[40]\\nEarly in 1925, Disney hired an ink artist, Lillian Bounds. They married in July of that year, at her brother\\'s house in her hometown of Lewiston, Idaho.[41] The marriage was generally happy, according to Lillian, although according to Disney\\'s biographer Neal Gabler she did not \"accept Walt\\'s decisions meekly or his status unquestionably, and she admitted that he was always telling people \\'how henpecked he is\\'.\"[42][e] Lillian had little interest in films or the Hollywood social scene and she was, in the words of the historian Steven Watts, \"content with household management and providing support for her husband\".[43] Their marriage produced two daughters, Diane (born December 1933) and Sharon (adopted in December 1936, born six weeks previously).[44][f] Within the family, neither Disney nor his wife hid the fact Sharon had been adopted, although they became annoyed if people outside the family raised the point.[45] The Disneys were careful to keep their daughters out of the public eye as much as possible, particularly in the light of the Lindbergh kidnapping; Disney took steps to ensure his daughters were not photographed by the press.[46]\\n\\n Theatrical poster for Trolley Troubles (1927)\\nBy 1926 Winkler\\'s role in the distribution of the Alice series had been handed over to her husband, the film producer Charles Mintz, although the relationship between him and Disney was sometimes strained.[47] The series ran until July 1927,[48] by which time Disney had begun to tire of it and wanted to move away from the mixed format to all animation.[47][49] After Mintz requested new material to distribute through Universal Pictures, Disney and Iwerks created Oswald the Lucky Rabbit, a character Disney wanted to be \"peppy, alert, saucy and venturesome, keeping him also neat and trim\".[49][50]\\nIn February 1928, Disney hoped to negotiate a larger fee for producing the Oswald series, but found Mintz wanting to reduce the payments. Mintz had also persuaded many of the artists involved to work directly for him, including Harman, Ising, Carman Maxwell and Friz Freleng. Disney also found out that Universal owned the intellectual property rights to Oswald. Mintz threatened to start his own studio and produce the series himself if Disney refused to accept the reductions. Disney declined Mintz\\'s ultimatum and lost most of his animation staff, except Iwerks, who chose to remain with him.[51][52][g]\\n\\nCreation of Mickey Mouse to the first Academy Awards: 1928–1933\\n Disney with Mickey Mouse\\nTo replace Oswald, Disney and Iwerks developed Mickey Mouse, possibly inspired by a pet mouse that Disney had adopted while working in his Laugh-O-Gram studio, although the origins of the character are unclear.[54][h] Disney\\'s original choice of name was Mortimer Mouse, but Lillian thought it too pompous, and suggested Mickey instead.[55][i] Iwerks revised Disney\\'s provisional sketches to make the character easier to animate. Disney, who had begun to distance himself from the animation process,[57] provided Mickey\\'s voice until 1947. In the words of one Disney employee, \"Ub designed Mickey\\'s physical appearance, but Walt gave him his soul.\"[58]\\n\\n The first appearance of Mickey Mouse, in Steamboat Willie (1928)\\nMickey Mouse first appeared in May 1928 as a single test screening of the short Plane Crazy, but it, and the second feature, The Gallopin\\' Gaucho, failed to find a distributor.[59] Following the 1927 sensation The Jazz Singer, Disney used synchronized sound on the third short, Steamboat Willie, to create the first post-produced sound cartoon. After the animation was complete, Disney signed a contract with the former executive of Universal Pictures, Pat Powers, to use the \"Powers Cinephone\" recording system;[60] Cinephone became the new distributor for Disney\\'s early sound cartoons, which soon became popular.[61]\\nTo improve the quality of the music, Disney hired the professional composer and arranger Carl Stalling, on whose suggestion the Silly Symphony series was developed, providing stories through the use of music; the first in the series, The Skeleton Dance (1929), was drawn and animated entirely by Iwerks. Also hired at this time were several local artists, some of whom stayed with the company as core animators; the group later became known as the Nine Old Men.[62][j] Both the Mickey Mouse and Silly Symphonies series were successful, but Disney and his brother felt they were not receiving their rightful share of profits from Powers. In 1930, Disney tried to trim costs from the process by urging Iwerks to abandon the practice of animating every separate cel in favor of the more efficient technique of drawing key poses and letting lower-paid assistants sketch the inbetween poses. Disney asked Powers for an increase in payments for the cartoons. Powers refused and signed Iwerks to work for him; Stalling resigned shortly afterwards, thinking that without Iwerks, the Disney Studio would close.[63] Disney had a nervous breakdown in October 1931\\u200d—\\u200cwhich he blamed on the machinations of Powers and his own overwork\\u200d—\\u200cso he and Lillian took an extended holiday to Cuba and a cruise to Panama to recover.[64]\\n\\n Disney in 1935\\nWith the loss of Powers as distributor, Disney studios signed a contract with Columbia Pictures to distribute the Mickey Mouse cartoons, which became increasingly popular, including internationally.[65][66][k] Disney, always keen to embrace new technology, filmed Flowers and Trees (1932) in full-color three-strip Technicolor;[67] he was also able to negotiate a deal giving him the sole right to use the three-strip process until August 31, 1935.[68] All subsequent Silly Symphony cartoons were in color.[69] Flowers and Trees was popular with audiences[67] and won the Academy Award for best Short Subject (Cartoon) at the 1932 ceremony. Disney had been nominated for another film in that category, Mickey\\'s Orphans, and received an Honorary Award \"for the creation of Mickey Mouse\".[70][71]\\nIn 1933, Disney produced The Three Little Pigs, a film described by the media historian Adrian Danks as \"the most successful short animation of all time\".[72] The film won Disney another Academy Award in the Short Subject (Cartoon) category. The film\\'s success led to a further increase in the studio\\'s staff, which numbered nearly 200 by the end of the year.[73] Disney realized the importance of telling emotionally gripping stories that would interest the audience,[74] and he invested in a \"story department\" separate from the animators, with storyboard artists who would detail the plots of Disney\\'s films.[75]\\n\\nGolden age of animation: 1934–1941\\n Walt Disney introduces each of the seven dwarfs in a scene from the original 1937 Snow White theatrical trailer.\\nBy 1934, Disney had become dissatisfied with producing formulaic cartoon shorts,[76] and believed a feature-length cartoon would be more profitable.[77] The studio began the four-year production of Snow White and the Seven Dwarfs, based on the fairy tale. When news leaked out about the project, many in the film industry predicted it would bankrupt the company; industry insiders nicknamed it \"Disney\\'s Folly\".[78] The film, which was the first animated feature made in full color and sound, cost $1.5\\xa0million to produce\\u200d—\\u200cthree times over budget.[79] To ensure the animation was as realistic as possible, Disney sent his animators on courses at the Chouinard Art Institute;[80] he brought animals into the studio and hired actors so that the animators could study realistic movement.[81] To portray the changing perspective of the background as a camera moved through a scene, Disney\\'s animators developed a multiplane camera which allowed drawings on pieces of glass to be set at various distances from the camera, creating an illusion of depth. The glass could be moved to create the impression of a camera passing through the scene. The first work created on the camera\\u200d—\\u200ca Silly Symphony called The Old Mill (1937)\\u200d—\\u200cwon the Academy Award for Animated Short Film because of its impressive visual power. Although Snow White had been largely finished by the time the multiplane camera had been completed, Disney ordered some scenes be re-drawn to use the new effects.[82]\\nSnow White premiered in December 1937 to high praise from critics and audiences. The film became the most successful motion picture of 1938 and by May 1939 its total gross of $6.5\\xa0million made it the most successful sound film made to that date.[78][l] Disney won another Honorary Academy Award, which consisted of one full-sized and seven miniature Oscar statuettes.[84][m] The success of Snow White heralded one of the most productive eras for the studio; the Walt Disney Family Museum calls the following years \"the \\'Golden Age of Animation\\'\\u202f\".[85][86] With work on Snow White finished, the studio began producing Pinocchio in early 1938 and Fantasia in November of the same year. Both films were released in 1940, and neither performed well at the box office\\u200d—\\u200cpartly because revenues from Europe had dropped following the start of World War II in 1939. The studio made a loss on both pictures and was deeply in debt by the end of February 1941.[87]\\nIn response to the financial crisis, Disney and his brother Roy started the company\\'s first public stock offering in 1940, and implemented heavy salary cuts. The latter measure, and Disney\\'s sometimes high-handed and insensitive manner of dealing with staff, led to a 1941 animators\\' strike which lasted five weeks.[88] While a federal mediator from the National Labor Relations Board negotiated with the two sides, Disney accepted an offer from the Office of the Coordinator of Inter-American Affairs to make a goodwill trip to South America, ensuring he was absent during a resolution he knew would be unfavorable to the studio.[89][n] As a result of the strike\\u200d—\\u200cand the financial state of the company\\u200d—\\u200cseveral animators left the studio, and Disney\\'s relationship with other members of staff was permanently strained as a result.[92] The strike temporarily interrupted the studio\\'s next production, Dumbo (1941), which Disney produced in a simple and inexpensive manner; the film received a positive reaction from audiences and critics alike.[93]\\n\\nWorld War II and beyond: 1941–1950\\n Disney drawing Goofy for a group of girls in Argentina, 1941\\nShortly after the release of Dumbo in October 1941, the U.S. entered World War\\xa0II. Disney formed the Walt Disney Training Films Unit within the company to produce instruction films for the military such as Four Methods of Flush Riveting and Aircraft Production Methods.[94] Disney also met with Henry Morgenthau Jr., the Secretary of the Treasury, and agreed to produce short Donald Duck cartoons to promote war bonds.[95] Disney also produced several propaganda productions, including shorts such as Der Fuehrer\\'s Face\\u200d—\\u200cwhich won an Academy Award\\u200d—\\u200cand the 1943 feature film Victory Through Air Power.[96]\\nThe military films generated only enough revenue to cover costs, and the feature film Bambi\\u200d—\\u200cwhich had been in production since 1937\\u200d—\\u200cunderperformed on its release in April 1942, and lost $200,000 at the box office.[97] On top of the low earnings from Pinocchio and Fantasia, the company had debts of $4\\xa0million with the Bank of America in 1944.[98][o] At a meeting with Bank of America executives to discuss the future of the company, the bank\\'s chairman and founder, Amadeo Giannini, told his executives, \"I\\'ve been watching the Disneys\\' pictures quite closely because I knew we were lending them money far above the financial risk.\\xa0... They\\'re good this year, they\\'re good next year, and they\\'re good the year after.\\xa0... You have to relax and give them time to market their product.\"[99] Disney\\'s production of short films decreased in the late 1940s, coinciding with increasing competition in the animation market from Warner Bros. and Metro-Goldwyn-Mayer. Roy Disney, for financial reasons, suggested more combined animation and live-action productions.[60][p] In 1948, Disney initiated a series of popular live-action nature films, titled True-Life Adventures, with Seal Island the first; the film won the Academy Award in the Best Short Subject (Two-Reel) category.[100]\\nDisney grew more politically conservative as he got older. A Democratic Party supporter until the 1940 presidential election, when he switched allegiance to the Republican Party,[101] he became a generous donor to Thomas\\xa0E.\\xa0Dewey\\'s 1944 bid for the presidency.[102] In 1946, he was a founding member of the Motion Picture Alliance for the Preservation of American Ideals, an organization who stated they \"believ[ed] in, and like, the American Way of Life\\xa0... we find ourselves in sharp revolt against a rising tide of Communism, Fascism and kindred beliefs, that seek by subversive means to undermine and change this way of life\".[103] In 1947, during the Second Red Scare, Disney testified before the House Un-American Activities Committee (HUAC), where he branded Herbert Sorrell, David Hilberman and William Pomerance, former animators and labor union organizers, as communist agitators; Disney stated that the 1941 strike led by them was part of an organized communist effort to gain influence in Hollywood.[104][105]  It was alleged by the New York Times in 1993 that Disney had been passing secret information to the FBI from 1940 until his death in 1966. In return for this information, J. Edgar Hoover allowed Disney to film in FBI headquarters in Washington. Disney was made a \"full Special Agent in Charge Contact\" in 1954.[106]\\n\\n Disney family at Schiphol Airport (1951)\\nIn 1949, Disney and his family moved to a new home in the Holmby Hills district of Los Angeles. With the help of his friends Ward and Betty Kimball, who already had their own backyard railroad, Disney developed blueprints and immediately set to work on creating a miniature live steam railroad for his backyard. The name of the railroad, Carolwood Pacific Railroad, came from his home\\'s location on Carolwood Drive. The miniature working steam locomotive was built by Disney Studios engineer Roger E. Broggie, and Disney named it Lilly Belle after his wife;[107] after three years Disney ordered it into storage due to a series of accidents involving his guests.[108]\\n\\nTheme parks, television and other interests: 1950–1966\\nIn early 1950, Disney produced Cinderella, his studio\\'s first animated feature in eight years. It was popular with critics and theater audiences. Costing $2.2\\xa0million to produce, it earned nearly $8\\xa0million in its first year.[109][q] Disney was less involved than he had been with previous pictures because of his involvement in his first entirely live-action feature, Treasure Island (1950), which was shot in Britain, as was The Story of Robin Hood and His Merrie Men (1952).[110] Other all-live-action features followed, many of which had patriotic themes.[60][r] He continued to produce full-length animated features too, including Alice in Wonderland (1951) and Peter Pan (1953). From the early to mid-1950s, Disney began to devote less attention to the animation department, entrusting most of its operations to his key animators, the Nine Old Men, although he was always present at story meetings. Instead, he started concentrating on other ventures.[111]\\n\\n Disney shows the plans of Disneyland to officials from Orange County in December 1954\\nFor several years Disney had been considering building a theme park. When he visited Griffith Park in Los Angeles with his daughters, he wanted to be in a clean, unspoiled park, where both children and their parents could have fun.[112] He visited the Tivoli Gardens in Copenhagen, Denmark, and was heavily influenced by the cleanliness and layout of the park.[113] In March 1952 he received zoning permission to build a theme park in Burbank, near the Disney studios.[114] This site proved too small, and a larger plot in Anaheim, 35 miles (56\\xa0km) south of the studio, was purchased. To distance the project from the studio\\u200d—\\u200cwhich might attract the criticism of shareholders\\u200d—\\u200cDisney formed WED Enterprises (now Walt Disney Imagineering) and used his own money to fund a group of designers and animators to work on the plans;[115][116] those involved became known as \"Imagineers\".[117] After obtaining bank funding he invited other stockholders, American Broadcasting-Paramount Theatres\\u200d—\\u200cpart of American Broadcasting Company (ABC)\\u200d—\\u200cand Western Printing and Lithographing Company.[60] In mid-1954, Disney sent his Imagineers to every amusement park in the U.S. to analyze what worked and what pitfalls or problems there were in the various locations and incorporated their findings into his design.[118] Construction work started in July 1954, and Disneyland opened in July 1955; the opening ceremony was broadcast on ABC, which reached 70\\xa0million viewers.[119] The park was designed as a series of themed lands, linked by the central Main Street, U.S.A.\\u200d—\\u200ca replica of the main street in his hometown of Marceline. The connected themed areas were Adventureland, Frontierland, Fantasyland and Tomorrowland. The park also contained the narrow gauge Disneyland Railroad that linked the lands; around the outside of the park was a high berm to separate the park from the outside world.[120][121] An editorial in The New York Times considered that Disney had \"tastefully combined some of the pleasant things of yesterday with fantasy and dreams of tomorrow\".[122] Although there were early minor problems with the park, it was a success, and after a month\\'s operation, Disneyland was receiving over 20,000 visitors a day; by the end of its first year, it attracted 3.6\\xa0million guests.[123]\\nThe money from ABC was contingent on Disney television programs.[124] The studio had been involved in a successful television special on Christmas Day 1950 about the making of Alice in Wonderland. Roy believed the program added millions to the box office takings. In a March 1951 letter to shareholders, he wrote that \"television can be a most powerful selling aid for us, as well as a source of revenue. It will probably be on this premise that we enter television when we do\".[60] In 1954, after the Disneyland funding had been agreed, ABC broadcast Walt Disney\\'s Disneyland, an anthology consisting of animated cartoons, live-action features and other material from the studio\\'s library. The show was successful in terms of ratings and profits, earning an audience share of over 50%.[125][s] In April 1955, Newsweek called the series an \"American institution\".[126] ABC was pleased with the ratings, leading to Disney\\'s first daily television program, The Mickey Mouse Club, a variety show catering specifically to children.[127] The program was accompanied by merchandising through various companies (Western Printing, for example, had been producing coloring books and comics for over 20 years, and produced several items connected to the show).[128] One of the segments of Disneyland consisted of the five-part miniseries Davy Crockett which, according to Gabler, \"became an overnight sensation\".[129] The show\\'s theme song, \"The Ballad of Davy Crockett\", became internationally popular, and ten million records were sold.[130] As a result, Disney formed his own record production and distribution entity, Disneyland Records.[131]\\nAs well as the construction of Disneyland, Disney worked on other projects away from the studio. He was consultant to the 1959 American National Exhibition in Moscow; Disney Studios\\' contribution was America the Beautiful, a 19-minute film in the 360-degree Circarama theater that was one of the most popular attractions.[60] The following year he acted as the chairman of the Pageantry Committee for the 1960 Winter Olympics in Squaw Valley, California, where he designed the opening, closing and medal ceremonies.[132]\\n\\n Disney in 1954\\nDespite the demands wrought by non-studio projects, Disney continued to work on film and television projects. In 1955, he was involved in \"Man in Space\", an episode of the Disneyland series, which was made in collaboration with NASA rocket designer Wernher von Braun.[t] Disney also oversaw aspects of the full-length features Lady and the Tramp (the first animated film in CinemaScope) in 1955, Sleeping Beauty (the first animated film in Technirama 70 mm film) in 1959, One Hundred and One Dalmatians (the first animated feature film to use Xerox cels) in 1961, and The Sword in the Stone in 1963.[134]\\nIn 1964, Disney produced Mary Poppins, based on the book series by P. L. Travers; he had been trying to acquire the rights to the story since the 1940s.[135] It became the most successful Disney film of the 1960s, although Travers disliked the film intensely and regretted having sold the rights.[136] The same year he also became involved in plans to expand the California Institute of the Arts (colloquially called CalArts), and had an architect draw up blueprints for a new building.[137]\\nDisney provided four exhibits for the 1964 New York World\\'s Fair, for which he obtained funding from selected corporate sponsors. For PepsiCo, who planned a tribute to UNICEF, Disney developed It\\'s a Small World, a boat ride with audio-animatronic dolls depicting children of the world; Great Moments with Mr. Lincoln contained an animatronic Abraham Lincoln giving excerpts from his speeches; Carousel of Progress promoted the importance of electricity; and Ford\\'s Magic Skyway portrayed the progress of mankind. Elements of all four exhibits\\u200d—\\u200cprincipally concepts and technology\\u200d—\\u200cwere re-installed in Disneyland, although It\\'s a Small World is the ride that most closely resembles the original.[138][139]\\nDuring the early to mid-1960s, Disney developed plans for a ski resort in Mineral King, a glacial valley in California\\'s Sierra Nevada. He hired experts such as the renowned Olympic ski coach and ski-area designer Willy Schaeffler.[140][141][u] With income from Disneyland accounting for an increasing proportion of the studio\\'s income, Disney continued to look for venues for other attractions. In late 1965, he announced plans to develop another theme park to be called \"Disney World\" (now Walt Disney World), a few miles southwest of Orlando, Florida. Disney World was to include the \"Magic Kingdom\"\\u200d—\\u200ca larger and more elaborate version of Disneyland\\u200d—\\u200cplus golf courses and resort hotels. The heart of Disney World was to be the \"Experimental Prototype Community of Tomorrow\" (EPCOT),[143] which he described as:\\n\\nan experimental prototype community of tomorrow that will take its cue from the new ideas and new technologies that are now emerging from the creative centers of American industry. It will be a community of tomorrow that will never be completed, but will always be introducing and testing and demonstrating new materials and systems. And EPCOT will always be a showcase to the world for the ingenuity and imagination of American free enterprise.[144]\\nDuring 1966, Disney cultivated businesses willing to sponsor EPCOT.[145] He increased his involvement in the studio\\'s films, and was heavily involved in the story development of The Jungle Book, the live-action musical feature The Happiest Millionaire (both 1967) and the animated short Winnie the Pooh and the Blustery Day.[146]\\n\\nIllness, death and aftermath\\n Grave of Walt Disney at Forest Lawn, Glendale\\nDisney had been a heavy smoker since World War\\xa0I. He did not use cigarettes with filters and had smoked a pipe as a young man. In November 1966, he was diagnosed with lung cancer and was treated with cobalt therapy. On November 30 he felt unwell and was taken to St. Joseph Hospital where, on December 15, ten days after his 65th birthday, he died of circulatory collapse caused by the cancer.[147] His remains were cremated two days later and his ashes interred at the Forest Lawn Memorial Park in Glendale, California.[148][v]\\nThe release of The Jungle Book and The Happiest Millionaire in 1967 raised the total number of feature films that Disney had been involved in to 81.[17] When Winnie the Pooh and the Blustery Day was released in 1968, it earned Disney an Academy Award in the Short Subject (Cartoon) category, awarded posthumously.[151] After Disney\\'s death, his studios continued to produce live-action films prolifically but largely abandoned animation until the late 1980s, after which there was what The New York Times describes as the \"Disney Renaissance\" that began with The Little Mermaid (1989).[152] Disney\\'s companies continue to produce successful film, television and stage entertainment.[153]\\n\\n Roy O. Disney finished the building of Walt Disney World\\nDisney\\'s plans for the futuristic city of EPCOT did not come to fruition. After Disney\\'s death, his brother Roy deferred his retirement to take full control of the Disney companies. He changed the focus of the project from a town to an attraction.[154] At the inauguration in 1971, Roy dedicated Walt Disney World to his brother.[155][w] Walt Disney World expanded with the opening of Epcot Center in 1982; Walt Disney\\'s vision of a functional city was replaced by a park more akin to a permanent world\\'s fair.[157] In 2009, the Walt Disney Family Museum, designed by Disney\\'s daughter Diane and her son Walter E. D. Miller, opened in the Presidio of San Francisco.[158] Thousands of artifacts from Disney\\'s life and career are on display, including numerous awards that he received.[159] In 2014, the Disney theme parks around the world hosted approximately 134 million visitors.[160]\\nDisney has been portrayed numerous times in fictional works. H. G. Wells references Disney in his 1938 novel The Holy Terror, in which World Dictator Rud fears that Donald Duck is meant to lampoon the dictator.[161] Disney was portrayed by Len Cariou in the 1995 made-for-TV film A Dream Is a Wish Your Heart Makes: The Annette Funicello Story,[162] and by Tom Hanks in the 2013 film Saving Mr. Banks.[163] In 2001, the German author Peter Stephan Jungk published Der König von Amerika (trans: The King of America), a fictional work of Disney\\'s later years that re-imagines him as a power-hungry racist. The composer Philip Glass later adapted the book into the opera The Perfect American (2013).[164]\\n\\nHonors\\nSee also: List of Academy Awards for Walt Disney\\n Display case in the lobby of The Walt Disney Family Museum showing many of the Academy Awards won by Disney\\nDisney received 59 Academy Award nominations, including 22 awards: both totals are records.[165] He was nominated for three Golden Globe Awards, but did not win, but he was presented with two Special Achievement Awards\\u200d—\\u200cfor Bambi (1942) and The Living Desert (1953)\\u200d—\\u200cand the Cecil B. DeMille Award.[166] He also received four Emmy Award nominations, winning once, for Best Producer for the Disneyland television series.[167] Several of his films are included in the United States National Film Registry by the Library of Congress as \"culturally, historically, or aesthetically significant\": Steamboat Willie, The Three Little Pigs, Snow White and the Seven Dwarfs, Fantasia, Pinocchio, Bambi, Dumbo and Mary Poppins.[168] In 1998, the American Film Institute published a list of the 100 greatest American films, according to industry experts; the list included Snow White and the Seven Dwarfs (at number 49), and Fantasia (at 58).[169]\\nIn February 1960, Disney was inducted to the Hollywood Walk of Fame with two stars, one for motion pictures and the other for his television work;[170] Mickey Mouse was given his own star for motion pictures in 1978.[171] Disney was also inducted into the Television Hall of Fame in 1986,[172] the California Hall of Fame in December 2006,[173] and was the inaugural recipient of a star on the Anaheim walk of stars in 2014.[174]\\nThe Walt Disney Family Museum records that he \"along with members of his staff, received more than 950 honors and citations from throughout the world\".[17] He was made a Chevalier in the French Légion d\\'honneur in 1935,[175] and in 1952 he was awarded the country\\'s highest artistic decoration, the Officer d\\'Academie.[176] Other national awards include Thailand\\'s Order of the Crown (1960); Germany\\'s Order of Merit (1956),[177] Brazil\\'s Order of the Southern Cross (1941)[178] and Mexico\\'s Order of the Aztec Eagle (1943).[179] In the United States, he received the Presidential Medal of Freedom on September 14, 1964,[180] and on May 24, 1968, he was posthumously awarded the Congressional Gold Medal.[181] He received the Showman of the World Award from the National Association of Theatre Owners,[179] and in 1955, the National Audubon Society awarded Disney its highest honor, the Audubon Medal, for promoting the \"appreciation and understanding of nature\" through his True-Life Adventures nature films.[182] A minor planet discovered in 1980 by astronomer Lyudmila Karachkina, was named 4017 Disneya,[183] and he was also awarded honorary degrees from Harvard, Yale, the University of Southern California and the University of California, Los Angeles.[17]\\n\\nPersonality and reputation\\n 1968 U.S. postage stamp\\nDisney\\'s public persona was very different from his actual personality.[184] Playwright Robert E. Sherwood described him as \"almost painfully shy\\xa0... diffident\" and self-deprecating.[185] According to his biographer Richard Schickel, Disney hid his shy and insecure personality behind his public identity.[186] Kimball argues that Disney \"played the role of a bashful tycoon who was embarrassed in public\" and knew that he was doing so.[187] Disney acknowledged the façade and told a friend that \"I\\'m not Walt Disney. I do a lot of things Walt Disney would not do. Walt Disney does not smoke. I smoke. Walt Disney does not drink. I drink.\"[188] Critic Otis Ferguson, in The New Republic, called the private Disney: \"common and everyday, not inaccessible, not in a foreign language, not suppressed or sponsored or anything. Just Disney.\"[187] Many of those with whom Disney worked commented that he gave his staff little encouragement due to his exceptionally high expectations. Norman recalls that when Disney said \"That\\'ll work\", it was an indication of high praise.[189] Instead of direct approval, Disney gave high-performing staff financial bonuses, or recommended certain individuals to others, expecting that his praise would be passed on.[190]\\nViews of Disney and his work have changed over the decades, and there have been polarized opinions.[191] Mark Langer, in the American Dictionary of National Biography, writes that \"Earlier evaluations of Disney hailed him as a patriot, folk artist, and popularizer of culture. More recently, Disney has been regarded as a paradigm of American imperialism and intolerance, as well as a debaser of culture.\"[60] Steven Watts wrote that some denounce Disney \"as a cynical manipulator of cultural and commercial formulas\",[191] while PBS records that critics have censured his work because of its \"smooth façade of sentimentality and stubborn optimism, its feel-good re-write of American history\".[192] Although Disney\\'s films have been highly praised, very popular and commercially successful over time,[60][193] there were criticisms by reviewers. Caroline Lejeune comments in The Observer that Snow White (1937) \"has more faults than any earlier Disney cartoon. It is vulnerable again and again to the barbed criticisms of the experts. Sometimes it is, frankly, badly drawn.\"[194] Robin Allen, writing for The Times, notes that Fantasia (1940) was \"condemned for its vulgarity and lurches into bathos\",[195] while Lejeune, reviewing Alice in Wonderland (1951), feels the film \"may drive lovers of Lewis Carroll to frenzy\".[196] Peter Pan (1953) was criticized in The Times as \"a children\\'s classic vulgarized\" with \"Tinker Bell\\xa0... a peroxided American cutie\". The reviewer opined that Disney \"has slaughtered good Barrie and has only second-rate Disney to put in its place\".[197]\\nDisney has been accused of anti-Semitism,[198][x] although none of his employees—including the animator Art Babbitt, who disliked Disney intensely—ever accused him of making anti-Semitic slurs or taunts.[200] The Walt Disney Family Museum acknowledges that ethnic stereotypes common to films of the 1930s were included in some early cartoons.[y] Disney donated regularly to Jewish charities, he was named \"1955 Man of the Year\" by the B\\'nai B\\'rith chapter in Beverly Hills,[201][202] and his studio employed a number of Jews, some of whom were in influential positions.[203][z] Gabler, the first writer to gain unrestricted access to the Disney archives, concludes that the available evidence does not support accusations of anti-Semitism and that Disney was \"not [anti-Semitic] in the conventional sense that we think of someone as being an anti-Semite\". Gabler concludes that \"though Walt himself, in my estimation, was not anti-Semitic, nevertheless, he willingly allied himself with people who were anti-Semitic [meaning some members of the MPAPAI], and that reputation stuck. He was never really able to expunge it throughout his life\".[204] Disney distanced himself from the Motion Picture Alliance in the 1950s.[205]\\nDisney has also been accused of other forms of racism because some of his productions released between the 1930s and 1950s contain racially insensitive material.[206][aa] The feature film Song of the South was criticized by contemporary film critics, the National Association for the Advancement of Colored People, and others for its perpetuation of black stereotypes,[207] but Disney later campaigned successfully for an Honorary Academy Award for its star, James Baskett, the first black actor so honored.[208][ab] Gabler argues that \"Walt Disney was no racist. He never, either publicly or privately, made disparaging remarks about blacks or asserted white superiority. Like most white Americans of his generation, however, he was racially insensitive.\"[206] Floyd Norman, the studio\\'s first black animator who worked closely with Disney during the 1950s and 1960s, said, \"Not once did I observe a hint of the racist behavior Walt Disney was often accused of after his death. His treatment of people\\u200d—\\u200cand by this I mean all people\\u200d—\\u200ccan only be called exemplary.\"[209]\\nWatts argues that many of Disney\\'s post-World War II films \"legislated a kind of cultural Marshall Plan. They nourished a genial cultural imperialism that magically overran the rest of the globe with the values, expectations, and goods of a prosperous middle-class United States.\"[210] Film historian Jay P. Telotte acknowledges that many see Disney\\'s studio as an \"agent of manipulation and repression\", although he observes that it has \"labored throughout its history to link its name with notions of fun, family, and fantasy\".[211] John Tomlinson, in his study Cultural Imperialism, examines the work of Ariel Dorfman and Armand Mattelart, whose 1971 book Para leer al Pato Donald (trans: How to Read Donald Duck) identifies that there are \"imperialist\\xa0... values \\'concealed\\' behind the innocent, wholesome façade of the world of Walt Disney\"; this, they argue, is a powerful tool as \"it presents itself as harmless fun for consumption by children.\"[212] Tomlinson views their argument as flawed, as \"they simply assume that reading American comics, seeing adverts, watching pictures of the affluent\\xa0... [\\'Yankee\\'] lifestyle has a direct pedagogic effect\".[213]\\nSeveral commentators have described Disney as a cultural icon.[214] On Disney\\'s death, journalism professor Ralph S. Izard comments that the values in Disney\\'s films are those \"considered valuable in American Christian society\", which include \"individualism, decency,\\xa0... love for our fellow man, fair play and toleration\".[215] Disney\\'s obituary in The Times calls the films \"wholesome, warm-hearted and entertaining\\xa0... of incomparable artistry and of touching beauty\".[216] Journalist Bosley Crowther argues that Disney\\'s \"achievement as a creator of entertainment for an almost unlimited public and as a highly ingenious merchandiser of his wares can rightly be compared to the most successful industrialists in history.\"[4] Correspondent Alistair Cooke calls Disney a \"folk-hero\\xa0... the Pied Piper of Hollywood\",[217] while Gabler considers Disney \"reshaped the culture and the American consciousness\".[193] In the American Dictionary of National Biography, Langer writes:\\n\\nDisney remains the central figure in the history of animation. Through technological innovations and alliances with governments and corporations, he transformed a minor studio in a marginal form of communication into a multinational leisure industry giant. Despite his critics, his vision of a modern, corporate utopia as an extension of traditional American values has possibly gained greater currency in the years after his death.[60]\\nNotes and references\\nNotes\\n\\n\\n^ In 1909, in a renumbering exercise, the property\\'s address changed to 2156 North Tripp Avenue.[2]\\n\\n^ Disney was a descendant of Robert d\\'Isigny, a Frenchman who had traveled to England with William the Conqueror in 1066.[5] The family anglicized the d\\'Isigny name to \"Disney\" and settled in the English village now known as Norton Disney in the East Midlands.[6]\\n\\n^ The book, Edwin G. Lutz\\'s Animated Cartoons: How They Are Made, Their Origin and Development (1920), was the only one in the local library on the subject; the camera he borrowed from Cauger.[27]\\n\\n^ Cutout animation is the technique of producing cartoons by animating objects cut from paper, material or photographs and photographing them moving incrementally. Cel animation is the method of drawing or painting onto transparent celluloid sheets (\"cels\"), with each sheet an incremental movement on from the previous.[28]\\n\\n^ One possible exception to the stable relationship was during the making Snow White and the Seven Dwarfs (1937), where the stresses and turmoil associated with the production led to the couple discussing divorce.[42]\\n\\n^ Lillian had two miscarriages during the eight years between marriage and the birth of Diane; she suffered a further miscarriage shortly before the family adopted Sharon.[44]\\n\\n^ In 2006, the Walt Disney Company finally re-acquired Oswald the Lucky Rabbit when its subsidiary ESPN purchased rights to the character, along with other properties from NBCUniversal.[53]\\n\\n^ Several stories about the origins exist. Disney\\'s biographer, Bob Thomas, observes that \"The birth of Mickey Mouse is obscured in legend, much of it created by Walt Disney himself.\"[54]\\n\\n^ The name Mortimer Mouse was used in the 1936 cartoon Mickey\\'s Rival as a potential love-interest for Minnie Mouse. He was portrayed as a \"humorous denigration of the smooth city slicker\" with a smart car, but failed to win over Minnie from the more homespun Mickey.[56]\\n\\n^ The Nine Old Men consisted of Eric Larson, Wolfgang Reitherman, Les Clark, Milt Kahl, Ward Kimball, Marc Davis, Ollie Johnston, Frank Thomas and John Lounsbery.[60]\\n\\n^ By 1931 he was called Michael Maus in Germany, Michel Souris in France, Miguel Ratonocito or Miguel Pericote in Spain and Miki Kuchi in Japan.[65]\\n\\n^ $1.5\\xa0million in 1937 equates to $26,677,083 in 2020; $6.5\\xa0million in 1939 equates to $119,758,993 in 2020, according to calculations based on the Consumer Price Index measure of inflation.[83]\\n\\n^ The citation for the award reads: \"To Walt Disney for Snow White and the Seven Dwarfs, recognized as a significant screen innovation which has charmed millions and pioneered a great new entertainment field for the motion picture cartoon.\"[84]\\n\\n^ The trip inspired two combined live-action and animation works Saludos Amigos (1942) and The Three Caballeros (1945).[90][91]\\n\\n^ $4\\xa0million in 1944 equates to $58,094,518 in 2020, according to calculations based on the Consumer Price Index measure of inflation.[83]\\n\\n^ These included Make Mine Music (1946), Song of the South (1946), Melody Time (1948) and So Dear to My Heart (1949).[60]\\n\\n^ $2.2\\xa0million in 1950 equates to $23,378,423 in 2020; $8\\xa0million in 1950 equates to $85,012,448 in 2020, according to calculations based on the Consumer Price Index measure of inflation.[83]\\n\\n^ The patriotic films include Johnny Tremain (1957), Old Yeller (1957), Tonka (1958), Swiss Family Robinson (1960), Polyanna (1960).[60]\\n\\n^ Even repeats of the program proved more popular than all other television shows—aside from Lucille Ball\\'s I Love Lucy; no ABC program had ever been in the top 25 before Disneyland.[125]\\n\\n^ The program, which was produced by Ward Kimball, was nominated for an Academy Award for the Best Documentary (Short Subject) at the 1957 Awards.[133]\\n\\n^ Disney\\'s death in 1966, and opposition from conservationists, stopped the building of the resort.[142]\\n\\n^ A long-standing urban legend maintains that Disney was cryonically frozen.[149] Disney\\'s daughter Diane later stated, \"There is absolutely no truth to the rumor that my father, Walt Disney, wished to be frozen.\"[150]\\n\\n^ Roy died two months later, in December 1971.[156]\\n\\n^ For example, the animator Art Babbitt, an organizer of the 1941 strike at Disney\\'s studio, claimed that he saw Disney and his lawyer attend meetings of the German American Bund, a pro-Nazi organization, during the late 1930s.[199] Gabler questions Babbitt\\'s claim on the basis that Disney had no time for political meetings and was \"something of a political naïf\" during the 1930s.[200]\\n\\n^ Examples include The Three Little Pigs (in which the Big Bad Wolf comes to the door dressed as a Jewish peddler) and The Opry House (in which Mickey Mouse is dressed and dances as a Hasidic Jew).[201][202]\\n\\n^ As pointed out by story artist Joe Grant, which included himself, production manager Harry Tytle, and head of merchandising Kay Kamen, who once quipped that Disney\\'s New York office had \"more Jews than The Book of Leviticus\"[203]\\n\\n^ Examples include Mickey\\'s Mellerdrammer, in which Mickey Mouse dresses in blackface; the black-colored bird in the short Who Killed Cock Robin; the American Indians in Peter Pan; and the crows in Dumbo (although the case has been made that the crows were sympathetic to Dumbo because they knew what it was like to be ostracized).[206]\\n\\n^ Baskett died shortly afterward, and his widow wrote Disney a letter of gratitude for his support.[208]\\n\\n\\nReferences\\n\\n\\n^ \\n\"Definition of Disney, Walt in English\". Oxford Dictionaries. Oxford University Press. Archived from the original on March 30, 2016. Retrieved April 12, 2016..mw-parser-output cite.citation{font-style:inherit}.mw-parser-output .citation q{quotes:\"\\\\\"\"\"\\\\\"\"\"\\'\"\"\\'\"}.mw-parser-output .id-lock-free a,.mw-parser-output .citation .cs1-lock-free a{background-image:url(\"//upload.wikimedia.org/wikipedia/commons/thumb/6/65/Lock-green.svg/9px-Lock-green.svg.png\");background-image:linear-gradient(transparent,transparent),url(\"//upload.wikimedia.org/wikipedia/commons/6/65/Lock-green.svg\");background-repeat:no-repeat;background-size:9px;background-position:right .1em center}.mw-parser-output .id-lock-limited a,.mw-parser-output .id-lock-registration a,.mw-parser-output .citation .cs1-lock-limited a,.mw-parser-output .citation .cs1-lock-registration a{background-image:url(\"//upload.wikimedia.org/wikipedia/commons/thumb/d/d6/Lock-gray-alt-2.svg/9px-Lock-gray-alt-2.svg.png\");background-image:linear-gradient(transparent,transparent),url(\"//upload.wikimedia.org/wikipedia/commons/d/d6/Lock-gray-alt-2.svg\");background-repeat:no-repeat;background-size:9px;background-position:right .1em center}.mw-parser-output .id-lock-subscription a,.mw-parser-output .citation .cs1-lock-subscription a{background-image:url(\"//upload.wikimedia.org/wikipedia/commons/thumb/a/aa/Lock-red-alt-2.svg/9px-Lock-red-alt-2.svg.png\");background-image:linear-gradient(transparent,transparent),url(\"//upload.wikimedia.org/wikipedia/commons/a/aa/Lock-red-alt-2.svg\");background-repeat:no-repeat;background-size:9px;background-position:right .1em center}.mw-parser-output .cs1-subscription,.mw-parser-output .cs1-registration{color:#555}.mw-parser-output .cs1-subscription span,.mw-parser-output .cs1-registration span{border-bottom:1px dotted;cursor:help}.mw-parser-output .cs1-ws-icon a{background-image:url(\"//upload.wikimedia.org/wikipedia/commons/thumb/4/4c/Wikisource-logo.svg/12px-Wikisource-logo.svg.png\");background-image:linear-gradient(transparent,transparent),url(\"//upload.wikimedia.org/wikipedia/commons/4/4c/Wikisource-logo.svg\");background-repeat:no-repeat;background-size:12px;background-position:right .1em center}.mw-parser-output code.cs1-code{color:inherit;background:inherit;border:inherit;padding:inherit}.mw-parser-output .cs1-hidden-error{display:none;font-size:100%}.mw-parser-output .cs1-visible-error{font-size:100%}.mw-parser-output .cs1-maint{display:none;color:#33aa33;margin-left:0.3em}.mw-parser-output .cs1-subscription,.mw-parser-output .cs1-registration,.mw-parser-output .cs1-format{font-size:95%}.mw-parser-output .cs1-kern-left,.mw-parser-output .cs1-kern-wl-left{padding-left:0.2em}.mw-parser-output .cs1-kern-right,.mw-parser-output .cs1-kern-wl-right{padding-right:0.2em}.mw-parser-output .citation .mw-selflink{font-weight:inherit}\\n\\n^ Gabler 2006, p.\\xa08.\\n\\n^ \\nRackl, Lori (September 27, 2009). \"Walt Disney, the Man Behind the Mouse\". Chicago Sun-Times. Archived from the original on October 3, 2009. Retrieved October 21, 2010.\\n\\n^ a b c d \\nCrowther, Bosley (April 27, 2015). \"Walt Disney\". Encyclopædia Britannica. Archived from the original on March 20, 2016. Retrieved April 12, 2016.\\n\\n^ Mosley 1990, p.\\xa022; Eliot 1995, p.\\xa02.\\n\\n^ \\nWinter, Jon (April 12, 1997). \"Uncle Walt\\'s Lost Ancestors\". The Independent. London. Archived from the original on March 3, 2016. Retrieved April 25, 2016.\\n\\n^ Barrier 2007, pp.\\xa09–10.\\n\\n^ Gabler 2006, pp.\\xa09–10, 15.\\n\\n^ Barrier 2007, p.\\xa013.\\n\\n^ Broggie 2006, pp.\\xa033–35.\\n\\n^ Barrier 2007, p.\\xa016.\\n\\n^ Finch 1999, p.\\xa010.\\n\\n^ Krasniewicz 2010, p.\\xa013.\\n\\n^ Barrier 2007, pp.\\xa018–19.\\n\\n^ \\n\"Biography of Walt Disney (1901–1966), Film Producer\". The Kansas City Public Library. Archived from the original on March 9, 2016. Retrieved April 12, 2016.\\n\\n^ Gabler 2006, p.\\xa030.\\n\\n^ a b c d \\n\"About Walt Disney\". D23. The Walt Disney Company. Archived from the original on April 21, 2016. Retrieved April 13, 2016.\\n\\n^ Finch 1999, p.\\xa012.\\n\\n^ Mosley 1990, p.\\xa039.\\n\\n^ Gabler 2006, pp.\\xa036–38.\\n\\n^ \\n\"Walt Disney, 65, Dies on Coast; Founded an Empire on a Mouse\". The New York Times. December 16, 1966. Archived from the original on May 7, 2016. Retrieved April 25, 2016. (subscription required)\\n\\n^ Gabler 2006, p.\\xa041.\\n\\n^ Thomas 1994, pp.\\xa055–56.\\n\\n^ Thomas 1994, p.\\xa056; Barrier 2007, pp.\\xa024–25.\\n\\n^ Barrier 2007, p.\\xa025.\\n\\n^ Mosley 1990, p.\\xa063.\\n\\n^ a b Thomas 1994, pp.\\xa057–58.\\n\\n^ Withrow 2009, p.\\xa048.\\n\\n^ Gabler 2006, p.\\xa056.\\n\\n^ Finch 1999, p.\\xa014.\\n\\n^ Barrier 2007, p.\\xa060.\\n\\n^ Gabler 2006, pp.\\xa060–61, 64–66.\\n\\n^ Finch 1999, p.\\xa015.\\n\\n^ Gabler 2006, pp.\\xa071–73; Nichols 2014, p.\\xa0102.\\n\\n^ Barrier 1999, p.\\xa039.\\n\\n^ a b Thomas & Johnston 1995, p.\\xa029.\\n\\n^ Barrier 2007, p.\\xa040.\\n\\n^ Gabler 2006, p.\\xa078.\\n\\n^ \\n\"About the Walt Disney Company\". The Walt Disney Company. Archived from the original on May 5, 2016. Retrieved May 9, 2016.\\n\\n^ Thomas 1994, pp.\\xa073–75.\\n\\n^ \"Walt Disney dies of cancer at 65\". Lewiston Morning Tribune. (Idaho). Associated Press. December 16, 1966. p.\\xa01.\\n\\n^ a b Gabler 2006, p.\\xa0544.\\n\\n^ Watts 2013, p.\\xa0352.\\n\\n^ a b Barrier 2007, pp.\\xa0102, 131.\\n\\n^ Mosley 1990, p.\\xa0169; Gabler 2006, p.\\xa0280.\\n\\n^ Thomas 1994, p.\\xa0196; Watts 2013, p.\\xa0352.\\n\\n^ a b \\n\"Alice Hits the Skids\". The Walt Disney Family Museum. Archived from the original on July 14, 2014. Retrieved April 14, 2016.\\n\\n^ \\n\"The Final Alice Comedy Is Released\". The Walt Disney Family Museum. Archived from the original on July 14, 2014. Retrieved April 14, 2016.\\n\\n^ a b \\nSoteriou, Helen (December 3, 2012). \"Could Oswald the Lucky Rabbit have been bigger than Mickey?\". BBC News. Archived from the original on March 8, 2016. Retrieved April 14, 2016.\\n\\n^ Thomas 1994, p.\\xa083.\\n\\n^ Gabler 2006, p.\\xa0109.\\n\\n^ \\n\"Secret Talks\". The Walt Disney Family Museum. Archived from the original on April 29, 2015. Retrieved April 15, 2016.\\n\\n^ \\n\"Stay \\'tooned: Disney gets \\'Oswald\\' for Al Michaels\". ESPN.com. February 10, 2006. Archived from the original on April 7, 2016. Retrieved April 16, 2016.\\n\\n^ a b Thomas 1994, p.\\xa088.\\n\\n^ Gabler 2006, p.\\xa0112.\\n\\n^ Watts 2013, p.\\xa073.\\n\\n^ Thomas & Johnston 1995, p.\\xa039.\\n\\n^ \\nSolomon, Charles. \"The Golden Age of Mickey Mouse\". The Walt Disney Family Museum. Archived from the original on July 10, 2008. Retrieved April 14, 2016.\\n\\n^ Gabler 2006, p.\\xa0116.\\n\\n^ a b c d e f g h i j k l Langer 2000.\\n\\n^ Finch 1999, pp.\\xa023–24; Gabler 2006, p.\\xa0129.\\n\\n^ Finch 1999, pp.\\xa026–27; Langer 2000.\\n\\n^ Finch 1999, pp.\\xa026–27; Gabler 2006, pp.\\xa0142–44.\\n\\n^ Krasniewicz 2010, pp.\\xa059–60.\\n\\n^ a b \\n\"Regulated Rodent\". Time. February 16, 1931. p.\\xa021.\\n\\n^ Finch 1999, pp.\\xa026–27; Gabler 2006, p.\\xa0142.\\n\\n^ a b Gabler 2006, p.\\xa0178.\\n\\n^ Barrier 1999, p.\\xa0167; Gabler 2006, p.\\xa0179.\\n\\n^ Finch 1999, p.\\xa028.\\n\\n^ Barrier 2007, pp.\\xa089–90.\\n\\n^ \\n\"The 5th Academy Awards 1933\". Academy of Motion Picture Arts and Sciences. Archived from the original on May 7, 2016. Retrieved April 15, 2016.\\n\\n^ \\nDanks, Adrian (December 2003). \"Huffing and Puffing about Three Little Pigs\". Senses of Cinema. Archived from the original on April 22, 2008. Retrieved April 15, 2016.\\n\\n^ Gabler 2006, pp.\\xa0184–86.\\n\\n^ Lee & Madej 2012, pp.\\xa055–56.\\n\\n^ Gabler 2006, p.\\xa0186.\\n\\n^ Thomas 1994, p.\\xa0129.\\n\\n^ Thomas & Johnston 1995, p.\\xa090.\\n\\n^ a b Gabler 2006, p.\\xa0270.\\n\\n^ Barrier 1999, p.\\xa0130; Finch 1999, p.\\xa059.\\n\\n^ \\nWalt Disney: The Man Behind the Myth (Television production). The Walt Disney Family Foundation. January 17, 2015.  Event occurs at 38:33–39:00.\\n\\n^ \\nWalt Disney: An American Experience (Television production). PBS. September 14, 2015.  Event occurs at 1:06:44\\xa0– 1:07:24.\\n\\n^ Williams, Denney & Denney 2004, p.\\xa0116.\\n\\n^ a b c Federal Reserve Bank of Minneapolis. \"Consumer Price Index (estimate) 1800–\". Retrieved January 1, 2020.\\n\\n^ a b \\n\"The 11th Academy Awards 1939\". Academy of Motion Picture Arts and Sciences. Archived from the original on May 7, 2016. Retrieved April 16, 2016.\\n\\n^ \\n\"The Golden Age of Animation\". The Walt Disney Family Museum. Archived from the original on April 14, 2009. Retrieved April 16, 2016.\\n\\n^ Krasniewicz 2010, p.\\xa087.\\n\\n^ Thomas 1994, pp.\\xa0161–62; Barrier 2007, pp.\\xa0152, 162–63.\\n\\n^ Ceplair & Englund 1983, p.\\xa0158; Thomas 1994, pp.\\xa0163–65; Barrier 1999, pp.\\xa0171–73.\\n\\n^ Thomas 1994, pp.\\xa0170–71; Gabler 2006, pp.\\xa0370–71.\\n\\n^ Finch 1999, p.\\xa076.\\n\\n^ Gabler 2006, pp.\\xa0394–95.\\n\\n^ Langer 2000; Gabler 2006, p.\\xa0378.\\n\\n^ Finch 1999, p.\\xa071; Gabler 2006, pp.\\xa0380–81.\\n\\n^ Thomas 1994, pp.\\xa0184–85; Gabler 2006, pp.\\xa0382–83.\\n\\n^ Gabler 2006, pp.\\xa0384–85.\\n\\n^ Finch 1999, p.\\xa077.\\n\\n^ Gabler 2006, p.\\xa0399.\\n\\n^ \\n\"The Disney Brothers Face a Fiscal Crisis\". The Walt Disney Family Museum. Archived from the original on June 2, 2014. Retrieved April 16, 2016.\\n\\n^ Thomas 1994, pp.\\xa0186–87.\\n\\n^ Gabler 2006, pp.\\xa0445–46.\\n\\n^ Thomas 1994, p.\\xa0227.\\n\\n^ Gabler 2006, p.\\xa0452.\\n\\n^ Watts 2013, p.\\xa0240.\\n\\n^ \\n\"Testimony of Walter E. Disney before HUAC\". CNN. Archived from the original on May 14, 2008. Retrieved May 21, 2008.\\n\\n^ Gabler 2006, p.\\xa0370.\\n\\n^ Mitgang, Herbert (May 6, 1993). \"Disney Link To the F.B.I. And Hoover Is Disclosed\". The New York Times. ISSN\\xa00362-4331. Retrieved November 10, 2019.\\n\\n^ Broggie 2006, pp.\\xa07, 109.\\n\\n^ Barrier 2007, p.\\xa0219.\\n\\n^ Barrier 2007, p.\\xa0220.\\n\\n^ Finch 1999, pp.\\xa0126–2; Barrier 2007, pp.\\xa0221–23.\\n\\n^ Canemaker 2001, p.\\xa0110.\\n\\n^ \\n\"Dreaming of Disneyland\". The Walt Disney Family Museum. Archived from the original on May 18, 2006. Retrieved September 6, 2013.\\n\\n^ \\nWalt Disney: The Man Behind the Myth (Television production). The Walt Disney Family Foundation. January 17, 2015.  Event occurs at 1:10:00–1:13:00.\\n\\n^ Barrier 2007, pp.\\xa0233–34.\\n\\n^ \\n\"The Beginning of WED\". The Walt Disney Family Museum. Archived from the original on October 2, 2015. Retrieved April 18, 2016.\\n\\n^ \\nMumford, David; Gordon, Bruce. \"The Genesis of Disneyland\". The Walt Disney Family Museum. Archived from the original on October 28, 2008. Retrieved April 18, 2016.\\n\\n^ Finch 1999, p.\\xa0139.\\n\\n^ Barrier 2007, p.\\xa0246.\\n\\n^ Gabler 2006, pp.\\xa0524, 530–32.\\n\\n^ Eliot 1995, pp.\\xa0225–26.\\n\\n^ Gabler 2006, p.\\xa0498.\\n\\n^ \\n\"Topics of the Times\". The New York Times. July 22, 1955. Archived from the original on May 7, 2016. Retrieved May 7, 2016. (subscription required)\\n\\n^ Gabler 2006, p.\\xa0537.\\n\\n^ Gabler 2006, pp.\\xa0508–09.\\n\\n^ a b Gabler 2006, p.\\xa0511.\\n\\n^ \\n\"A Wonderful World: Growing Impact of Disney Art\". Newsweek. April 18, 1955. p.\\xa062.\\n\\n^ Gabler 2006, pp.\\xa0520–21.\\n\\n^ Barrier 2007, p.\\xa0245.\\n\\n^ Gabler 2006, p.\\xa0514.\\n\\n^ Thomas 1994, p.\\xa0257.\\n\\n^ Hollis & Ehrbar 2006, pp.\\xa05–12, 20.\\n\\n^ Gabler 2006, p.\\xa0566.\\n\\n^ \\n\"The 29th Academy Awards 1957\". Academy of Motion Picture Arts and Sciences. Archived from the original on May 7, 2016. Retrieved April 18, 2016.\\n\\n^ Finch 1999, pp.\\xa082–85.\\n\\n^ Finch 1999, p.\\xa0130.\\n\\n^ \\nSingh, Anita (April 10, 2012). \"Story of how Mary Poppins author regretted selling rights to Disney to be turned into film\". The Daily Telegraph. Archived from the original on April 14, 2016. Retrieved April 18, 2016.\\n\\n^ Thomas 1994, p.\\xa0298.\\n\\n^ Barrier 2007, p.\\xa0293.\\n\\n^ \\nCarnaham, Alyssa (June 26, 2012). \"Look Closer: 1964 New York World\\'s Fair\". The Walt Disney Family Museum. Archived from the original on April 13, 2016. Retrieved May 3, 2016.\\n\\n^ Gabler 2006, pp.\\xa0621–23.\\n\\n^ \\nMeyers, Charlie (September 1988). \"Ski Life\". Ski. p.\\xa026.\\n\\n^ Gabler 2006, p.\\xa0631.\\n\\n^ Gabler 2006, pp.\\xa0606–08.\\n\\n^ Beard 1982, p.\\xa011.\\n\\n^ Thomas 1994, p.\\xa0307.\\n\\n^ Thomas 1994, p.\\xa0343; Barrier 2007, p.\\xa0276.\\n\\n^ Gabler 2006, pp.\\xa0626–31.\\n\\n^ Mosley 1990, p.\\xa0298.\\n\\n^ Eliot 1995, p.\\xa0268.\\n\\n^ \\nPoyser, John (July 15, 2009). \"Estate-planning lessons from the Magic Kingdom\". Winnipeg Free Press. p.\\xa0B5.\\n\\n^ Dobson 2009, p.\\xa0220.\\n\\n^ \\nPuig, Claudia (March 26, 2010). \"\\'Waking Sleeping Beauty\\' documentary takes animated look at Disney renaissance\". USA Today. Archived from the original on April 1, 2016. Retrieved April 20, 2016.\\n\\n^ \\n\"History of The Walt Disney Studios\" (PDF). The Walt Disney Company. Archived from the original (PDF) on May 9, 2016. Retrieved May 7, 2016.\\n\\n^ \\nPatches, Matt (May 20, 2015). \"Inside Walt Disney\\'s Ambitious, Failed Plan to Build the City of Tomorrow\". Esquire. Archived from the original on March 25, 2016. Retrieved April 20, 2016.\\n\\n^ \\n\"Walt Disney World Resort: World History\". Targeted News Service. March 18, 2009.\\n\\n^ Thomas 1994, pp.\\xa0357–58.\\n\\n^ \\n\"News Update: EPCOT\". AT&T Archives. Archived from the original on March 4, 2016. Retrieved April 20, 2016.\\n\\n^ \\n\"About Us\". The Walt Disney Family Museum. Archived from the original on March 30, 2014. Retrieved June 27, 2014.\\n\\n^ \\nRothstein, Edward (September 30, 2009). \"Exploring the Man Behind the Animation\". The New York Times. Archived from the original on June 18, 2013. Retrieved April 25, 2016.\\n\\n^ \\nDostis, Melanie (October 1, 2015). \"13 things to know about the Disney parks on 44th anniversary of Walt Disney World\". New York Daily News. Archived from the original on May 21, 2016. Retrieved May 21, 2016.\\n\\n^ Pierce 1987, p.\\xa0100.\\n\\n^ \\nScott, Tony (October 20, 1995). \"Review: \\'Cbs Sunday Movie a Dream Is a Wish Your Heart Makes: The Annette Funicello Story\\'\". Variety. Archived from the original on May 5, 2016. Retrieved April 21, 2016.\\n\\n^ \\nGettell, Oliver (December 18, 2013). \"\\'Saving Mr. Banks\\' director: \\'Such an advantage\\' shooting in L.A.\" Los Angeles Times. Archived from the original on December 19, 2013. Retrieved June 27, 2014.\\n\\n^ \\nGritten, David (May 17, 2013). \"Walt Disney: hero or villain?\". The Daily Telegraph. Archived from the original on April 26, 2016. Retrieved April 25, 2016.\\n\\n^ \\n\"Nominee Facts\\xa0– Most Nominations and Awards\" (PDF). Academy of Motion Picture Arts and Sciences. Archived from the original (PDF) on April 2, 2016. Retrieved April 26, 2013.\\n\\n^ \\n\"Winners & Nominees: Walt Disney\". Hollywood Foreign Press Association. Archived from the original on April 1, 2016. Retrieved April 21, 2016.\\n\\n^ \\n\"Awards & Nominations: Walt Disney\". Academy of Television Arts & Sciences. Archived from the original on March 31, 2016. Retrieved April 21, 2016.\\n\\n^ \\n\"Complete National Film Registry Listing\". Library of Congress. Archived from the original on April 7, 2016. Retrieved April 21, 2016.\\n\\n^ \\n\"AFI\\'s 100 Greatest American Movies of All Time\". American Film Institute. Archived from the original on April 24, 2016. Retrieved May 13, 2016.\\n\\n^ \\n\"Walt Disney\". Hollywood Walk of Fame. Archived from the original on March 19, 2016. Retrieved June 27, 2014.\\n\\n^ \\n\"Mickey Mouse\". Hollywood Walk of Fame. Archived from the original on April 3, 2016. Retrieved May 3, 2016.\\n\\n^ \\n\"Hall of Fame Honorees: Complete List\". Academy of Television Arts & Sciences. Archived from the original on April 2, 2016. Retrieved June 27, 2014.\\n\\n^ \\n\"John Muir Inducted in California Hall of Fame\". The John Muir Exhibit. Archived from the original on March 4, 2016. Retrieved June 26, 2014.\\n\\n^ \\n\"Disney to be first honoree on O.C. Walk of Stars\". Orange County Register. November 8, 2006. Archived from the original on March 5, 2016. Retrieved June 26, 2014.\\n\\n^ \\n\"Untitled\". The Manchester Guardian. December 20, 1935. p.\\xa010.\\n\\n^ \\n\"Walt Disney Honored\". San Mateo Times. San Mateo, CA. February 5, 1952. p.\\xa09.\\n\\n^ West Germans Against The West: Anti-Americanism in Media and Public Opinion in the Federal Republic of Germany 1949–1968. Written by C. Müller\\n\\n^ Unirio\\n\\n^ a b \\n\"Walt Disney\". The California Museum. Archived from the original on April 6, 2016. Retrieved April 20, 2016.\\n\\n^ \\nAarons, Lerby F. (September 15, 1964). \"Arts, Science, Public Affairs Elite Honored With Freedom Medals\". The Washington Post. p.\\xa01.\\n\\n^ \\nMarth, Mike (April 4, 1969). \"Walt Disney Honored With Congressional Gold Medal\". The Van Nuys News. p.\\xa027.\\n\\n^ \\n\"Disney Receives Audubon Medal\". The Blade. Toledo, OH. November 16, 1955. Archived from the original on May 19, 2016. Retrieved April 25, 2016.\\n\\n^ Schmadel 2003, p.\\xa0342.\\n\\n^ \\nThe Two Sides of Walt Disney (Television trailer). PBS. September 10, 2015.  Event occurs at 0:08–0:13. Archived from the original on October 24, 2015. Retrieved April 20, 2016.\\n\\n^ Gabler 2006, p.\\xa0204.\\n\\n^ Schickel 1986, p.\\xa0341.\\n\\n^ a b Gabler 2006, p.\\xa0205.\\n\\n^ \\nThe Two Sides of Walt Disney (Television trailer). PBS. September 10, 2015.  Event occurs at 0:14–0:25. Archived from the original on October 24, 2015. Retrieved April 20, 2016.\\n\\n^ Norman 2013, p.\\xa064.\\n\\n^ Krasniewicz 2010, p.\\xa077.\\n\\n^ a b Watts 1995, p.\\xa084.\\n\\n^ \\n\"American Experience: Walt Disney\". PBS. Archived from the original on April 4, 2016. Retrieved April 22, 2016.\\n\\n^ a b Gabler 2006, p.\\xa0x.\\n\\n^ \\nLejeune, C. A. (February 27, 1938). \"Films of the Week: Magic for the Millions\". The Observer. p.\\xa012.\\n\\n^ \\nAllen, Robin (August 25, 1990). \"The Real Fantasia at Length, at Last\". The Times. p.\\xa016.\\n\\n^ \\nLejeune, C. A. (July 29, 1951). \"Alice in Disneyland\". The Observer. p.\\xa06.\\n\\n^ \\n\"Disney\\'s Peter Pan\". The Times. April 15, 1953. p.\\xa09.\\n\\n^ \\nDargis, Manohla (September 21, 2011). \"And Now a Word From the Director\". The New York Times. Archived from the original on September 12, 2013. Retrieved September 26, 2011.\\n\\n^ Gabler 2006, p.\\xa0448.\\n\\n^ a b Gabler 2006, pp.\\xa0448, 457.\\n\\n^ a b Gabler 2006, p.\\xa0456.\\n\\n^ a b \\n\"Creative Explosion: Walt\\'s Political Outlook\". The Walt Disney Family Museum. p.\\xa016. Archived from the original on June 7, 2008. Retrieved June 27, 2014.\\n\\n^ a b Gabler 2006, p.\\xa0455.\\n\\n^ \\n\"Walt Disney: More Than \\'Toons, Theme Parks\". CBS News. November 1, 2006. Archived from the original on March 13, 2016. Retrieved April 20, 2016.\\n\\n^ Gabler 2006, p.\\xa0611.\\n\\n^ a b c Gabler 2006, p.\\xa0433.\\n\\n^ Cohen 2004, p.\\xa060.\\n\\n^ a b Gabler 2006, pp.\\xa0438–39.\\n\\n^ Korkis 2012, p.\\xa0xi.\\n\\n^ Watts 1995, p.\\xa0107.\\n\\n^ Telotte 2008, p.\\xa019.\\n\\n^ Tomlinson 2001, p.\\xa041.\\n\\n^ Tomlinson 2001, p.\\xa044.\\n\\n^ Mannheim 2016, p.\\xa040; Krasniewicz 2010, p.\\xa0xxii; Watts 2013, p.\\xa058; Painter 2008, p.\\xa025.\\n\\n^ \\nIzard, Ralph S. (July 1967). \"Walt Disney: Master of Laughter and Learning\". Peabody Journal of Education. 45 (1): 36–41. doi:10.1080/01619566709537484. JSTOR\\xa01491447.\\n\\n^ \\n\"Obituary: Mr Walt Disney\". The Times. December 16, 1966. p.\\xa014.\\n\\n^ \\nCooke, Alistair (December 16, 1966). \"Death of Walt Disney—folk-hero\". The Manchester Guardian. p.\\xa01.\\n\\n\\nSources\\n.mw-parser-output .refbegin{font-size:90%;margin-bottom:0.5em}.mw-parser-output .refbegin-hanging-indents>ul{list-style-type:none;margin-left:0}.mw-parser-output .refbegin-hanging-indents>ul>li,.mw-parser-output .refbegin-hanging-indents>dl>dd{margin-left:0;padding-left:3.2em;text-indent:-3.2em;list-style:none}.mw-parser-output .refbegin-100{font-size:100%}\\nBarrier, J. Michael (1999). Hollywood Cartoons: American Animation in Its Golden Age. Oxford: Oxford University Press. ISBN\\xa0978-0-19-503759-3.CS1 maint: ref=harv (link)\\nBarrier, J. Michael (2007). The Animated Man: A Life of Walt Disney. Oakland, CA: University of California Press. ISBN\\xa0978-0-520-24117-6. Buckaroo Bugs\\'.CS1 maint: ref=harv (link)\\nBeard, Richard R. (1982). Walt Disney\\'s EPCOT Center: Creating the New World of Tomorrow. New York, NY: Harry N. Abrams. ISBN\\xa0978-0-8109-0821-5.CS1 maint: ref=harv (link)\\nBroggie, Michael (2006). Walt Disney\\'s Railroad Story: The Small-Scale Fascination That Led to a Full-Scale Kingdom. Marceline, MO: Carolwood Pacific. ISBN\\xa0978-0-9758584-2-4.CS1 maint: ref=harv (link)\\nCanemaker, John (2001). Walt Disney\\'s Nine Old Men and the Art of Animation. Burbank, CA: Disney Editions. ISBN\\xa0978-0-7868-6496-6.CS1 maint: ref=harv (link)\\nCeplair, Larry; Englund, Steven (1983). The Inquisition in Hollywood: Politics in the Film Community, 1930–1960. Oakland, CA: University of California Press. ISBN\\xa0978-0-520-04886-7.CS1 maint: ref=harv (link)\\nCohen, Karl F. (2004). Forbidden Animation: Censored Cartoons and Blacklisted Animators in America. Jefferson, NC: McFarland. ISBN\\xa0978-1-4766-0725-2.CS1 maint: ref=harv (link)\\nDobson, Nichola (2009). Historical Dictionary of Animation and Cartoons. Plymouth, Devon: Scarecrow Press. ISBN\\xa0978-0-8108-6323-1.CS1 maint: ref=harv (link)\\nEliot, Marc (1995). Walt Disney: Hollywood\\'s Dark Prince. London: André Deutsch. ISBN\\xa0978-0-233-98961-7.CS1 maint: ref=harv (link)\\nFinch, Christopher (1999). The Art of Walt Disney from Mickey Mouse to the Magic Kingdom. London: Virgin Books. ISBN\\xa0978-0-7535-0344-7.CS1 maint: ref=harv (link)\\nGabler, Neal (2006). Walt Disney: The Biography. London: Aurum. ISBN\\xa0978-1-84513-277-4.CS1 maint: ref=harv (link)\\nHollis, Tim; Ehrbar, Greg (2006). Mouse Tracks: The Story of Walt Disney Records. Jackson, MS: University Press of Mississippi. ISBN\\xa0978-1-61703-433-6.CS1 maint: ref=harv (link)\\nKorkis, Jim (2012). Who\\'s Afraid of the Song of the South?. Dallas, TX: Theme Park Press. ISBN\\xa0978-0-9843415-5-9.CS1 maint: ref=harv (link)\\nKrasniewicz, Louise (2010). Walt Disney: A Biography. Santa Barbara, CA: Greenwood Publishing. ISBN\\xa0978-0-313-35830-2.CS1 maint: ref=harv (link)\\nLanger, Mark (2000). \"Disney, Walt\". American National Biography. Retrieved April 11, 2016.CS1 maint: ref=harv (link) (subscription required)\\nLee, Newton; Madej, Krystina (2012). Disney Stories: Getting to Digital. Tujunga, CA: Springer Science & Business Media. ISBN\\xa0978-1-4614-2101-6.CS1 maint: ref=harv (link)\\nMannheim, Steve (2016). Walt Disney and the Quest for Community. Abingdon, Oxon: Routledge. ISBN\\xa0978-1-317-00058-7.CS1 maint: ref=harv (link)\\nMosley, Leonard (1990). Disney\\'s World. Lanham, MD: Scarborough House. ISBN\\xa0978-1-58979-656-0.CS1 maint: ref=harv (link)\\nNichols, Catherine (2014). Alice\\'s Wonderland: A Visual Journey Through Lewis Carroll\\'s Mad, Mad World. New York: Race Point Publishing. ISBN\\xa0978-1-937994-97-6.CS1 maint: ref=harv (link)\\nNorman, Floyd (2013). Animated Life: A Lifetime of Tips, Tricks, Techniques and Stories from a Disney Legend. Burlington, MA: Focal Press. ISBN\\xa0978-0-240-81805-4.CS1 maint: ref=harv (link)\\nPainter, Nell Irvin (February 2008). \"Was Marie White? The Trajectory of a Question in the United States\". The Journal of Southern History. 74 (1): 3–30.CS1 maint: ref=harv (link)\\nPierce, John J. (1987). Foundations of Science Fiction: A Study in Imagination and Evolution. Westport, CT: Greenwood Press. ISBN\\xa0978-0-313-25455-0.CS1 maint: ref=harv (link)\\nSchickel, Richard (1986). The Disney Version: The Life, Times, Art and Commerce of Walt Disney. London: Pavilion Books. ISBN\\xa0978-1-85145-007-7.CS1 maint: ref=harv (link)\\nSchmadel, Lutz D. (2003). Dictionary of Minor Planet Names. Heidelberg: Springer Science & Business Media. ISBN\\xa0978-3-540-00238-3.CS1 maint: ref=harv (link)\\nTelotte, Jay P. (June 2, 2008). The Mouse Machine: Disney and Technology. Urbana, IL: University of Illinois Press. ISBN\\xa0978-0-252-09263-3.CS1 maint: ref=harv (link)\\nThomas, Bob (1994) [1976]. Walt Disney: An American Original. New York: Disney Editions. ISBN\\xa0978-0-7868-6027-2.CS1 maint: ref=harv (link)\\nThomas, Frank; Johnston, Ollie (1995) [1981]. The Illusion of Life: Disney Animation. New York: Hyperion. ISBN\\xa00-7868-6070-7.CS1 maint: ref=harv (link)\\nTomlinson, John (2001). Cultural Imperialism: A Critical Introduction. London: A&C Black. ISBN\\xa0978-0-8264-5013-5.CS1 maint: ref=harv (link)\\nWatts, Steven (June 1995). \"Walt Disney: Art and Politics in the American Century\". The Journal of American History. 82 (1): 84–110. doi:10.2307/2081916. JSTOR\\xa02081916.CS1 maint: ref=harv (link)\\nWatts, Steven (2013). The Magic Kingdom: Walt Disney and the American Way of Life. Columbia, MO: University of Missouri Press. ISBN\\xa0978-0-8262-7300-0.CS1 maint: ref=harv (link)\\nWilliams, Pat; Denney, James; Denney, Jim (2004). How to Be Like Walt: Capturing the Disney Magic Every Day of Your Life. Deerfield Beach, FL: Health Communications. ISBN\\xa0978-0-7573-0231-2.CS1 maint: ref=harv (link)\\nWithrow, Steven (2009). Secrets of Digital Animation. Mies, Switzerland: RotoVision. ISBN\\xa0978-2-88893-014-3.CS1 maint: ref=harv (link)\\n\\nExternal links\\nWalt Disney on IMDb\\nWalt Disney at the TCM Movie Database \\nWorks by or about Walt Disney in libraries (WorldCat catalog)\\nThe Walt Disney Family Museum\\nThe Walt Disney Birthplace\\nTalking About Walt Disney at The Interviews: An Oral History of Television\\nFBI Records: The  Vault – Walter Elias Disney at vault.fbi.gov\\n\\n\\nPreceded\\xa0bynone\\n\\n Voice of Mickey Mouse1928–1947; 1955–1959\\n\\nSucceeded\\xa0byJames MacDonald\\n\\n\\nAwards for Walt Disney\\nvteAcademy Honorary Award1928–1950\\nWarner Bros. / Charlie Chaplin (1928)\\nWalt Disney (1932)\\nShirley Temple (1934)\\nD. W. Griffith (1935)\\nThe March of Time / W. Howard Greene and Harold Rosson (1936)\\nEdgar Bergen / W. Howard Greene / Museum of Modern Art Film Library / Mack Sennett (1937)\\nJ. Arthur Ball / Walt Disney / Deanna Durbin and Mickey Rooney / Gordon Jennings, Jan Domela, Devereaux Jennings, Irmin Roberts, Art Smith, Farciot Edouart, Loyal Griggs, Loren L. Ryder, Harry D. Mills, Louis Mesenkop, Walter Oberst / Oliver T. Marsh and Allen Davey / Harry Warner (1938)\\nDouglas Fairbanks / Judy Garland / William Cameron Menzies / Motion Picture Relief Fund (Jean Hersholt, Ralph Morgan, Ralph Block, Conrad Nagel)/ Technicolor Company (1939)\\nBob Hope / Nathan Levinson (1940)\\nWalt Disney, William Garity, John N. A. Hawkins, and the RCA Manufacturing Company / Leopold Stokowski and his associates / Rey Scott / British Ministry of Information (1941)\\nCharles Boyer / Noël Coward / Metro-Goldwyn-Mayer (1942)\\nGeorge Pal (1943)\\nBob Hope / Margaret O\\'Brien (1944)\\nRepublic Studio, Daniel J. Bloomberg, and the Republic Studio Sound Department / Walter Wanger / The House I Live In / Peggy Ann Garner (1945)\\nHarold Russell / Laurence Olivier / Ernst Lubitsch / Claude Jarman Jr. (1946)\\nJames Baskett / Thomas Armat, William Nicholas Selig, Albert E. Smith, and George Kirke Spoor / Bill and Coo / Shoeshine (1947)\\nWalter Wanger / Monsieur Vincent / Sid Grauman / Adolph Zukor (1948)\\nJean Hersholt / Fred Astaire / Cecil B. DeMille / The Bicycle Thief (1949)\\nLouis B. Mayer / George Murphy / The Walls of Malapaga (1950)\\n1951–1975\\nGene Kelly / Rashomon (1951)\\nMerian C. Cooper / Bob Hope / Harold Lloyd / George Mitchell / Joseph M. Schenck / Forbidden Games (1952)\\n20th Century-Fox Film Corporation / Bell & Howell Company / Joseph Breen / Pete Smith (1953)\\nBausch & Lomb Optical Company / Danny Kaye / Kemp Niver / Greta Garbo / Jon Whiteley / Vincent Winter / Gate of Hell (1954)\\nSamurai I: Musashi Miyamoto (1955)\\nEddie Cantor (1956)\\nSociety of Motion Picture and Television Engineers / Gilbert M. \"Broncho Billy\" Anderson / Charles Brackett / B. B. Kahane (1957)\\nMaurice Chevalier (1958)\\nBuster Keaton / Lee de Forest (1959)\\nGary Cooper / Stan Laurel / Hayley Mills (1960)\\nWilliam L. Hendricks / Fred L. Metzler / Jerome Robbins (1961)\\nWilliam J. Tuttle (1964)\\nBob Hope (1965)\\nYakima Canutt / Y. Frank Freeman (1966)\\nArthur Freed (1967)\\nJohn Chambers / Onna White (1968)\\nCary Grant (1969)\\nLillian Gish / Orson Welles (1970)\\nCharlie Chaplin (1971)\\nCharles S. Boren / Edward G. Robinson (1972)\\nHenri Langlois / Groucho Marx (1973)\\nHoward Hawks / Jean Renoir (1974)\\nMary Pickford (1975)\\n1976–2000\\nMargaret Booth (1977)\\nWalter Lantz / Laurence Olivier / King Vidor / Museum of Modern Art Department of Film (1978)\\nHal Elias / Alec Guinness (1979)\\nHenry Fonda (1980)\\nBarbara Stanwyck (1981)\\nMickey Rooney (1982)\\nHal Roach (1983)\\nJames Stewart / National Endowment for the Arts (1984)\\nPaul Newman / Alex North (1985)\\nRalph Bellamy (1986)\\nEastman Kodak Company / National Film Board of Canada (1988)\\nAkira Kurosawa (1989)\\nSophia Loren / Myrna Loy (1990)\\nSatyajit Ray (1991)\\nFederico Fellini (1992)\\nDeborah Kerr (1993)\\nMichelangelo Antonioni (1994)\\nKirk Douglas / Chuck Jones (1995)\\nMichael Kidd (1996)\\nStanley Donen (1997)\\nElia Kazan (1998)\\nAndrzej Wajda (1999)\\nJack Cardiff / Ernest Lehman (2000)\\n2001–present\\nSidney Poitier / Robert Redford (2001)\\nPeter O\\'Toole (2002)\\nBlake Edwards (2003)\\nSidney Lumet (2004)\\nRobert Altman (2005)\\nEnnio Morricone (2006)\\nRobert F. Boyle (2007)\\nLauren Bacall / Roger Corman / Gordon Willis (2009)\\nKevin Brownlow / Jean-Luc Godard / Eli Wallach (2010)\\nJames Earl Jones / Dick Smith (2011)\\nD. A. Pennebaker / Hal Needham / George Stevens Jr. (2012)\\nAngela Lansbury / Steve Martin / Piero Tosi (2013)\\nJean-Claude Carrière / Hayao Miyazaki / Maureen O\\'Hara (2014)\\nSpike Lee / Gena Rowlands (2015)\\nJackie Chan / Lynn Stalmaster / Anne V. Coates / Frederick Wiseman (2016)\\nCharles Burnett / Owen Roizman / Donald Sutherland / Agnès Varda (2017)\\nMarvin Levy / Lalo Schifrin / Cicely Tyson (2018)\\nDavid Lynch / Wes Studi / Lina Wertmüller (2019)\\n\\nvteCecil B. DeMille Award1950s\\nCecil B. DeMille (1952)\\nWalt Disney (1953)\\nDarryl F. Zanuck (1954)\\nJean Hersholt (1955)\\nJack L. Warner (1956)\\nMervyn LeRoy (1957)\\nBuddy Adler (1958)\\nMaurice Chevalier (1959)\\nBing Crosby (1960)\\n1960s\\nFred Astaire (1961)\\nJudy Garland (1962)\\nBob Hope (1963)\\nJoseph E. Levine (1964)\\nJames Stewart (1965)\\nJohn Wayne (1966)\\nCharlton Heston (1967)\\nKirk Douglas (1968)\\nGregory Peck (1969)\\nJoan Crawford (1970)\\n1970s\\nFrank Sinatra (1971)\\nAlfred Hitchcock (1972)\\nSamuel Goldwyn (1973)\\nBette Davis (1974)\\nHal B. Wallis (1975)\\nWalter Mirisch (1977)\\nRed Skelton (1978)\\nLucille Ball (1979)\\nHenry Fonda (1980)\\n1980s\\nGene Kelly (1981)\\nSidney Poitier (1982)\\nLaurence Olivier (1983)\\nPaul Newman (1984)\\nElizabeth Taylor (1985)\\nBarbara Stanwyck (1986)\\nAnthony Quinn (1987)\\nClint Eastwood (1988)\\nDoris Day (1989)\\nAudrey Hepburn (1990)\\n1990s\\nJack Lemmon (1991)\\nRobert Mitchum (1992)\\nLauren Bacall (1993)\\nRobert Redford (1994)\\nSophia Loren (1995)\\nSean Connery (1996)\\nDustin Hoffman (1997)\\nShirley MacLaine (1998)\\nJack Nicholson (1999)\\nBarbra Streisand (2000)\\n2000s\\nAl Pacino (2001)\\nHarrison Ford (2002)\\nGene Hackman (2003)\\nMichael Douglas (2004)\\nRobin Williams (2005)\\nAnthony Hopkins (2006)\\nWarren Beatty (2007)\\nSteven Spielberg (2009)\\nMartin Scorsese (2010)\\n2010s\\nRobert De Niro (2011)\\nMorgan Freeman (2012)\\nJodie Foster (2013)\\nWoody Allen (2014)\\nGeorge Clooney (2015)\\nDenzel Washington (2016)\\nMeryl Streep (2017)\\nOprah Winfrey (2018)\\nJeff Bridges (2019)\\nTom Hanks (2020)\\n\\nvteHonorary César1976–2000\\nIngrid Bergman (1976)\\nDiana Ross (1976)\\nHenri Langlois (1977)\\nJacques Tati (1977)\\nRobert Dorfmann (1978)\\nRené Goscinny (1978)\\nMarcel Carné (1979)\\nCharles Vanel (1979)\\nWalt Disney (1979)\\nPierre Braunberger (1980)\\nLouis de Funès (1980)\\nKirk Douglas (1980)\\nMarcel Pagnol (1981)\\nAlain Resnais (1981)\\nGeorges Dancigers (1982)\\nAlexandre Mnouchkine (1982)\\nJean Nény (1982)\\nAndrzej Wajda (1982)\\nRaimu (1983)\\nRené Clément (1984)\\nGeorges de Beauregard (1984)\\nEdwige Feuillère (1984)\\nChristian-Jaque (1985)\\nDanielle Darrieux (1985)\\nChristine Gouze-Rénal (1985)\\nAlain Poiré (1985)\\nMaurice Jarre (1986)\\nBette Davis (1986)\\nJean Delannoy (1986)\\nRené Ferracci (1986)\\nClaude Lanzmann (1986)\\nJean-Luc Godard (1987)\\nSerge Silberman (1988)\\nBernard Blier (1989)\\nPaul Grimault (1989)\\nGérard Philipe (1990)\\nJean-Pierre Aumont (1991)\\nSophia Loren (1991)\\nMichèle Morgan (1992)\\nSylvester Stallone (1992)\\nJean Marais (1993)\\nMarcello Mastroianni (1993)\\nGérard Oury (1993)\\nJean Carmet (1994)\\nJeanne Moreau (1995)\\nGregory Peck (1995)\\nSteven Spielberg (1995)\\nLauren Bacall (1996)\\nHenri Verneuil (1996)\\nCharles Aznavour (1997)\\nAndie MacDowell (1997)\\nMichael Douglas (1998)\\nClint Eastwood (1998)\\nJean-Luc Godard (1998)\\nPedro Almodóvar (1999)\\nJohnny Depp (1999)\\nJean Rochefort (1999)\\nJosiane Balasko (2000)\\nGeorges Cravenne (2000)\\nJean-Pierre Léaud (2000)\\nMartin Scorsese (2000)\\n2001–present\\nDarry Cowl (2001)\\nCharlotte Rampling (2001)\\nAgnès Varda (2001)\\nAnouk Aimée (2002)\\nJeremy Irons (2002)\\nClaude Rich (2002)\\nBernadette Lafont (2003)\\nSpike Lee (2003)\\nMeryl Streep (2003)\\nMicheline Presle (2004)\\nJacques Dutronc (2005)\\nWill Smith (2005)\\nHugh Grant (2006)\\nPierre Richard (2006)\\nMarlène Jobert (2007)\\nJude Law (2007)\\nJeanne Moreau (2008)\\nRoberto Benigni (2008)\\nDustin Hoffman (2009)\\nHarrison Ford (2010)\\nQuentin Tarantino (2011)\\nKate Winslet (2012)\\nKevin Costner (2013)\\nScarlett Johansson (2014)\\nSean Penn (2015)\\nMichael Douglas (2016)\\nGeorge Clooney (2017)\\nPenélope Cruz (2018)\\nRobert Redford (2019)\\n\\nvteIrving G. Thalberg Memorial Award\\nDarryl F. Zanuck (1938)\\nHal B. Wallis (1939)\\nDavid O. Selznick (1940)\\nWalt Disney (1942)\\nSidney Franklin (1943)\\nHal B. Wallis (1944)\\nDarryl F. Zanuck (1945)\\nSamuel Goldwyn (1947)\\nJerry Wald (1949)\\nDarryl F. Zanuck (1951)\\nArthur Freed (1952)\\nCecil B. DeMille (1953)\\nGeorge Stevens (1954)\\nBuddy Adler (1957)\\nJack L. Warner (1959)\\nStanley Kramer (1962)\\nSam Spiegel (1964)\\nWilliam Wyler (1966)\\nRobert Wise (1967)\\nAlfred Hitchcock (1968)\\nIngmar Bergman (1971)\\nLawrence Weingarten (1974)\\nMervyn LeRoy (1976)\\nPandro S. Berman (1977)\\nWalter Mirisch (1978)\\nRay Stark (1980)\\nAlbert R. Broccoli (1982)\\nSteven Spielberg (1986)\\nBilly Wilder (1988)\\nDavid Brown and Richard D. Zanuck (1991)\\nGeorge Lucas (1992)\\nClint Eastwood (1995)\\nSaul Zaentz (1997)\\nNorman Jewison (1999)\\nWarren Beatty (2000)\\nDino De Laurentiis (2001)\\nJohn Calley (2009)\\nFrancis Ford Coppola (2010)\\nKathleen Kennedy and Frank Marshall (2018)\\n\\nvteTelevision Hall of Fame Class of 1986\\nSteve Allen\\nFred Coe\\nWalt Disney\\nJackie Gleason\\nMary Tyler Moore\\n Frank Stanton\\nBurr Tillstrom\\n\\nvteThe Walt Disney Company\\nCompany timeline\\nImpact of the COVID-19 pandemic\\nAcquisitions\\nCriticism\\nCompanyofficialsKey\\nFounders\\nWalt Disney\\nRoy O. Disney\\nBob Iger (Executive Chairman)\\nBob Chapek (CEO)\\nAlan N. Braverman (SEVP/GC)\\nChristine McCarthy (CFO)\\nZenia Mucha (CCO)\\nBoard ofdirectors\\nSusan Arnold\\nMary Barra\\nSafra Catz\\nBob Chapek\\nFrancis deSouza\\nMichael Froman\\nBob Iger (Chairman)\\nMaria Elena Lagomasino\\nMark Parker\\nDerica W. Rice\\nStudioEntertainment\\nDistribution\\nWalt Disney Pictures\\nDisneynature\\nWalt Disney Animation Studios\\nPixar\\nMarvel Studios\\nLucasfilm\\n20th Century Studios\\n20th Century Animation\\nBlue Sky Studios\\nFox 2000 Pictures\\nSearchlight Pictures\\nDisney Music Group\\nDisney Theatrical Group\\nMediaNetworksWalt Disney TV\\nABC\\nABC TV Stations\\nDisney TV Studios\\nABC Signature\\n20th TV\\nAnimation\\nTouchstone TV\\nDisney Channels (US)\\nDisney TV Animation\\nIt\\'s a Laugh Productions\\nFreeform\\nFX Networks\\nFX Productions\\nHulu Scripted Originals Team\\nNational Geographic Networks (73%)\\n\\nESPN (80%)\\nA&E Networks (50%)\\nDisney Media Distribution\\nDisney–ABC Domestic Television\\nWalt Disney Studios Home Entertainment\\n20th Century Studios Home Entertainment\\nMovies AnywhereParks,Experiences& ProductsParks &resorts\\nDisneyland Resort\\nDisneyland Paris\\nHong Kong Disneyland Resort (43%)\\nShanghai Disney Resort (43%)\\nDisney Attractions Japan\\nWalt Disney World\\nImagineering (Muppets Studio)\\nFoxNext\\nExperiences\\nAdventures by Disney\\nNational Geographic Expeditions\\nDisney Cruise Line\\nDisney Vacation Club\\nConsumerProducts\\nDisney Store\\nDisney Publishing\\nDisney English\\nNG Media\\nDisney Online\\nGames & Interactive Experiences\\nFoxNext\\nDirect-to-Consumer &International\\nDisney Channels Worldwide\\nFox Networks Group\\nESPN International\\nDisney Digital Network\\nDisney Streaming Services\\nDisney+\\nESPN+\\nHulu (67%)\\nInternational\\nAsia Pacific\\nIndia\\nStar India\\nHotstar\\nTata Sky (30%)\\nUTV Software Communications\\nEMEA\\nFrance\\nGermany\\nSuper RTLJV\\nRTL IIJV\\nItaly\\nLatin America\\nArgentina\\nPatagonik Film Group\\nFox Telecolombia\\nRede Telecine\\n\\nOther assets\\nBuena Vista\\nD23\\nDisneyNow\\nDisney Institute\\nDisney University\\nMarvel Entertainment\\nNational Geographic Partners (73%)\\nReedy Creek Energy\\nTrueX\\nSee also\\nWalt Disney Studios (Burbank)\\nGrand Central Creative Campus\\n21st Century Fox\\nAcquired\\nRetlaw Enterprises\\n\\nvteDisneyland ResortTheme parks\\nDisneyland\\ncurrent attractions\\npast attractions\\nDisney California Adventure\\ncurrent attractions\\npast attractions\\nHotels\\nDisneyland Hotel\\nParadise Pier Hotel\\nGrand Californian Hotel and Spa\\nResort area\\nDowntown Disney\\nWorld of Disney\\nTrader Sam\\'s Enchanted Tiki Bar\\nNapa Rose\\nDisneyland Monorail System\\nTeam Disney Anaheim\\nPeople\\nCorey Burton\\nClaude Coats\\nMarc Davis\\nRoy O. Disney\\nWalt Disney\\nRon Dominguez\\nGreg Emmer\\nJoe Fowler\\nPaul Frees\\nEd Grier\\nCynthia Harriss\\nArt Linkletter\\nJack Lindquist\\nMichael Eisner\\nMatt Ouimet\\nPaul Pressler\\nThurl Ravenscroft\\nHerbert Ryman\\nJack Wagner\\nJack Wrather\\nTony Baxter\\nMarty Sklar\\nEvents\\nHappiest Homecoming on Earth\\nMagic Music Days\\nWeddings\\nOther\\nIncidents\\nE ticket\\nFastPass\\nPhotoPass\\nDisneyland, Inc.\\nStanford Research Institute\\nPartners Federal Credit Union\\nVoluntears\\nRelated articles\\nWalt Disney Imagineering\\nWalt Disney Creative Entertainment\\nAnaheim\\nAnaheim Rapid Connection\\nAnaheim Resort\\nAnaheim Resort Transportation\\nUtilidor System\\n\\nWalt Disney Parks and Resorts\\nThe Walt Disney Company\\n\\n.mw-parser-output .subjectbar{background-color:#f9f9f9;border:1px solid #aaa;clear:both;margin-bottom:0.5em;margin-top:0.5em;width:100%;box-sizing:border-box;font-size:88%}PortalsAccess related topicsAnimation portalBiography portalDisney portalFilm portalGreater Los Angeles portalTelevision portalUnited States portalFind out more onWikipedia\\'sSister projectsMediafrom CommonsQuotationsfrom WikiquoteDatafrom Wikidata\\nAuthority control \\nAAG: 305\\nBIBSYS: 90057066\\nBNE: XX1163376\\nBNF: cb11994688k (data)\\nCANTIC: a11231014\\nCiNii: DA09601826\\nGND: 118526006\\nISNI: 0000 0001 2128 0724\\nLCCN: n78095660\\nMusicBrainz: 560416d7-c8f8-4a1b-b555-ef2b93528fb5\\nNARA: 10580368\\nNDL: 00437974\\nNKC: jn19990001791\\nNLA: 35037590\\nNLI: 000039797\\nNLK: KAC199607178\\nNLR: 000066276\\nNTA: 182955389\\nPIC: 308398\\nRKD: 23298\\nSELIBR: 273638\\nSNAC: w6b85pv2\\nSUDOC: 028028945\\nTrove: 808425\\nULAN: 500025598\\nVIAF: 36927108\\n WorldCat Identities: lccn-n78095660\\n\\n\\n\\n\\n\\nRetrieved from \"https://en.wikipedia.org/w/index.php?title=Walt_Disney&oldid=972127952\"\\nCategories: Walt Disney1901 births1966 deaths20th-century American artists20th-century American businesspeople20th-century American male actors20th-century American writersAcademy Honorary Award recipientsAmerican animated film producersAmerican anti-communistsAmerican anti-fascistsAmerican cartoonistsAmerican company foundersFilm producers from MissouriAmerican film studio executivesAmerican film production company foundersAmerican male screenwritersAmerican male voice actorsAmerican mass media ownersAmerican people of Canadian descentAmerican people of English descentAmerican people of German descentAmerican people of Irish descentAmerican Red Cross personnelPhilanthropists from IllinoisAmerican television hostsAmusement park ownersAnimators from IllinoisAnimators from MissouriArtists from ChicagoBurials at Forest Lawn Memorial Park (Glendale)Deaths from cancer in CaliforniaCecil B. DeMille Award Golden Globe winnersCésar Honorary Award recipientsChairmen of DisneyCongressional Gold Medal recipientsDeaths from lung cancerDisney familyDisney executivesFilm directors from MissouriHistory of animationKansas City Art Institute alumniMale actors from MissouriPeople from Marceline, MissouriPresidential Medal of Freedom recipientsPrimetime Emmy Award winnersProducers of Best Documentary Short Subject Academy Award winnersProducers of Live Action Short Film Academy Award winnersRecipients of the Irving G. Thalberg Memorial AwardSchool of the Art Institute of Chicago alumniWriters from ChicagoWriters from MissouriScreenwriters from IllinoisRecipients of the Silver Buffalo AwardPeople from Holmby Hills, Los AngelesDisease-related deaths in CaliforniaOfficers Crosses of the Order of Merit of the Federal Republic of GermanyChevaliers of the Légion d\\'honneurProducers of Best Animated Short Academy Award winners20th-century American male writersHidden categories: Pages containing links to subscription-only contentWikipedia extended-confirmed-protected pagesWikipedia indefinitely move-protected pagesArticles with short descriptionShort description is different from WikidataFeatured articlesUse mdy dates from April 2017Use American English from May 2016All Wikipedia articles written in American EnglishBiography with signatureArticles with hCardsArticles containing German-language textArticles containing French-language textArticles containing Spanish-language textCS1 maint: ref=harvArticles using Template:The Interviews peopleWikipedia articles with AAG identifiersWikipedia articles with BIBSYS identifiersWikipedia articles with BNE identifiersWikipedia articles with BNF identifiersWikipedia articles with CANTIC identifiersWikipedia articles with CINII identifiersWikipedia articles with GND identifiersWikipedia articles with ISNI identifiersWikipedia articles with LCCN identifiersWikipedia articles with MusicBrainz identifiersWikipedia articles with NARA identifiersWikipedia articles with NDL identifiersWikipedia articles with NKC identifiersWikipedia articles with NLA identifiersWikipedia articles with NLI identifiersWikipedia articles with NLK identifiersWikipedia articles with NLR identifiersWikipedia articles with NTA identifiersWikipedia articles with PIC identifiersWikipedia articles with RKDartists identifiersWikipedia articles with SELIBR identifiersWikipedia articles with SNAC-ID identifiersWikipedia articles with SUDOC identifiersWikipedia articles with Trove identifiersWikipedia articles with ULAN identifiersWikipedia articles with VIAF identifiersWikipedia articles with WorldCat identifiersAC with 26 elementsArticles containing video clips\\n\\n\\n\\n\\n\\n\\nNavigation menu\\n\\n\\n\\n\\nPersonal tools\\n\\n\\n\\n\\nNot logged inTalkContributionsCreate accountLog in\\n\\n\\n\\n\\n\\n\\nNamespaces\\n\\n\\n\\n\\nArticleTalk\\n\\n\\n\\n\\n\\n\\nVariants\\n\\n\\n\\n\\n\\n\\n\\n\\n\\n\\n\\n\\nViews\\n\\n\\n\\n\\nReadView sourceView history\\n\\n\\n\\n\\n\\n\\nMore\\n\\n\\n\\n\\n\\n\\n\\n\\n\\nSearch\\n\\n\\n\\n\\n\\n\\n\\n\\n\\n\\n\\n\\n\\n\\n\\n\\n\\n\\n\\nNavigation\\n\\n\\n\\n\\nMain pageContentsCurrent eventsRandom articleAbout WikipediaContact usDonateWikipedia store\\n\\n\\n\\n\\n\\nContribute\\n\\n\\n\\n\\nHelpCommunity portalRecent changesUpload file\\n\\n\\n\\n\\n\\nTools\\n\\n\\n\\n\\nWhat links hereRelated changesUpload fileSpecial pagesPermanent linkPage informationCite this pageWikidata item\\n\\n\\n\\n\\n\\nPrint/export\\n\\n\\n\\n\\nDownload as PDFPrintable version\\n\\n\\n\\n\\n\\nIn other projects\\n\\n\\n\\n\\nWikimedia CommonsWikiquote\\n\\n\\n\\n\\n\\nLanguages\\n\\n\\n\\n\\nАдыгэбзэAfrikaansAlemannischአማርኛالعربيةAragonésঅসমীয়াAsturianuAzərbaycancaবাংলাBân-lâm-gúБашҡортсаБеларускаяБеларуская (тарашкевіца)\\u200eभोजपुरीBikol CentralBislamaБългарскиBoarischBosanskiBrezhonegБуряадCatalàCebuanoČeštinaCorsuCymraegDanskDavvisámegiellaDeitschDeutschDolnoserbskiEestiΕλληνικάEspañolEsperantoEstremeñuEuskaraفارسیFiji HindiFøroysktFrançaisFryskGaeilgeGalego𐌲𐌿𐍄𐌹𐍃𐌺गोंयची कोंकणी / Gõychi Konknni한국어HawaiʻiՀայերենहिन्दीHornjoserbsceHrvatskiBahasa HulontaloIdoIlokanoBahasa IndonesiaInterlinguaИронÍslenskaItalianoעבריתJawaKabɩyɛಕನ್ನಡქართულიҚазақшаKiswahiliKreyòl ayisyenKriyòl gwiyannenKurdîКыргызчаLatinaLatviešuLëtzebuergeschLietuviųLigureLimburgsLivvinkarjalaMagyarमैथिलीМакедонскиMalagasyമലയാളംमराठीმარგალურიمصرىBahasa MelayuMinangkabauМонголမြန်မာဘာသာNāhuatlNederlandsनेपालीनेपाल भाषा日本語НохчийнNorsk bokmålNorsk nynorskOccitanOʻzbekcha/ўзбекчаਪੰਜਾਬੀپنجابیPiemontèisPlattdüütschPolskiPortuguêsRomânăRuna SimiРусиньскыйРусскийСаха тылаसंस्कृतम्ᱥᱟᱱᱛᱟᱲᱤSarduScotsShqipSicilianuSimple EnglishSlovenčinaSlovenščinaŚlůnskiکوردیСрпски / srpskiSrpskohrvatski / српскохрватскиSundaSuomiSvenskaTagalogதமிழ்Татарча/tatarçaతెలుగుไทยТоҷикӣTürkçeУкраїнськаاردوVènetoVepsän kel’Tiếng ViệtVolapükWalonWinaray吴语ייִדישYorùbá粵語Žemaitėška中文\\nEdit links\\n\\n\\n\\n\\n\\n\\n This page was last edited on 10 August 2020, at 09:27\\xa0(UTC).\\nText is available under the Creative Commons Attribution-ShareAlike License;\\nadditional terms may apply.  By using this site, you agree to the Terms of Use and Privacy Policy. Wikipedia® is a registered trademark of the Wikimedia Foundation, Inc., a non-profit organization.\\n\\n\\nPrivacy policy\\nAbout Wikipedia\\nDisclaimers\\nContact Wikipedia\\nMobile view\\nDevelopers\\nStatistics\\nCookie statement\\n\\n\\n\\n\\n\\n\\n\\n(RLQ=window.RLQ||[]).push(function(){mw.config.set({\"wgPageParseReport\":{\"limitreport\":{\"cputime\":\"2.644\",\"walltime\":\"3.116\",\"ppvisitednodes\":{\"value\":15429,\"limit\":1000000},\"postexpandincludesize\":{\"value\":413829,\"limit\":2097152},\"templateargumentsize\":{\"value\":60183,\"limit\":2097152},\"expansiondepth\":{\"value\":26,\"limit\":40},\"expensivefunctioncount\":{\"value\":40,\"limit\":500},\"unstrip-depth\":{\"value\":1,\"limit\":20},\"unstrip-size\":{\"value\":486134,\"limit\":5000000},\"entityaccesscount\":{\"value\":1,\"limit\":400},\"timingprofile\":[\"100.00% 2544.033      1 -total\",\" 19.49%  495.724      2 Template:Reflist\",\" 16.45%  418.396    146 Template:Sfn\",\" 14.17%  360.440     28 Template:Efn\",\" 10.84%  275.729      1 Template:Infobox_person\",\"  9.87%  250.998      1 Template:Infobox\",\"  9.66%  245.634     41 Template:Cite_web\",\"  7.47%  189.949      5 Template:Br_separated_entries\",\"  7.32%  186.182      5 Template:Lang\",\"  6.48%  164.920     29 Template:Cite_book\"]},\"scribunto\":{\"limitreport-timeusage\":{\"value\":\"1.454\",\"limit\":\"10.000\"},\"limitreport-memusage\":{\"value\":31636506,\"limit\":52428800},\"limitreport-logs\":\"anchor_id_list = table#1 {\\\\n  [\\\\\"CITEREFAarons1964\\\\\"] = 1,\\\\n  [\\\\\"CITEREFAllen1990\\\\\"] = 1,\\\\n  [\\\\\"CITEREFBarrier1999\\\\\"] = 1,\\\\n  [\\\\\"CITEREFBarrier2007\\\\\"] = 1,\\\\n  [\\\\\"CITEREFBeard1982\\\\\"] = 1,\\\\n  [\\\\\"CITEREFBroggie2006\\\\\"] = 1,\\\\n  [\\\\\"CITEREFCanemaker2001\\\\\"] = 1,\\\\n  [\\\\\"CITEREFCarnaham2012\\\\\"] = 1,\\\\n  [\\\\\"CITEREFCeplairEnglund1983\\\\\"] = 1,\\\\n  [\\\\\"CITEREFCohen2004\\\\\"] = 1,\\\\n  [\\\\\"CITEREFCooke1966\\\\\"] = 1,\\\\n  [\\\\\"CITEREFCrowther2015\\\\\"] = 1,\\\\n  [\\\\\"CITEREFDanks2003\\\\\"] = 1,\\\\n  [\\\\\"CITEREFDargis2011\\\\\"] = 1,\\\\n  [\\\\\"CITEREFDobson2009\\\\\"] = 1,\\\\n  [\\\\\"CITEREFDostis2015\\\\\"] = 1,\\\\n  [\\\\\"CITEREFEliot1995\\\\\"] = 1,\\\\n  [\\\\\"CITEREFFinch1999\\\\\"] = 1,\\\\n  [\\\\\"CITEREFGabler2006\\\\\"] = 1,\\\\n  [\\\\\"CITEREFGettell2013\\\\\"] = 1,\\\\n  [\\\\\"CITEREFGritten2013\\\\\"] = 1,\\\\n  [\\\\\"CITEREFHollisEhrbar2006\\\\\"] = 1,\\\\n  [\\\\\"CITEREFIzard1967\\\\\"] = 1,\\\\n  [\\\\\"CITEREFKorkis2012\\\\\"] = 1,\\\\n  [\\\\\"CITEREFKrasniewicz2010\\\\\"] = 1,\\\\n  [\\\\\"CITEREFLanger2000\\\\\"] = 1,\\\\n  [\\\\\"CITEREFLeeMadej2012\\\\\"] = 1,\\\\n  [\\\\\"CITEREFLejeune1938\\\\\"] = 1,\\\\n  [\\\\\"CITEREFLejeune1951\\\\\"] = 1,\\\\n  [\\\\\"CITEREFMannheim2016\\\\\"] = 1,\\\\n  [\\\\\"CITEREFMarth1969\\\\\"] = 1,\\\\n  [\\\\\"CITEREFMeyers1988\\\\\"] = 1,\\\\n  [\\\\\"CITEREFMitgang1993\\\\\"] = 1,\\\\n  [\\\\\"CITEREFMosley1990\\\\\"] = 1,\\\\n  [\\\\\"CITEREFMumfordGordon\\\\\"] = 1,\\\\n  [\\\\\"CITEREFNichols2014\\\\\"] = 1,\\\\n  [\\\\\"CITEREFNorman2013\\\\\"] = 1,\\\\n  [\\\\\"CITEREFPainter2008\\\\\"] = 1,\\\\n  [\\\\\"CITEREFPatches2015\\\\\"] = 1,\\\\n  [\\\\\"CITEREFPierce1987\\\\\"] = 1,\\\\n  [\\\\\"CITEREFPoyser2009\\\\\"] = 1,\\\\n  [\\\\\"CITEREFPuig2010\\\\\"] = 1,\\\\n  [\\\\\"CITEREFRackl2009\\\\\"] = 1,\\\\n  [\\\\\"CITEREFRothstein2009\\\\\"] = 1,\\\\n  [\\\\\"CITEREFSchickel1986\\\\\"] = 1,\\\\n  [\\\\\"CITEREFSchmadel2003\\\\\"] = 1,\\\\n  [\\\\\"CITEREFScott1995\\\\\"] = 1,\\\\n  [\\\\\"CITEREFSingh2012\\\\\"] = 1,\\\\n  [\\\\\"CITEREFSolomon\\\\\"] = 1,\\\\n  [\\\\\"CITEREFSoteriou2012\\\\\"] = 1,\\\\n  [\\\\\"CITEREFTelotte2008\\\\\"] = 1,\\\\n  [\\\\\"CITEREFThomas1994\\\\\"] = 1,\\\\n  [\\\\\"CITEREFThomasJohnston1995\\\\\"] = 1,\\\\n  [\\\\\"CITEREFTomlinson2001\\\\\"] = 1,\\\\n  [\\\\\"CITEREFWatts1995\\\\\"] = 1,\\\\n  [\\\\\"CITEREFWatts2013\\\\\"] = 1,\\\\n  [\\\\\"CITEREFWilliamsDenneyDenney2004\\\\\"] = 1,\\\\n  [\\\\\"CITEREFWinter1997\\\\\"] = 1,\\\\n  [\\\\\"CITEREFWithrow2009\\\\\"] = 1,\\\\n}\\\\ntemplate_list = table#1 {\\\\n  [\\\\\"1986 Television Hall of Fame\\\\\"] = 1,\\\\n  [\\\\\"About\\\\\"] = 1,\\\\n  [\\\\\"Academy Honorary Award\\\\\"] = 1,\\\\n  [\\\\\"Authority control\\\\\"] = 1,\\\\n  [\\\\\"Birth date\\\\\"] = 1,\\\\n  [\\\\\"CURRENTYEAR\\\\\"] = 5,\\\\n  [\\\\\"Cecil B. DeMille Award 1952–1975\\\\\"] = 1,\\\\n  [\\\\\"Circa\\\\\"] = 1,\\\\n  [\\\\\"Cite AV media\\\\\"] = 5,\\\\n  [\\\\\"Cite book\\\\\"] = 29,\\\\n  [\\\\\"Cite journal\\\\\"] = 4,\\\\n  [\\\\\"Cite news\\\\\"] = 32,\\\\n  [\\\\\"Cite web\\\\\"] = 38,\\\\n  [\\\\\"Convert\\\\\"] = 1,\\\\n  [\\\\\"DEFAULTSORT:Disney, Walt\\\\\"] = 1,\\\\n  [\\\\\"Death date and age\\\\\"] = 1,\\\\n  [\\\\\"Disney\\\\\"] = 1,\\\\n  [\\\\\"Disneyland Resort\\\\\"] = 1,\\\\n  [\\\\\"Efn\\\\\"] = 28,\\\\n  [\\\\\"Featured article\\\\\"] = 1,\\\\n  [\\\\\"Flatlist\\\\\"] = 1,\\\\n  [\\\\\"Formatnum:{{Inflation\\\\\"] = 5,\\\\n  [\\\\\"Honorary César\\\\\"] = 1,\\\\n  [\\\\\"IMDb name\\\\\"] = 1,\\\\n  [\\\\\"IPAc-en\\\\\"] = 1,\\\\n  [\\\\\"Inflation\\\\\"] = 5,\\\\n  [\\\\\"Inflation-fn\\\\\"] = 3,\\\\n  [\\\\\"Infobox person\\\\\"] = 1,\\\\n  [\\\\\"Lang\\\\\"] = 5,\\\\n  [\\\\\"Navboxes\\\\\"] = 1,\\\\n  [\\\\\"Nee\\\\\"] = 1,\\\\n  [\\\\\"Nnbsp\\\\\"] = 1,\\\\n  [\\\\\"Not a typo\\\\\"] = 1,\\\\n  [\\\\\"Notes\\\\\"] = 1,\\\\n  [\\\\\"Nsmdns\\\\\"] = 31,\\\\n  [\\\\\"Plainlist\\\\\"] = 1,\\\\n  [\\\\\"Pp-30-500\\\\\"] = 1,\\\\n  [\\\\\"Pp-move-indef\\\\\"] = 1,\\\\n  [\\\\\"Refbegin\\\\\"] = 1,\\\\n  [\\\\\"Refend\\\\\"] = 1,\\\\n  [\\\\\"Reflist\\\\\"] = 1,\\\\n  [\\\\\"S-aft\\\\\"] = 1,\\\\n  [\\\\\"S-bef\\\\\"] = 1,\\\\n  [\\\\\"S-end\\\\\"] = 1,\\\\n  [\\\\\"S-start\\\\\"] = 1,\\\\n  [\\\\\"S-ttl\\\\\"] = 1,\\\\n  [\\\\\"See also\\\\\"] = 1,\\\\n  [\\\\\"Sfn\\\\\"] = 146,\\\\n  [\\\\\"Sfnm\\\\\"] = 20,\\\\n  [\\\\\"Short description\\\\\"] = 1,\\\\n  [\\\\\"Snds\\\\\"] = 1,\\\\n  [\\\\\"Subject bar\\\\\"] = 1,\\\\n  [\\\\\"Subscription\\\\\"] = 3,\\\\n  [\\\\\"Tcmdb name\\\\\"] = 1,\\\\n  [\\\\\"Thalberg Award\\\\\"] = 1,\\\\n  [\\\\\"The Interviews people\\\\\"] = 1,\\\\n  [\\\\\"Use American English\\\\\"] = 1,\\\\n  [\\\\\"Use mdy dates\\\\\"] = 1,\\\\n  [\\\\\"Worldcat id\\\\\"] = 1,\\\\n}\\\\narticle_whitelist = table#1 {\\\\n}\\\\n\",\"limitreport-profile\":[[\"recursiveClone \\\\u003CmwInit.lua:41\\\\u003E\",\"260\",\"17.8\"],[\"?\",\"220\",\"15.1\"],[\"Scribunto_LuaSandboxCallback::match\",\"160\",\"11.0\"],[\"Scribunto_LuaSandboxCallback::callParserFunction\",\"140\",\"9.6\"],[\"Scribunto_LuaSandboxCallback::getEntity\",\"100\",\"6.8\"],[\"Scribunto_LuaSandboxCallback::getExpandedArgument\",\"80\",\"5.5\"],[\"type\",\"40\",\"2.7\"],[\"\\\\u003Cmw.lua:683\\\\u003E\",\"40\",\"2.7\"],[\"(for generator)\",\"40\",\"2.7\"],[\"dataWrapper \\\\u003Cmw.lua:661\\\\u003E\",\"40\",\"2.7\"],[\"[others]\",\"340\",\"23.3\"]]},\"cachereport\":{\"origin\":\"mw1270\",\"timestamp\":\"20200820154357\",\"ttl\":86400,\"transientcontent\":true}}});});\\n{\"@context\":\"https:\\\\/\\\\/schema.org\",\"@type\":\"Article\",\"name\":\"Walt Disney\",\"url\":\"https:\\\\/\\\\/en.wikipedia.org\\\\/wiki\\\\/Walt_Disney\",\"sameAs\":\"http:\\\\/\\\\/www.wikidata.org\\\\/entity\\\\/Q8704\",\"mainEntity\":\"http:\\\\/\\\\/www.wikidata.org\\\\/entity\\\\/Q8704\",\"author\":{\"@type\":\"Organization\",\"name\":\"Contributors to Wikimedia projects\"},\"publisher\":{\"@type\":\"Organization\",\"name\":\"Wikimedia Foundation, Inc.\",\"logo\":{\"@type\":\"ImageObject\",\"url\":\"https:\\\\/\\\\/www.wikimedia.org\\\\/static\\\\/images\\\\/wmf-hor-googpub.png\"}},\"datePublished\":\"2001-10-07T20:36:47Z\",\"dateModified\":\"2020-08-10T09:27:08Z\",\"image\":\"https:\\\\/\\\\/upload.wikimedia.org\\\\/wikipedia\\\\/commons\\\\/d\\\\/df\\\\/Walt_Disney_1946.JPG\",\"headline\":\"American film producer and businessman (1901-1966)\"}\\n(RLQ=window.RLQ||[]).push(function(){mw.config.set({\"wgBackendResponseTime\":261,\"wgHostname\":\"mw1366\"});});\\n'"
      ]
     },
     "execution_count": 60,
     "metadata": {},
     "output_type": "execute_result"
    }
   ],
   "source": [
    "# This is the url you will scrape in this exercise\n",
    "url2 = 'https://en.wikipedia.org/wiki/Walt_Disney'\n",
    "r2 = requests.get(url2)\n",
    "soup2 = BeautifulSoup(r2.content, 'html.parser')\n",
    "soup2.text"
   ]
  },
  {
   "cell_type": "code",
   "execution_count": 81,
   "metadata": {
    "scrolled": false
   },
   "outputs": [
    {
     "data": {
      "text/plain": [
       "['/wiki/File:Walt_Disney_1946.JPG',\n",
       " '/wiki/File:Walt_Disney_1942_signature.svg',\n",
       " '/wiki/File:Walt_Disney_envelope_ca._1921.jpg',\n",
       " '/wiki/File:Trolley_Troubles_poster.jpg',\n",
       " '/wiki/File:Walt_Disney_and_his_cartoon_creation_%22Mickey_Mouse%22_-_National_Board_of_Review_Magazine.jpg',\n",
       " '/wiki/File:Steamboat-willie.jpg',\n",
       " '/wiki/File:Walt_Disney_1935.jpg',\n",
       " '/wiki/File:Walt_Disney_Snow_white_1937_trailer_screenshot_(13).jpg',\n",
       " '/wiki/File:Disney_drawing_goofy.jpg',\n",
       " '/wiki/File:DisneySchiphol1951.jpg',\n",
       " '/wiki/File:WaltDisneyplansDisneylandDec1954.jpg',\n",
       " '/wiki/File:Walt_disney_portrait_right.jpg',\n",
       " '/wiki/File:Walt_Disney_Grave.JPG',\n",
       " '/wiki/File:Roy_O._Disney_with_Company_at_Press_Conference.jpg',\n",
       " '/wiki/File:Disney_Display_Case.JPG',\n",
       " '/wiki/File:Disney1968.jpg',\n",
       " '/wiki/File:The_Walt_Disney_Company_Logo.svg',\n",
       " '/wiki/File:Animation_disc.svg',\n",
       " '/wiki/File:P_vip.svg',\n",
       " '/wiki/File:Magic_Kingdom_castle.jpg',\n",
       " '/wiki/File:Video-x-generic.svg',\n",
       " '/wiki/File:Flag_of_Los_Angeles_County,_California.svg',\n",
       " '/wiki/File:Blank_television_set.svg',\n",
       " '/wiki/File:Flag_of_the_United_States.svg']"
      ]
     },
     "execution_count": 81,
     "metadata": {},
     "output_type": "execute_result"
    }
   ],
   "source": [
    "#your code\n",
    "image = soup2.find_all(class_='image')\n",
    "image_list=[]\n",
    "for x in image:\n",
    "    image_list.append(x.get(\"href\"))\n",
    "image_list"
   ]
  },
  {
   "cell_type": "markdown",
   "metadata": {},
   "source": [
    "#### Retrieve an arbitary Wikipedia page of \"Python\" and create a list of links on that page"
   ]
  },
  {
   "cell_type": "code",
   "execution_count": 83,
   "metadata": {
    "collapsed": true
   },
   "outputs": [
    {
     "data": {
      "text/plain": [
       "'\\n\\n\\n\\nPython - Wikipedia\\ndocument.documentElement.className=\"client-js\";RLCONF={\"wgBreakFrames\":!1,\"wgSeparatorTransformTable\":[\"\",\"\"],\"wgDigitTransformTable\":[\"\",\"\"],\"wgDefaultDateFormat\":\"dmy\",\"wgMonthNames\":[\"\",\"January\",\"February\",\"March\",\"April\",\"May\",\"June\",\"July\",\"August\",\"September\",\"October\",\"November\",\"December\"],\"wgRequestId\":\"65a096e6-da2e-459b-bb8b-bcabb73f5a21\",\"wgCSPNonce\":!1,\"wgCanonicalNamespace\":\"\",\"wgCanonicalSpecialPageName\":!1,\"wgNamespaceNumber\":0,\"wgPageName\":\"Python\",\"wgTitle\":\"Python\",\"wgCurRevisionId\":963092579,\"wgRevisionId\":963092579,\"wgArticleId\":46332325,\"wgIsArticle\":!0,\"wgIsRedirect\":!1,\"wgAction\":\"view\",\"wgUserName\":null,\"wgUserGroups\":[\"*\"],\"wgCategories\":[\"Disambiguation pages with short descriptions\",\"Short description is different from Wikidata\",\"All article disambiguation pages\",\"All disambiguation pages\",\"Animal common name disambiguation pages\",\"Disambiguation pages\"],\"wgPageContentLanguage\":\"en\",\"wgPageContentModel\":\"wikitext\",\"wgRelevantPageName\":\"Python\"\\n,\"wgRelevantArticleId\":46332325,\"wgIsProbablyEditable\":!0,\"wgRelevantPageIsProbablyEditable\":!0,\"wgRestrictionEdit\":[],\"wgRestrictionMove\":[],\"wgMediaViewerOnClick\":!0,\"wgMediaViewerEnabledByDefault\":!0,\"wgPopupsReferencePreviews\":!1,\"wgPopupsConflictsWithNavPopupGadget\":!1,\"wgVisualEditor\":{\"pageLanguageCode\":\"en\",\"pageLanguageDir\":\"ltr\",\"pageVariantFallbacks\":\"en\"},\"wgMFDisplayWikibaseDescriptions\":{\"search\":!0,\"nearby\":!0,\"watchlist\":!0,\"tagline\":!1},\"wgWMESchemaEditAttemptStepOversample\":!1,\"wgULSCurrentAutonym\":\"English\",\"wgNoticeProject\":\"wikipedia\",\"wgCentralAuthMobileDomain\":!1,\"wgEditSubmitButtonLabelPublish\":!0,\"wgULSPosition\":\"interlanguage\",\"wgWikibaseItemId\":\"Q747452\"};RLSTATE={\"ext.globalCssJs.user.styles\":\"ready\",\"site.styles\":\"ready\",\"noscript\":\"ready\",\"user.styles\":\"ready\",\"ext.globalCssJs.user\":\"ready\",\"user\":\"ready\",\"user.options\":\"loading\",\"skins.vector.styles.legacy\":\"ready\",\"mediawiki.toc.styles\":\"ready\",\\n\"ext.visualEditor.desktopArticleTarget.noscript\":\"ready\",\"ext.uls.interlanguage\":\"ready\",\"ext.wikimediaBadges\":\"ready\",\"wikibase.client.init\":\"ready\"};RLPAGEMODULES=[\"site\",\"mediawiki.page.ready\",\"mediawiki.toc\",\"skins.vector.legacy.js\",\"ext.gadget.ReferenceTooltips\",\"ext.gadget.charinsert\",\"ext.gadget.extra-toolbar-buttons\",\"ext.gadget.refToolbar\",\"ext.gadget.switcher\",\"ext.centralauth.centralautologin\",\"mmv.head\",\"mmv.bootstrap.autostart\",\"ext.popups\",\"ext.visualEditor.desktopArticleTarget.init\",\"ext.visualEditor.targetLoader\",\"ext.eventLogging\",\"ext.wikimediaEvents\",\"ext.navigationTiming\",\"ext.uls.compactlinks\",\"ext.uls.interface\",\"ext.cx.eventlogging.campaigns\",\"ext.quicksurveys.init\",\"ext.centralNotice.geoIP\",\"ext.centralNotice.startUp\"];\\n(RLQ=window.RLQ||[]).push(function(){mw.loader.implement(\"user.options@1hzgi\",function($,jQuery,require,module){/*@nomin*/mw.user.tokens.set({\"patrolToken\":\"+\\\\\\\\\",\"watchToken\":\"+\\\\\\\\\",\"csrfToken\":\"+\\\\\\\\\"});\\n});});\\n\\n\\n\\n\\n\\n\\n\\n\\n\\n\\n\\n\\n\\n\\n\\n\\n\\n\\n\\n\\n\\n\\n\\n\\n\\n\\n\\nPython\\n\\nFrom Wikipedia, the free encyclopedia\\n\\n\\n\\nJump to navigation\\nJump to search\\n\\n\\n\\nLook up Python\\xa0or python in Wiktionary, the free dictionary.\\n\\nPython may refer to:\\n\\n.mw-parser-output .tocright{float:right;clear:right;width:auto;background:none;padding:.5em 0 .8em 1.4em;margin-bottom:.5em}.mw-parser-output .tocright-clear-left{clear:left}.mw-parser-output .tocright-clear-both{clear:both}.mw-parser-output .tocright-clear-none{clear:none}Contents\\n\\n1 Snakes\\n2 Ancient Greece\\n3 Media and entertainment\\n4 Computing\\n5 Engineering\\n\\n5.1 Roller coasters\\n5.2 Vehicles\\n5.3 Weaponry\\n\\n\\n6 People\\n7 Other uses\\n8 See also\\n\\n\\n\\nSnakes[edit]\\nPythonidae, a family of nonvenomous snakes found in Africa, Asia, and Australia known as pythons\\nPython (genus), of nonvenomous Pythonidae found in Africa and Asia\\nAncient Greece[edit]\\nPython (mythology), a serpent, the earth-dragon of Delphi\\nPython of Aenus (4th-century BCE), student of Plato\\nPython (painter), (ca. 360-320 BCE) vase painter in Poseidonia\\nPython of Byzantium, orator, diplomat of Philip II of Macedon\\nPython of Catana, poet who accompanied Alexander the Great\\nMedia and entertainment[edit]\\nPython (film), a 2000 horror film by Richard Clabaugh\\nPythons 2, or Python II, a 2002 sequel to Python\\nThe Pythons, or Monty Python, a British comedy group\\nPython (Monty) Pictures, a company owned by the troupe\\'s surviving members\\nComputing[edit]\\nPython (programming language)\\nCPython, the reference implementation of the Python programming language\\nPython, a native code compiler for CMU Common Lisp\\nPython, the internal project name for the PERQ 3 computer workstation\\nEngineering[edit]\\nRoller coasters[edit]\\nPython (Busch Gardens Tampa Bay), a defunct roller coaster at Busch Gardens Africa\\nPython (Coney Island, Cincinnati, Ohio), a D.P.V. Rides designed Zyklon-style steel roller coaster that operated from 1996 to 1999 at Splash Zone Water Park but was relocated to Coney Island at the end of the 1999 season\\nPython (Efteling), a roller coaster in Efteling, the Netherlands\\nVehicles[edit]\\nPython (automobile maker), an Australian car company\\nPython (Ford prototype), a Ford prototype sports car\\nWeaponry[edit]\\nColt Python, a revolver\\nPython (missile), a series of Israeli air-to-air missiles\\nPython (nuclear primary), a gas-boosted fission primary used in thermonuclear weapons\\nPeople[edit]\\nPython Anghelo (1954–2014) Romanian graphic artist\\nOther uses[edit]\\nPYTHON, British nuclear war contingency plan\\nSee also[edit]\\nCython, a programming language superset of Python with a foreign function interface for invoking C/C++ routines\\nPyton, a Norwegian adult humour magazine\\n.mw-parser-output table.dmbox{clear:both;margin:0.9em 1em;border-top:1px solid #ccc;border-bottom:1px solid #ccc;background-color:transparent}\\n\\n\\n \\n Disambiguation page providing links to topics that could be referred to by the same search termThis disambiguation page lists  articles associated with the title Python.  If an internal link led you here, you may wish to change the link to point directly to the intended article. \\n\\n\\n\\n\\n\\n\\nRetrieved from \"https://en.wikipedia.org/w/index.php?title=Python&oldid=963092579\"\\nCategories: Disambiguation pagesHidden categories: Disambiguation pages with short descriptionsShort description is different from WikidataAll article disambiguation pagesAll disambiguation pagesAnimal common name disambiguation pages\\n\\n\\n\\n\\n\\n\\nNavigation menu\\n\\n\\n\\n\\nPersonal tools\\n\\n\\n\\n\\nNot logged inTalkContributionsCreate accountLog in\\n\\n\\n\\n\\n\\n\\nNamespaces\\n\\n\\n\\n\\nArticleTalk\\n\\n\\n\\n\\n\\n\\nVariants\\n\\n\\n\\n\\n\\n\\n\\n\\n\\n\\n\\n\\nViews\\n\\n\\n\\n\\nReadEditView history\\n\\n\\n\\n\\n\\n\\nMore\\n\\n\\n\\n\\n\\n\\n\\n\\n\\nSearch\\n\\n\\n\\n\\n\\n\\n\\n\\n\\n\\n\\n\\n\\n\\n\\n\\n\\n\\n\\nNavigation\\n\\n\\n\\n\\nMain pageContentsCurrent eventsRandom articleAbout WikipediaContact usDonateWikipedia store\\n\\n\\n\\n\\n\\nContribute\\n\\n\\n\\n\\nHelpCommunity portalRecent changesUpload file\\n\\n\\n\\n\\n\\nTools\\n\\n\\n\\n\\nWhat links hereRelated changesUpload fileSpecial pagesPermanent linkPage informationCite this pageWikidata item\\n\\n\\n\\n\\n\\nPrint/export\\n\\n\\n\\n\\nDownload as PDFPrintable version\\n\\n\\n\\n\\n\\nIn other projects\\n\\n\\n\\n\\nWikimedia Commons\\n\\n\\n\\n\\n\\nLanguages\\n\\n\\n\\n\\nAfrikaansAlemannischالعربيةAzərbaycancaবাংলাБеларускаяБългарскиČeštinaDanskDeutschEsperantoEuskaraفارسیFrançais한국어HrvatskiIdoBahasa IndonesiaInterlinguaÍslenskaItalianoעבריתქართულიKongoLatinaLëtzebuergeschMagyarमराठीNederlands日本語Norsk bokmålPolskiPortuguêsРусскийSlovenčinaСрпски / srpskiSrpskohrvatski / српскохрватскиSuomiSvenskaไทยTürkçeУкраїнськаاردوTiếng Việt中文\\nEdit links\\n\\n\\n\\n\\n\\n\\n This page was last edited on 17 June 2020, at 19:46\\xa0(UTC).\\nText is available under the Creative Commons Attribution-ShareAlike License;\\nadditional terms may apply.  By using this site, you agree to the Terms of Use and Privacy Policy. Wikipedia® is a registered trademark of the Wikimedia Foundation, Inc., a non-profit organization.\\n\\n\\nPrivacy policy\\nAbout Wikipedia\\nDisclaimers\\nContact Wikipedia\\nMobile view\\nDevelopers\\nStatistics\\nCookie statement\\n\\n\\n\\n\\n\\n\\n\\n(RLQ=window.RLQ||[]).push(function(){mw.config.set({\"wgPageParseReport\":{\"limitreport\":{\"cputime\":\"0.132\",\"walltime\":\"0.198\",\"ppvisitednodes\":{\"value\":1395,\"limit\":1000000},\"postexpandincludesize\":{\"value\":6430,\"limit\":2097152},\"templateargumentsize\":{\"value\":1614,\"limit\":2097152},\"expansiondepth\":{\"value\":16,\"limit\":40},\"expensivefunctioncount\":{\"value\":1,\"limit\":500},\"unstrip-depth\":{\"value\":0,\"limit\":20},\"unstrip-size\":{\"value\":626,\"limit\":5000000},\"entityaccesscount\":{\"value\":0,\"limit\":400},\"timingprofile\":[\"100.00%  170.614      1 -total\",\" 68.82%  117.422      1 Template:Disambiguation\",\" 54.93%   93.723      1 Template:Dmbox\",\" 21.16%   36.105      1 Template:Disambiguation_page_short_description\",\" 19.75%   33.694      1 Template:Short_description\",\" 18.82%   32.118      1 Template:Wiktionary\",\" 17.87%   30.493      3 Template:Main_other\",\" 16.55%   28.235      1 Template:Sister_project\",\" 14.52%   24.766      1 Template:Category_handler\",\" 14.06%   23.987      1 Template:Side_box\"]},\"scribunto\":{\"limitreport-timeusage\":{\"value\":\"0.028\",\"limit\":\"10.000\"},\"limitreport-memusage\":{\"value\":1257295,\"limit\":52428800}},\"cachereport\":{\"origin\":\"mw1349\",\"timestamp\":\"20200807014518\",\"ttl\":2592000,\"transientcontent\":false}}});});\\n{\"@context\":\"https:\\\\/\\\\/schema.org\",\"@type\":\"Article\",\"name\":\"Python\",\"url\":\"https:\\\\/\\\\/en.wikipedia.org\\\\/wiki\\\\/Python\",\"sameAs\":\"http:\\\\/\\\\/www.wikidata.org\\\\/entity\\\\/Q747452\",\"mainEntity\":\"http:\\\\/\\\\/www.wikidata.org\\\\/entity\\\\/Q747452\",\"author\":{\"@type\":\"Organization\",\"name\":\"Contributors to Wikimedia projects\"},\"publisher\":{\"@type\":\"Organization\",\"name\":\"Wikimedia Foundation, Inc.\",\"logo\":{\"@type\":\"ImageObject\",\"url\":\"https:\\\\/\\\\/www.wikimedia.org\\\\/static\\\\/images\\\\/wmf-hor-googpub.png\"}},\"datePublished\":\"2004-05-11T17:28:52Z\",\"dateModified\":\"2020-06-17T19:46:13Z\",\"headline\":\"Wikimedia disambiguation page\"}\\n(RLQ=window.RLQ||[]).push(function(){mw.config.set({\"wgBackendResponseTime\":137,\"wgHostname\":\"mw1399\"});});\\n'"
      ]
     },
     "execution_count": 83,
     "metadata": {},
     "output_type": "execute_result"
    }
   ],
   "source": [
    "# This is the url you will scrape in this exercise\n",
    "url3 ='https://en.wikipedia.org/wiki/Python'\n",
    "r3 = requests.get(url3)\n",
    "soup3 = BeautifulSoup(r3.content, 'html.parser')\n",
    "soup3.text"
   ]
  },
  {
   "cell_type": "code",
   "execution_count": 95,
   "metadata": {},
   "outputs": [
    {
     "data": {
      "text/plain": [
       "['#Snakes',\n",
       " '#Ancient_Greece',\n",
       " '#Media_and_entertainment',\n",
       " '#Computing',\n",
       " '#Engineering',\n",
       " '#Roller_coasters',\n",
       " '#Vehicles',\n",
       " '#Weaponry',\n",
       " '#People',\n",
       " '#Other_uses',\n",
       " '#See_also',\n",
       " '/wiki/Pythonidae',\n",
       " '/wiki/Python_(genus)',\n",
       " '/wiki/Python_(mythology)',\n",
       " '/wiki/Python_of_Aenus',\n",
       " '/wiki/Python_(painter)',\n",
       " '/wiki/Python_of_Byzantium',\n",
       " '/wiki/Python_of_Catana',\n",
       " '/wiki/Python_(film)',\n",
       " '/wiki/Pythons_2',\n",
       " '/wiki/Monty_Python',\n",
       " '/wiki/Python_(Monty)_Pictures',\n",
       " '/wiki/Python_(programming_language)',\n",
       " '/wiki/CPython',\n",
       " '/wiki/CMU_Common_Lisp',\n",
       " '/wiki/PERQ#PERQ_3',\n",
       " '/wiki/Python_(Busch_Gardens_Tampa_Bay)',\n",
       " '/wiki/Python_(Coney_Island,_Cincinnati,_Ohio)',\n",
       " '/wiki/Python_(Efteling)',\n",
       " '/wiki/Python_(automobile_maker)',\n",
       " '/wiki/Python_(Ford_prototype)',\n",
       " '/wiki/Colt_Python',\n",
       " '/wiki/Python_(missile)',\n",
       " '/wiki/Python_(nuclear_primary)',\n",
       " '/wiki/Python_Anghelo',\n",
       " '/wiki/PYTHON',\n",
       " '/wiki/Cython',\n",
       " '/wiki/Pyton',\n",
       " '/wiki/Category:Disambiguation_pages',\n",
       " '/wiki/Category:Disambiguation_pages_with_short_descriptions',\n",
       " '/wiki/Category:Short_description_is_different_from_Wikidata',\n",
       " '/wiki/Category:All_article_disambiguation_pages',\n",
       " '/wiki/Category:All_disambiguation_pages',\n",
       " '/wiki/Category:Animal_common_name_disambiguation_pages',\n",
       " '/wiki/Special:MyTalk',\n",
       " '/wiki/Special:MyContributions',\n",
       " '/w/index.php?title=Special:CreateAccount&returnto=Python',\n",
       " '/w/index.php?title=Special:UserLogin&returnto=Python',\n",
       " '/wiki/Python',\n",
       " '/wiki/Talk:Python',\n",
       " '/wiki/Python',\n",
       " '/w/index.php?title=Python&action=edit',\n",
       " '/w/index.php?title=Python&action=history',\n",
       " '/wiki/Main_Page',\n",
       " '/wiki/Wikipedia:Contents',\n",
       " '/wiki/Portal:Current_events',\n",
       " '/wiki/Special:Random',\n",
       " '/wiki/Wikipedia:About',\n",
       " '//en.wikipedia.org/wiki/Wikipedia:Contact_us',\n",
       " 'https://donate.wikimedia.org/wiki/Special:FundraiserRedirector?utm_source=donate&utm_medium=sidebar&utm_campaign=C13_en.wikipedia.org&uselang=en',\n",
       " '//shop.wikimedia.org',\n",
       " '/wiki/Help:Contents',\n",
       " '/wiki/Wikipedia:Community_portal',\n",
       " '/wiki/Special:RecentChanges',\n",
       " '/wiki/Wikipedia:File_Upload_Wizard',\n",
       " '/wiki/Special:WhatLinksHere/Python',\n",
       " '/wiki/Special:RecentChangesLinked/Python',\n",
       " '/wiki/Wikipedia:File_Upload_Wizard',\n",
       " '/wiki/Special:SpecialPages',\n",
       " '/w/index.php?title=Python&oldid=963092579',\n",
       " '/w/index.php?title=Python&action=info',\n",
       " '/w/index.php?title=Special:CiteThisPage&page=Python&id=963092579&wpFormIdentifier=titleform',\n",
       " 'https://www.wikidata.org/wiki/Special:EntityPage/Q747452',\n",
       " '/w/index.php?title=Special:DownloadAsPdf&page=Python&action=show-download-screen',\n",
       " '/w/index.php?title=Python&printable=yes',\n",
       " 'https://commons.wikimedia.org/wiki/Category:Python',\n",
       " 'https://af.wikipedia.org/wiki/Python',\n",
       " 'https://als.wikipedia.org/wiki/Python',\n",
       " 'https://ar.wikipedia.org/wiki/%D8%A8%D8%A7%D9%8A%D8%AB%D9%88%D9%86',\n",
       " 'https://az.wikipedia.org/wiki/Python',\n",
       " 'https://bn.wikipedia.org/wiki/%E0%A6%AA%E0%A6%BE%E0%A6%87%E0%A6%A5%E0%A6%A8_(%E0%A6%A6%E0%A7%8D%E0%A6%AC%E0%A7%8D%E0%A6%AF%E0%A6%B0%E0%A7%8D%E0%A6%A5%E0%A6%A4%E0%A6%BE_%E0%A6%A8%E0%A6%BF%E0%A6%B0%E0%A6%B8%E0%A6%A8)',\n",
       " 'https://be.wikipedia.org/wiki/Python',\n",
       " 'https://bg.wikipedia.org/wiki/%D0%9F%D0%B8%D1%82%D0%BE%D0%BD_(%D0%BF%D0%BE%D1%8F%D1%81%D0%BD%D0%B5%D0%BD%D0%B8%D0%B5)',\n",
       " 'https://cs.wikipedia.org/wiki/Python_(rozcestn%C3%ADk)',\n",
       " 'https://da.wikipedia.org/wiki/Python',\n",
       " 'https://de.wikipedia.org/wiki/Python',\n",
       " 'https://eo.wikipedia.org/wiki/Pitono_(apartigilo)',\n",
       " 'https://eu.wikipedia.org/wiki/Python_(argipena)',\n",
       " 'https://fa.wikipedia.org/wiki/%D9%BE%D8%A7%DB%8C%D8%AA%D9%88%D9%86',\n",
       " 'https://fr.wikipedia.org/wiki/Python',\n",
       " 'https://ko.wikipedia.org/wiki/%ED%8C%8C%EC%9D%B4%EC%84%A0',\n",
       " 'https://hr.wikipedia.org/wiki/Python_(razdvojba)',\n",
       " 'https://io.wikipedia.org/wiki/Pitono',\n",
       " 'https://id.wikipedia.org/wiki/Python',\n",
       " 'https://ia.wikipedia.org/wiki/Python_(disambiguation)',\n",
       " 'https://is.wikipedia.org/wiki/Python_(a%C3%B0greining)',\n",
       " 'https://it.wikipedia.org/wiki/Python_(disambigua)',\n",
       " 'https://he.wikipedia.org/wiki/%D7%A4%D7%99%D7%AA%D7%95%D7%9F',\n",
       " 'https://ka.wikipedia.org/wiki/%E1%83%9E%E1%83%98%E1%83%97%E1%83%9D%E1%83%9C%E1%83%98_(%E1%83%9B%E1%83%A0%E1%83%90%E1%83%95%E1%83%90%E1%83%9A%E1%83%9B%E1%83%9C%E1%83%98%E1%83%A8%E1%83%95%E1%83%9C%E1%83%94%E1%83%9A%E1%83%9D%E1%83%95%E1%83%90%E1%83%9C%E1%83%98)',\n",
       " 'https://kg.wikipedia.org/wiki/Mboma_(nyoka)',\n",
       " 'https://la.wikipedia.org/wiki/Python_(discretiva)',\n",
       " 'https://lb.wikipedia.org/wiki/Python',\n",
       " 'https://hu.wikipedia.org/wiki/Python_(egy%C3%A9rtelm%C5%B1s%C3%ADt%C5%91_lap)',\n",
       " 'https://mr.wikipedia.org/wiki/%E0%A4%AA%E0%A4%BE%E0%A4%AF%E0%A4%A5%E0%A5%89%E0%A4%A8_(%E0%A4%86%E0%A4%9C%E0%A5%8D%E0%A4%9E%E0%A4%BE%E0%A4%B5%E0%A4%B2%E0%A5%80_%E0%A4%AD%E0%A4%BE%E0%A4%B7%E0%A4%BE)',\n",
       " 'https://nl.wikipedia.org/wiki/Python',\n",
       " 'https://ja.wikipedia.org/wiki/%E3%83%91%E3%82%A4%E3%82%BD%E3%83%B3',\n",
       " 'https://no.wikipedia.org/wiki/Pyton',\n",
       " 'https://pl.wikipedia.org/wiki/Pyton',\n",
       " 'https://pt.wikipedia.org/wiki/Python_(desambigua%C3%A7%C3%A3o)',\n",
       " 'https://ru.wikipedia.org/wiki/Python_(%D0%B7%D0%BD%D0%B0%D1%87%D0%B5%D0%BD%D0%B8%D1%8F)',\n",
       " 'https://sk.wikipedia.org/wiki/Python',\n",
       " 'https://sr.wikipedia.org/wiki/%D0%9F%D0%B8%D1%82%D0%BE%D0%BD_(%D0%B2%D0%B8%D1%88%D0%B5%D0%B7%D0%BD%D0%B0%D1%87%D0%BD%D0%B0_%D0%BE%D0%B4%D1%80%D0%B5%D0%B4%D0%BD%D0%B8%D1%86%D0%B0)',\n",
       " 'https://sh.wikipedia.org/wiki/Python',\n",
       " 'https://fi.wikipedia.org/wiki/Python',\n",
       " 'https://sv.wikipedia.org/wiki/Pyton',\n",
       " 'https://th.wikipedia.org/wiki/%E0%B9%84%E0%B8%9E%E0%B8%97%E0%B8%AD%E0%B8%99',\n",
       " 'https://tr.wikipedia.org/wiki/Python',\n",
       " 'https://uk.wikipedia.org/wiki/%D0%9F%D1%96%D1%84%D0%BE%D0%BD',\n",
       " 'https://ur.wikipedia.org/wiki/%D9%BE%D8%A7%D8%A6%DB%8C%D8%AA%DA%BE%D9%88%D9%86',\n",
       " 'https://vi.wikipedia.org/wiki/Python',\n",
       " 'https://zh.wikipedia.org/wiki/Python_(%E6%B6%88%E6%AD%A7%E4%B9%89)',\n",
       " '//en.wikipedia.org/wiki/Wikipedia:Text_of_Creative_Commons_Attribution-ShareAlike_3.0_Unported_License',\n",
       " 'https://foundation.wikimedia.org/wiki/Privacy_policy',\n",
       " '/wiki/Wikipedia:About',\n",
       " '/wiki/Wikipedia:General_disclaimer',\n",
       " '//en.wikipedia.org/wiki/Wikipedia:Contact_us',\n",
       " '//en.m.wikipedia.org/w/index.php?title=Python&mobileaction=toggle_view_mobile',\n",
       " 'https://www.mediawiki.org/wiki/Special:MyLanguage/How_to_contribute',\n",
       " 'https://stats.wikimedia.org/#/en.wikipedia.org',\n",
       " 'https://foundation.wikimedia.org/wiki/Cookie_statement',\n",
       " 'https://wikimediafoundation.org/',\n",
       " 'https://www.mediawiki.org/']"
      ]
     },
     "execution_count": 95,
     "metadata": {},
     "output_type": "execute_result"
    }
   ],
   "source": [
    "#your code\n",
    "python = soup3.find_all('li')\n",
    "python_link=[]\n",
    "for x in python:\n",
    "    try:\n",
    "        python_link.append(x.find(\"a\")[\"href\"])\n",
    "    except:\n",
    "        continue\n",
    "python_link"
   ]
  },
  {
   "cell_type": "markdown",
   "metadata": {},
   "source": [
    "#### Number of Titles that have changed in the United States Code since its last release point "
   ]
  },
  {
   "cell_type": "code",
   "execution_count": 97,
   "metadata": {
    "collapsed": true
   },
   "outputs": [
    {
     "data": {
      "text/plain": [
       "\"\\n\\n\\n\\n\\n\\n\\n\\n\\n\\n\\n\\n            This page is better viewed with a JavaScript enabled browser.\\n        \\n\\n\\n\\n\\n\\n                    Home\\n\\n\\n\\n \\n\\n\\n\\n\\n\\n\\t                    Search & Browse\\n\\t                \\n\\n\\n\\n \\n\\n\\n\\n\\n\\n\\t                    Currency and Updating\\n\\t                \\n\\n\\n\\n \\n\\n\\n\\n\\n\\n\\t                    Classification Tables\\n\\t                \\n\\n\\n\\n \\n\\n\\n\\n\\n\\n\\t                    Popular Name Tool\\n\\t                \\n\\n\\n\\n \\n\\n\\n\\n\\n\\n\\t                    Other OLRC Tables and Tools\\n\\t                \\n\\n\\n\\n \\n\\n\\n\\n\\n\\n\\t                    Cite Checker\\n\\t                \\n\\n\\n\\n \\n\\n\\n\\n\\n\\n\\t                    Table III - Statutes at Large\\n\\t                \\n\\n\\n\\n \\n\\n\\n\\n\\n\\n\\t                    Other Tables\\n\\t                \\n\\n\\n\\n \\n\\n\\n\\n\\n\\n\\t                    Understanding the Code\\n\\t                \\n\\n\\n\\n \\n\\n\\n\\n\\n\\n\\t                    About the Code and Website\\n\\t                \\n\\n\\n\\n \\n\\n\\n\\n\\n\\n\\t                    About Classification\\n\\t                \\n\\n\\n\\n \\n\\n\\n\\n\\n\\n\\t                    Detailed Guide to the Code\\n\\t                \\n\\n\\n\\n \\n\\n\\n\\n\\n\\n\\t                    FAQ and Glossary\\n\\t                \\n\\n\\n\\n \\n\\n\\n\\n\\n\\n\\t                    Positive Law Codification\\n\\t                \\n\\n\\n\\n \\n\\n\\n\\n\\n\\n\\t                    Editorial Reclassification\\n\\t                \\n\\n\\n\\n \\n\\n\\n\\n\\n\\n\\t                    Downloads\\n\\t                \\n\\n\\n\\n \\n\\n\\n\\n\\n\\n\\t                    Other Legislative Resources\\n\\t                \\n\\n\\n\\n \\n\\n\\n\\n\\n\\n\\t                    CONGRESS.GOV\\n\\t                \\n\\n\\n\\n \\n\\n\\n\\n\\n\\n\\t                    govinfo\\n\\t                \\n\\n\\n\\n \\n\\n\\n\\n\\n\\n\\t                    HOLC Statutory Compilations\\n\\t                \\n\\n\\n\\n<!--\\n           menu_init('DOWNLOADS');\\n        -->\\n\\n\\n\\nDOWNLOAD THE UNITED STATES CODE\\n\\n\\n  \\n  div.pageframe{\\n   border-style:solid;\\n   border-width:5px;\\n   padding:3px;\\n   border-color:rgb(187, 154, 74);\\n   width:800px;\\n   overflow: auto;\\n  }\\n\\n\\n\\n  div.uscitemlist{\\n   padding: 15px;\\n   width:750px;\\n  }\\n\\n div.uscitem{\\n  width: 750px;\\n  overflow:hidden;\\n }\\n \\n\\t div.uscitemblank{\\n  width: 750px;\\n  overflow:hidden;\\n }\\n\\tdiv.uscitem:hover{\\n\\t\\tbackground-color:rgb(225, 210, 174); \\n\\t}\\n\\t \\n  div.usctitle{\\n   float:left;\\n   text-align:left;\\n   text-indent: -70px;\\n   padding-left: 70px;\\n  }\\n\\n  \\n  div.usctitlechanged{\\n   float:left;\\n   text-align:left;\\n   text-indent: -70px;\\n   padding-left: 70px;\\n   font-weight: bold;\\n  }\\n  \\n  \\n    div.usctitleminoreditorialchange{\\n   float:left;\\n   text-align:left;\\n   text-indent: -70px;\\n   padding-left: 70px;\\n   color: Grey;\\n   font-weight: bold;\\n  }\\n\\n\\n\\n\\t\\t\\n  div.usctitle#alltitles{\\n   float:left;\\n   text-align:left;\\n   text-indent: -70px;\\n   padding-left: 70px;\\n  }\\n\\n\\t\\t\\n\\n  div.usctitleappendix{\\n   float:left;\\n   text-align:left;\\n   padding-left:70px;\\n   font-style:italic;\\n  }\\n\\n\\n  div.usctitleappendixchanged{\\n   float:left;\\n   text-align:left;\\n   padding-left:70px;\\n   font-style:italic;\\n   font-weight: bold;\\n  }\\n\\n  div.itemcurrency{\\n   display:none;\\n  }\\n\\n\\n  div.usctitleheading{\\n   float:left;\\n   width:350px;\\n   text-align:left;\\n   text-indent: -70px;\\n   padding-left: 70px;\\n   font-size: smaller;\\n   text-decoration: underline;\\n  }\\n\\n\\t\\t\\n\\n  div.currencyheading{\\n   display:none;\\n  }\\n\\n\\n\\n  div.itemdownloadlinks{\\n   float:right;\\n   text-align:right;\\n   font-size: smaller;\\n  }\\n\\n\\n  div.schemacss{\\n   padding-left:30px;\\n   font-style:italic;\\n   font-size: 90%;\\n  }\\n\\n\\t\\t\\n  \\n  a{\\n   color:rgb(111, 11, 11);\\n  }\\n\\n  a.fn{\\n   color:rgb(111, 11, 11);\\n   text-decoration: none;\\n  }\\n\\n\\n  span.deadlink{\\n   color:grey;\\n   text-decoration: underline;\\n   cursor: default;\\n  }\\n\\n\\n\\n  h3.releasepointinformation{\\n   text-indent: 10px;\\n   font-style: italic;\\n   font-size: larger;\\n   margin-bottom: 0px;\\n  }\\n\\n\\t\\t\\n\\n   h3.releasepointinformationline2{\\n\\t\\t\\t\\ttext-indent: 10px;\\n\\t\\t\\t\\tfont-weight: normal;\\n\\t\\t\\t\\tcolor: black;\\n\\t\\t\\t\\tmargin-top: 0px;\\n\\t\\t}\\n\\n\\t\\t\\n\\n\\t\\th4.inpageheader{\\n\\t\\t text-indent: 10px;\\n\\t\\t margin-bottom: 0px;\\n\\t\\t padding-bottom: 0px;\\n\\t\\t}\\n\\n\\n\\n\\t\\tp.uscxmlresources{\\n\\t\\t padding-top: 0px;\\n\\t\\t margin-top: 15px;\\n\\t\\t text-indent: 0px;\\n\\t\\t}\\n\\n\\t\\t\\n\\n\\t\\tp.releasepointdescription{\\n\\t\\t\\ttext-indent: 0px;\\n   margin-top: 15px;\\t\\t\\t\\n\\t\\t}\\n\\n\\n\\n\\t\\thr.textbreak{\\n\\t\\t\\twidth: 400px;\\n\\t\\t}\\n\\n\\t\\t\\n\\n\\nCurrent Release Point\\nPublic Law 116-158 (08/14/2020)\\n\\nEach update of the United States Code is a release point. This page provides downloadable files for the current release point. All files are current through Public Law 116-158 (08/14/2020). Titles in bold have been changed since the last release point.\\n\\nA User Guide and the USLM Schema and stylesheet are provided for the United States Code in XML. A stylesheet is provided for the XHTML. PCC files are text files containing GPO photocomposition codes (i.e., locators).\\n\\nInformation about the currency of United States Code titles is available on the Currency page.  Files for prior release points are available on the Prior Release Points page. Older materials are available on the Annual Historical Archives page.\\n\\n\\n\\n\\n\\n\\n          All titles in the format selected compressed into a zip archive.\\n\\n        \\n\\n\\n          \\xa0\\n\\n        \\n\\n[XML]\\xa0[XHTML]\\xa0[PCC]\\xa0[PDF]\\n\\n\\n\\n\\n\\n             \\xa0\\n\\n\\t        \\n\\n\\n\\t          \\xa0\\n\\n\\t        \\n\\n\\n          \\xa0\\n\\n\\t        \\n\\n\\n\\n\\n             Individual Titles \\n\\n\\t        \\n\\n\\n\\t          Current Through\\n\\n\\t        \\n\\n\\n          \\xa0\\n\\n\\t        \\n\\n\\n\\n\\n          Title 1 - General Provisions ٭\\n\\n\\n\\n          116-158\\n\\n        \\n\\n[XML]\\xa0[XHTML]\\xa0[PCC]\\xa0[PDF]\\n\\n\\n\\n\\n\\n          Title 2 - The Congress\\n\\n        \\n\\n\\n          116-158\\n\\n        \\n\\n[XML]\\xa0[XHTML]\\xa0[PCC]\\xa0[PDF]\\n\\n\\n\\n\\n\\n          Title 3 - The President ٭\\n\\n\\n\\n          116-158\\n\\n        \\n\\n[XML]\\xa0[XHTML]\\xa0[PCC]\\xa0[PDF]\\n\\n\\n\\n\\n\\n          Title 4 - Flag and Seal, Seat of Government, and the States ٭\\n\\n\\n\\n          116-158\\n\\n        \\n\\n[XML]\\xa0[XHTML]\\xa0[PCC]\\xa0[PDF]\\n\\n\\n\\n\\n\\n          Title 5 - Government Organization and Employees ٭\\n\\n\\n\\n          116-158\\n\\n        \\n\\n[XML]\\xa0[XHTML]\\xa0[PCC]\\xa0[PDF]\\n\\n\\n\\n\\n\\n          Appendix\\n\\n        \\n\\n\\n          116-158\\n\\n        \\n\\n[XML]\\xa0[XHTML]\\xa0[PCC]\\xa0[PDF]\\n\\n\\n\\n\\n\\n          Title 6 - Domestic Security\\n\\n        \\n\\n\\n          116-158\\n\\n        \\n\\n[XML]\\xa0[XHTML]\\xa0[PCC]\\xa0[PDF]\\n\\n\\n\\n\\n\\n          Title 7 - Agriculture\\n\\n        \\n\\n\\n          116-158\\n\\n        \\n\\n[XML]\\xa0[XHTML]\\xa0[PCC]\\xa0[PDF]\\n\\n\\n\\n\\n\\n          Title 8 - Aliens and Nationality\\n\\n        \\n\\n\\n          116-158\\n\\n        \\n\\n[XML]\\xa0[XHTML]\\xa0[PCC]\\xa0[PDF]\\n\\n\\n\\n\\n\\n          Title 9 - Arbitration ٭\\n\\n\\n\\n          116-158\\n\\n        \\n\\n[XML]\\xa0[XHTML]\\xa0[PCC]\\xa0[PDF]\\n\\n\\n\\n\\n\\n          Title 10 - Armed Forces ٭\\n\\n\\n\\n          116-158\\n\\n        \\n\\n[XML]\\xa0[XHTML]\\xa0[PCC]\\xa0[PDF]\\n\\n\\n\\n\\n\\n          Title 11 - Bankruptcy ٭\\n\\n\\n\\n          116-158\\n\\n        \\n\\n[XML]\\xa0[XHTML]\\xa0[PCC]\\xa0[PDF]\\n\\n\\n\\n\\n\\n          Appendix\\n\\n        \\n\\n\\n          116-158\\n\\n        \\n\\n[XML]\\xa0[XHTML]\\xa0[PCC]\\xa0[PDF]\\n\\n\\n\\n\\n\\n          Title 12 - Banks and Banking\\n\\n        \\n\\n\\n          116-158\\n\\n        \\n\\n[XML]\\xa0[XHTML]\\xa0[PCC]\\xa0[PDF]\\n\\n\\n\\n\\n\\n          Title 13 - Census ٭\\n\\n\\n\\n          116-158\\n\\n        \\n\\n[XML]\\xa0[XHTML]\\xa0[PCC]\\xa0[PDF]\\n\\n\\n\\n\\n\\n          Title 14 - Coast Guard ٭\\n\\n\\n\\n          116-158\\n\\n        \\n\\n[XML]\\xa0[XHTML]\\xa0[PCC]\\xa0[PDF]\\n\\n\\n\\n\\n\\n          Title 15 - Commerce and Trade\\n\\n        \\n\\n\\n          116-158\\n\\n        \\n\\n[XML]\\xa0[XHTML]\\xa0[PCC]\\xa0[PDF]\\n\\n\\n\\n\\n\\n          Title 16 - Conservation\\n\\n        \\n\\n\\n          116-158\\n\\n        \\n\\n[XML]\\xa0[XHTML]\\xa0[PCC]\\xa0[PDF]\\n\\n\\n\\n\\n\\n          Title 17 - Copyrights ٭\\n\\n\\n\\n          116-158\\n\\n        \\n\\n[XML]\\xa0[XHTML]\\xa0[PCC]\\xa0[PDF]\\n\\n\\n\\n\\n\\n          Title 18 - Crimes and Criminal Procedure ٭\\n\\n\\n\\n          116-158\\n\\n        \\n\\n[XML]\\xa0[XHTML]\\xa0[PCC]\\xa0[PDF]\\n\\n\\n\\n\\n\\n          Appendix\\n\\n        \\n\\n\\n          116-158\\n\\n        \\n\\n[XML]\\xa0[XHTML]\\xa0[PCC]\\xa0[PDF]\\n\\n\\n\\n\\n\\n          Title 19 - Customs Duties\\n\\n        \\n\\n\\n          116-158\\n\\n        \\n\\n[XML]\\xa0[XHTML]\\xa0[PCC]\\xa0[PDF]\\n\\n\\n\\n\\n\\n          Title 20 - Education\\n\\n        \\n\\n\\n          116-158\\n\\n        \\n\\n[XML]\\xa0[XHTML]\\xa0[PCC]\\xa0[PDF]\\n\\n\\n\\n\\n\\n          Title 21 - Food and Drugs\\n\\n        \\n\\n\\n          116-158\\n\\n        \\n\\n[XML]\\xa0[XHTML]\\xa0[PCC]\\xa0[PDF]\\n\\n\\n\\n\\n\\n          Title 22 - Foreign Relations and Intercourse\\n\\n        \\n\\n\\n          116-158\\n\\n        \\n\\n[XML]\\xa0[XHTML]\\xa0[PCC]\\xa0[PDF]\\n\\n\\n\\n\\n\\n          Title 23 - Highways ٭\\n\\n\\n\\n          116-158\\n\\n        \\n\\n[XML]\\xa0[XHTML]\\xa0[PCC]\\xa0[PDF]\\n\\n\\n\\n\\n\\n          Title 24 - Hospitals and Asylums\\n\\n        \\n\\n\\n          116-158\\n\\n        \\n\\n[XML]\\xa0[XHTML]\\xa0[PCC]\\xa0[PDF]\\n\\n\\n\\n\\n\\n          Title 25 - Indians\\n\\n        \\n\\n\\n          116-158\\n\\n        \\n\\n[XML]\\xa0[XHTML]\\xa0[PCC]\\xa0[PDF]\\n\\n\\n\\n\\n\\n          Title 26 - Internal Revenue Code\\n\\n        \\n\\n\\n          116-158\\n\\n        \\n\\n[XML]\\xa0[XHTML]\\xa0[PCC]\\xa0[PDF]\\n\\n\\n\\n\\n\\n          Title 27 - Intoxicating Liquors\\n\\n        \\n\\n\\n          116-158\\n\\n        \\n\\n[XML]\\xa0[XHTML]\\xa0[PCC]\\xa0[PDF]\\n\\n\\n\\n\\n\\n          Title 28 - Judiciary and Judicial Procedure ٭\\n\\n\\n\\n          116-158\\n\\n        \\n\\n[XML]\\xa0[XHTML]\\xa0[PCC]\\xa0[PDF]\\n\\n\\n\\n\\n\\n          Appendix\\n\\n        \\n\\n\\n          116-158\\n\\n        \\n\\n[XML]\\xa0[XHTML]\\xa0[PCC]\\xa0[PDF]\\n\\n\\n\\n\\n\\n          Title 29 - Labor\\n\\n        \\n\\n\\n          116-158\\n\\n        \\n\\n[XML]\\xa0[XHTML]\\xa0[PCC]\\xa0[PDF]\\n\\n\\n\\n\\n\\n          Title 30 - Mineral Lands and Mining\\n\\n        \\n\\n\\n          116-158\\n\\n        \\n\\n[XML]\\xa0[XHTML]\\xa0[PCC]\\xa0[PDF]\\n\\n\\n\\n\\n\\n          Title 31 - Money and Finance ٭\\n\\n\\n\\n          116-158\\n\\n        \\n\\n[XML]\\xa0[XHTML]\\xa0[PCC]\\xa0[PDF]\\n\\n\\n\\n\\n\\n          Title 32 - National Guard ٭\\n\\n\\n\\n          116-158\\n\\n        \\n\\n[XML]\\xa0[XHTML]\\xa0[PCC]\\xa0[PDF]\\n\\n\\n\\n\\n\\n          Title 33 - Navigation and Navigable Waters\\n\\n        \\n\\n\\n          116-158\\n\\n        \\n\\n[XML]\\xa0[XHTML]\\xa0[PCC]\\xa0[PDF]\\n\\n\\n\\n\\n\\n          Title 34 - Crime Control and Law Enforcement\\n\\n        \\n\\n\\n          116-158\\n\\n        \\n\\n[XML]\\xa0[XHTML]\\xa0[PCC]\\xa0[PDF]\\n\\n\\n\\n\\n\\n          Title 35 - Patents ٭\\n\\n\\n\\n          116-158\\n\\n        \\n\\n[XML]\\xa0[XHTML]\\xa0[PCC]\\xa0[PDF]\\n\\n\\n\\n\\n\\n          Title 36 - Patriotic and National Observances, Ceremonies, and Organizations ٭\\n\\n\\n\\n          116-158\\n\\n        \\n\\n[XML]\\xa0[XHTML]\\xa0[PCC]\\xa0[PDF]\\n\\n\\n\\n\\n\\n          Title 37 - Pay and Allowances of the Uniformed Services ٭\\n\\n\\n\\n          116-158\\n\\n        \\n\\n[XML]\\xa0[XHTML]\\xa0[PCC]\\xa0[PDF]\\n\\n\\n\\n\\n\\n          Title 38 - Veterans' Benefits ٭\\n\\n\\n\\n          116-158\\n\\n        \\n\\n[XML]\\xa0[XHTML]\\xa0[PCC]\\xa0[PDF]\\n\\n\\n\\n\\n\\n          Title 39 - Postal Service ٭\\n\\n\\n\\n          116-158\\n\\n        \\n\\n[XML]\\xa0[XHTML]\\xa0[PCC]\\xa0[PDF]\\n\\n\\n\\n\\n\\n          Title 40 - Public Buildings, Property, and Works ٭\\n\\n\\n\\n          116-158\\n\\n        \\n\\n[XML]\\xa0[XHTML]\\xa0[PCC]\\xa0[PDF]\\n\\n\\n\\n\\n\\n          Title 41 - Public Contracts ٭\\n\\n\\n\\n          116-158\\n\\n        \\n\\n[XML]\\xa0[XHTML]\\xa0[PCC]\\xa0[PDF]\\n\\n\\n\\n\\n\\n          Title 42 - The Public Health and Welfare\\n\\n        \\n\\n\\n          116-158\\n\\n        \\n\\n[XML]\\xa0[XHTML]\\xa0[PCC]\\xa0[PDF]\\n\\n\\n\\n\\n\\n          Title 43 - Public Lands\\n\\n        \\n\\n\\n          116-158\\n\\n        \\n\\n[XML]\\xa0[XHTML]\\xa0[PCC]\\xa0[PDF]\\n\\n\\n\\n\\n\\n          Title 44 - Public Printing and Documents ٭\\n\\n\\n\\n          116-158\\n\\n        \\n\\n[XML]\\xa0[XHTML]\\xa0[PCC]\\xa0[PDF]\\n\\n\\n\\n\\n\\n          Title 45 - Railroads\\n\\n        \\n\\n\\n          116-158\\n\\n        \\n\\n[XML]\\xa0[XHTML]\\xa0[PCC]\\xa0[PDF]\\n\\n\\n\\n\\n\\n          Title 46 - Shipping ٭\\n\\n\\n\\n          116-158\\n\\n        \\n\\n[XML]\\xa0[XHTML]\\xa0[PCC]\\xa0[PDF]\\n\\n\\n\\n\\n\\n          Title 47 - Telecommunications\\n\\n        \\n\\n\\n          116-158\\n\\n        \\n\\n[XML]\\xa0[XHTML]\\xa0[PCC]\\xa0[PDF]\\n\\n\\n\\n\\n\\n          Title 48 - Territories and Insular Possessions\\n\\n        \\n\\n\\n          116-158\\n\\n        \\n\\n[XML]\\xa0[XHTML]\\xa0[PCC]\\xa0[PDF]\\n\\n\\n\\n\\n\\n          Title 49 - Transportation ٭\\n\\n\\n\\n          116-158\\n\\n        \\n\\n[XML]\\xa0[XHTML]\\xa0[PCC]\\xa0[PDF]\\n\\n\\n\\n\\n\\n          Title 50 - War and National Defense\\n\\n        \\n\\n\\n          116-158\\n\\n        \\n\\n[XML]\\xa0[XHTML]\\xa0[PCC]\\xa0[PDF]\\n\\n\\n\\n\\n\\n          Appendix\\n\\n        \\n\\n\\n          116-158\\n\\n        \\n\\n[XML]\\xa0[XHTML]\\xa0[PCC]\\xa0[PDF]\\n\\n\\n\\n\\n\\n          Title 51 - National and Commercial Space Programs ٭\\n\\n\\n\\n          116-158\\n\\n        \\n\\n[XML]\\xa0[XHTML]\\xa0[PCC]\\xa0[PDF]\\n\\n\\n\\n\\n\\n          Title 52 - Voting and Elections\\n\\n        \\n\\n\\n          116-158\\n\\n        \\n\\n[XML]\\xa0[XHTML]\\xa0[PCC]\\xa0[PDF]\\n\\n\\n\\n\\n\\n          Title 53 [Reserved]\\n\\n        \\n\\n\\n          116-158\\n\\n        \\n\\n[XML]\\xa0[XHTML]\\xa0[PCC]\\xa0[PDF]\\n\\n\\n\\n\\n\\n          Title 54 - National Park Service and Related Programs ٭\\n\\n\\n\\n          116-158\\n\\n        \\n\\n[XML]\\xa0[XHTML]\\xa0[PCC]\\xa0[PDF]\\n\\n\\n\\n\\n\\n٭ This title has been enacted as positive law. However, any Appendix to this title has not been enacted as part of the title.\\n\\n\\n\\n\\n\\n\\n\\n\\n\\n\\n\\n\\n\\n\\n\\nAbout the Office\\xa0\\n                    \\xa0 \\xa0 \\xa0 Privacy Policy\\xa0 \\xa0 \\xa0\\n                    \\xa0 Sitemap\\n\\n\\n\\n\\n\\n\\n\\n\\n\\n\\n\\n\\n\\n\""
      ]
     },
     "execution_count": 97,
     "metadata": {},
     "output_type": "execute_result"
    }
   ],
   "source": [
    "# This is the url you will scrape in this exercise\n",
    "url4 = 'http://uscode.house.gov/download/download.shtml'\n",
    "r4 = requests.get(url4)\n",
    "soup4 = BeautifulSoup(r4.content, 'html.parser')\n",
    "soup4.text"
   ]
  },
  {
   "cell_type": "code",
   "execution_count": 126,
   "metadata": {},
   "outputs": [
    {
     "data": {
      "text/plain": [
       "['Title 1 - General Provisions',\n",
       " 'Title 2 - The Congress',\n",
       " 'Title 3 - The President',\n",
       " 'Title 4 - Flag and Seal, Seat of Government, and the States',\n",
       " 'Title 5 - Government Organization and Employees',\n",
       " 'Title 6 - Domestic Security',\n",
       " 'Title 7 - Agriculture',\n",
       " 'Title 8 - Aliens and Nationality',\n",
       " 'Title 9 - Arbitration',\n",
       " 'Title 10 - Armed Forces',\n",
       " 'Title 11 - Bankruptcy',\n",
       " 'Title 12 - Banks and Banking',\n",
       " 'Title 13 - Census',\n",
       " 'Title 14 - Coast Guard',\n",
       " 'Title 15 - Commerce and Trade',\n",
       " 'Title 16 - Conservation',\n",
       " 'Title 17 - Copyrights',\n",
       " 'Title 18 - Crimes and Criminal Procedure',\n",
       " 'Title 19 - Customs Duties',\n",
       " 'Title 20 - Education',\n",
       " 'Title 21 - Food and Drugs',\n",
       " 'Title 22 - Foreign Relations and Intercourse',\n",
       " 'Title 23 - Highways',\n",
       " 'Title 24 - Hospitals and Asylums',\n",
       " 'Title 25 - Indians',\n",
       " 'Title 26 - Internal Revenue Code',\n",
       " 'Title 27 - Intoxicating Liquors',\n",
       " 'Title 28 - Judiciary and Judicial Procedure',\n",
       " 'Title 29 - Labor',\n",
       " 'Title 30 - Mineral Lands and Mining',\n",
       " 'Title 31 - Money and Finance',\n",
       " 'Title 32 - National Guard',\n",
       " 'Title 33 - Navigation and Navigable Waters',\n",
       " 'Title 35 - Patents',\n",
       " 'Title 36 - Patriotic and National Observances, Ceremonies, and Organizations',\n",
       " 'Title 37 - Pay and Allowances of the Uniformed Services',\n",
       " \"Title 38 - Veterans' Benefits\",\n",
       " 'Title 39 - Postal Service',\n",
       " 'Title 40 - Public Buildings, Property, and Works',\n",
       " 'Title 41 - Public Contracts',\n",
       " 'Title 43 - Public Lands',\n",
       " 'Title 44 - Public Printing and Documents',\n",
       " 'Title 45 - Railroads',\n",
       " 'Title 46 - Shipping',\n",
       " 'Title 47 - Telecommunications',\n",
       " 'Title 48 - Territories and Insular Possessions',\n",
       " 'Title 49 - Transportation',\n",
       " 'Title 51 - National and Commercial Space Programs',\n",
       " 'Title 52 - Voting and Elections',\n",
       " 'Title 53 Reserved',\n",
       " 'Title 54 - National Park Service and Related Programs']"
      ]
     },
     "execution_count": 126,
     "metadata": {},
     "output_type": "execute_result"
    }
   ],
   "source": [
    "#your code\n",
    "\n",
    "usa = soup4.find_all('div', attrs={'class':'usctitle'})\n",
    "usa_code=[]\n",
    "for x in usa:\n",
    "    usa_code.append(x.text.strip().replace(\"All titles in the format selected compressed into a zip archive.\",\"\").replace(\" ٭\",\"\").replace(\"[\",\"\").replace(\"]\",\"\"))\n",
    "\n",
    "usa_code=usa_code[2:]\n",
    "usa_code"
   ]
  },
  {
   "cell_type": "markdown",
   "metadata": {},
   "source": [
    "#### A Python list with the top ten FBI's Most Wanted names "
   ]
  },
  {
   "cell_type": "code",
   "execution_count": 129,
   "metadata": {
    "collapsed": true
   },
   "outputs": [
    {
     "data": {
      "text/plain": [
       "'\\n\\n\\n\\n\\n\\nTen Most Wanted Fugitives — FBI\\n\\n\\n\\n\\n\\n\\n\\n\\n\\n\\n\\n\\n\\n\\n\\n\\n\\n\\n\\n\\n\\n\\n\\n\\n\\n\\n\\n\\n{\"@type\": \"WebPage\", \"name\": \"Ten Most Wanted Fugitives\", \"image\": {\"@type\": \"ImageObject\", \"url\": \"https://www.fbi.gov/wanted/topten/@@images/image\"}, \"thumbnailUrl\": \"https://www.fbi.gov/wanted/topten/@@images/image/mini\", \"datePublished\": \"2010-07-16T11:30:00+00:00\", \"@context\": \"http://schema.org\", \"headline\": \"Ten Most Wanted Fugitives\", \"description\": \"The FBI is offering rewards for information leading to the apprehension of the Ten Most Wanted Fugitives. Select the images of suspects to display more information.\", \"url\": \"https://www.fbi.gov/wanted/topten\", \"dateModified\": \"2020-08-20T11:54:48+00:00\"}\\n\\n\\n\\n\\n\\n \\n\\n\\n\\n\\n\\n\\n\\n\\n\\nSubmit Search.search-icon-link{fill:#FFFFFF;}   Search\\n\\n\\nFBI\\n\\nMore   \\n\\n\\n\\nMost Wanted\\n\\nNews\\n\\nWhat We Investigate\\n\\nServices\\n\\nResources\\n\\nSubmit a Tip\\n\\nAbout\\n\\nContact Us\\n\\n\\n\\n\\nHome\\n\\n        .st10{fill:#FFFFFF;}\\n        \\n\\n\\n\\n\\n\\nMost Wanted\\n\\n\\n\\nFacebook Icon.facebook-icon{fill:#FFFFFF;}\\n\\nEmail Icon.email-icon{fill:#FFFFFF;}\\n\\nTwitter Icon.twitter-icon{fill:#FFFFFF;}\\n\\nYoutube Icon.youtube-icon{fill:#FFFFFF;}\\n\\nFlickr Icon.flickr-icon{fill:#FFFFFF;}\\n\\nLinkedIn Icon.linkedin-icon{fill:#FFFFFF;}\\n\\nInstagram Icon.instagram-icon{fill:#FFFFFF;}\\n\\n\\nSearch FBI\\n\\n\\nSubmit Search.search-icon{fill:#333333;}  \\n\\n\\n\\n\\n\\n\\n\\n\\n   FBIFederal Bureau of Investigation  \\n\\n\\n\\n\\nTen Most Wanted Fugitives\\n\\n\\n\\nMost Wanted\\n\\n\\n\\n\\n\\nTen Most Wanted Fugitives\\n\\nFugitives\\n\\nOperation Legend\\n\\nTerrorism\\n\\nKidnappings/Missing Persons\\n\\nSeeking Info\\n\\nParental Kidnappings\\n\\nBank Robbers\\n\\nECAP\\n\\nViCAP\\n\\n\\n\\n\\n\\n\\nTen Most Wanted Fugitives FAQ\\n\\nTen Most Wanted History Pictures\\n\\n\\n\\n\\n\\n\\n\\n\\n\\n\\n\\nTen Most Wanted Fugitives\\n\\n\\n\\n\\n\\n\\n\\n\\nNotice: The official FBI Ten Most Wanted Fugitives list is maintained on the FBI website. This information may be copied and distributed, however, any unauthorized alteration of any portion of the FBI\\'s Ten Most Wanted Fugitives posters is a violation of federal law (18 U.S.C., Section 709). Persons who make or reproduce these alterations are subject to prosecution and, if convicted, shall be fined or imprisoned for not more than one year, or both.\\n\\n\\n\\n\\n\\n\\nListing\\n\\n\\n\\nResults: 10 Items\\n\\n\\n\\n\\n\\n\\n\\n\\nYASER ABDEL SAID\\n\\n\\n\\n\\n\\n\\n\\nALEXIS FLORES\\n\\n\\n\\n\\n\\n\\n\\nEUGENE PALMER\\n\\n\\n\\n\\n\\n\\n\\nRAFAEL CARO-QUINTERO\\n\\n\\n\\n\\n\\n\\n\\nROBERT WILLIAM FISHER\\n\\n\\n\\n\\n\\n\\n\\nBHADRESHKUMAR CHETANBHAI PATEL\\n\\n\\n\\n\\n\\n\\n\\nALEJANDRO ROSALES CASTILLO\\n\\n\\n\\n\\n\\n\\n\\nARNOLDO JIMENEZ\\n\\n\\n\\n\\n\\n\\n\\nJASON DEREK BROWN\\n\\n\\n\\n\\n\\n\\n\\nSANTIAGO VILLALBA MEDEROS\\n\\n\\n\\n\\n1 - 10 of 10 Results\\n\\n\\n\\n\\n\\n\\n\\n\\n\\n\\n\\n\\n\\n\\n\\n\\n\\n\\n\\n\\n\\n\\n\\n\\n\\n\\n\\n\\n\\nNotice: The official FBI Ten Most Wanted Fugitives list is maintained on the FBI website. This information may be copied and distributed, however, any unauthorized alteration of any portion of the FBI\\'s Ten Most Wanted Fugitives posters is a violation of federal law (18 U.S.C., Section 709). Persons who make or reproduce these alterations are subject to prosecution and, if convicted, shall be fined or imprisoned for not more than one year, or both.\\n\\n\\n\\n\\n\\n\\nTen Most Wanted Fugitives FAQHistorical Photos of Each Top Ten\\xa0Fugitive\\ufeff60th Anniversary Booklet\\n\\n\\n\\n\\n\\n\\n\\n\\n\\n\\n\\n\\n\\nSection Links\\n\\n\\n\\nMost Wanted\\n\\n\\n\\nTen Most Wanted\\n\\n\\nFugitives\\n\\n\\nTerrorism\\n\\n\\nKidnappings/Missing Persons\\n\\n\\nSeeking Information\\n\\n\\nBank Robbers\\n\\n\\nECAP\\n\\n\\nViCAP\\n\\n\\n\\n\\n\\nNews\\n\\n\\n\\nStories\\n\\n\\nVideos\\n\\n\\nPress Releases\\n\\n\\nSpeeches\\n\\n\\nTestimony\\n\\n\\nPodcasts and Radio\\n\\n\\nPhotos\\n\\n\\nEspañol\\n\\n\\nApps\\n\\n\\n\\n\\n\\nWhat We Investigate\\n\\n\\n\\nTerrorism\\n\\n\\nCounterintelligence\\n\\n\\nCyber Crime\\n\\n\\nPublic Corruption\\n\\n\\nCivil Rights\\n\\n\\nOrganized Crime\\n\\n\\nWhite-Collar Crime\\n\\n\\nViolent Crime\\n\\n\\nWMD\\n\\n\\n\\n\\n\\nServices\\n\\n\\n\\nCJIS\\n\\n\\nCIRG\\n\\n\\nLaboratory Services\\n\\n\\nTraining Academy\\n\\n\\nOperational Technology\\n\\n\\nInformation Management\\n\\n\\n\\n\\n\\nAbout\\n\\n\\n\\nMission & Priorities\\n\\n\\nLeadership & Structure\\n\\n\\nPartnerships\\n\\n\\nCommunity Outreach\\n\\n\\nFAQs\\n\\n\\n\\n\\n\\nResources\\n\\n\\n\\nLaw Enforcement\\n\\n\\nBusinesses\\n\\n\\nVictim Assistance\\n\\n\\nReports and Publications\\n\\n\\n\\nContact Us\\n\\n\\n\\nField Offices\\n\\n\\nFBI Headquarters\\n\\n\\nOverseas Offices\\n\\n\\n\\n\\n\\nFBI Jobs\\n\\n\\nMore\\n\\n\\n\\nSubmit a Tip\\n\\n\\nCrime Statistics\\n\\n\\nHistory\\n\\n\\nFOIPA\\n\\n\\nScams & Safety\\n\\n\\nFBI Kids\\n\\n\\nFBI Tour\\n\\n\\n\\n \\n\\n\\n\\n\\n\\n\\n Accessibility \\n eRulemaking \\n Freedom of Information/Privacy Act \\n Legal Notices \\n Legal Policies and Disclaimers \\n Links \\n Privacy Policy \\n USA.gov \\n White House \\n No FEAR Act\\n\\nFBI.gov is an official site of the U.S. government, U.S. Department of Justice\\n\\n\\n\\n\\n\\n\\n\\n\\n\\nSearch FBI\\n\\n\\nSubmit Search.mobilesearch-icon{fill:#a9a9a9;}  \\n\\n\\n\\n\\nHome\\n\\nMost Wanted\\n\\nNews\\n\\nWhat We Investigate\\n\\nServices\\n\\nResources\\n\\nSubmit a Tip\\n\\nAbout\\n\\nContact Us\\nCrime Statistics\\n\\nPhotos\\n\\nVideo\\n\\nOutreach\\n\\nHistory\\n\\nFOIA\\n\\nScams & Safety\\n\\nFBI Kids\\nFBI Jobs\\n\\n\\n\\n\\n\\n\\nemailStay Connected\\nGet FBI email alerts\\n\\nSubscribe\\n\\nNo Thanks\\n\\n×\\n\\n\\n\\n\\n\\nPORTAL_URL = \\'https://www.fbi.gov\\';\\n\\n\\r\\n  (function(i,s,o,g,r,a,m){i[\\'GoogleAnalyticsObject\\']=r;i[r]=i[r]||function(){\\r\\n  (i[r].q=i[r].q||[]).push(arguments)},i[r].l=1*new Date();a=s.createElement(o),\\r\\n  m=s.getElementsByTagName(o)[0];a.async=1;a.src=g;m.parentNode.insertBefore(a,m)\\r\\n  })(window,document,\\'script\\',\\'https://www.google-analytics.com/analytics.js\\',\\'ga\\');\\r\\n\\r\\n  ga(\\'create\\', \\'UA-1603990-1\\', \\'auto\\');\\r\\n  ga(\\'send\\', \\'pageview\\');\\r\\n\\r\\n\\n\\r\\n    // Instructions: please embed this snippet directly into every page in your website template.\\r\\n    // For optimal performance, this must be embedded directly into the template, not referenced\\r\\n    // as an external file.\\r\\n\\r\\n    // Answers Cloud Services Embed Script v1.02\\r\\n    // DO NOT MODIFY BELOW THIS LINE *****************************************\\r\\n    ;(function (g) {\\r\\n        var d = document, i, am = d.createElement(\\'script\\'), h = d.head || d.getElementsByTagName(\"head\")[0],\\r\\n                aex = {\\r\\n                    \"src\": \"//gateway.answerscloud.com/fbi-gov/production/gateway.min.js\",\\r\\n                    \"type\": \"text/javascript\",\\r\\n                    \"async\": \"true\",\\r\\n                    \"data-vendor\": \"acs\",\\r\\n                    \"data-role\": \"gateway\"\\r\\n                };\\r\\n        for (var attr in aex) { am.setAttribute(attr,aex[attr]); }\\r\\n        h.appendChild(am);\\r\\n        g[\\'acsReady\\'] = function () {var aT = \\'__acsReady__\\', args = Array.prototype.slice.call(arguments, 0),k = setInterval(function () {if (typeof g[aT] === \\'function\\') {clearInterval(k);for (i = 0; i < args.length; i++) {g[aT].call(g, function(fn) { return function() { setTimeout(fn, 1) };}(args[i]));}}}, 50);};\\r\\n    })(window);\\r\\n    // DO NOT MODIFY ABOVE THIS LINE *****************************************\\r\\n\\n\\n\\n'"
      ]
     },
     "execution_count": 129,
     "metadata": {},
     "output_type": "execute_result"
    }
   ],
   "source": [
    "# This is the url you will scrape in this exercise\n",
    "url5 = 'https://www.fbi.gov/wanted/topten'\n",
    "r5 = requests.get(url5)\n",
    "soup5 = BeautifulSoup(r5.content, 'html.parser')\n",
    "soup5.text"
   ]
  },
  {
   "cell_type": "code",
   "execution_count": 135,
   "metadata": {},
   "outputs": [
    {
     "data": {
      "text/plain": [
       "['YASER ABDEL SAID',\n",
       " 'ALEXIS FLORES',\n",
       " 'EUGENE PALMER',\n",
       " 'RAFAEL CARO-QUINTERO',\n",
       " 'ROBERT WILLIAM FISHER',\n",
       " 'BHADRESHKUMAR CHETANBHAI PATEL',\n",
       " 'ALEJANDRO ROSALES CASTILLO',\n",
       " 'ARNOLDO JIMENEZ',\n",
       " 'JASON DEREK BROWN',\n",
       " 'SANTIAGO VILLALBA MEDEROS']"
      ]
     },
     "execution_count": 135,
     "metadata": {},
     "output_type": "execute_result"
    }
   ],
   "source": [
    "#your code \n",
    "fbi = soup5.find_all('h3', attrs={'class':'title'})\n",
    "fbi_lista=[]\n",
    "for x in fbi:\n",
    "    fbi_lista.append(x.text.strip())\n",
    "\n",
    "fbi_lista"
   ]
  },
  {
   "cell_type": "markdown",
   "metadata": {},
   "source": [
    "####  20 latest earthquakes info (date, time, latitude, longitude and region name) by the EMSC as a pandas dataframe"
   ]
  },
  {
   "cell_type": "code",
   "execution_count": 504,
   "metadata": {
    "collapsed": true
   },
   "outputs": [
    {
     "data": {
      "text/plain": [
       "'\\n\\n\\n\\n\\n\\n\\n\\n\\n\\n\\n\\n\\n\\nEarthquakes today | Earthquake today | earthquake | earthquakes\\n\\n#contenu,  #footer, #nav {\\n\\twidth: 950px;\\n}\\n\\r\\n\\t\\t\\tvar basehref=window.location.protocol+\"//\"+window.location.hostname; \\r\\n\\t\\t\\t\\n\\n\\n\\naddjs_after(\"https://static2.emsc.eu/javascript/alert_bandeau_v2.js\");addcss_after(\"https://static3.emsc.eu/Css/print.css\",\"print\"); \\n\\n\\n .ban022{background:url(\\'https://static1.emsc.eu/Css/img/spriteBannApp.jpg\\') no-repeat;} .ban0{background:#B40015;/*#000;*/width:100%;height:100%;border:0;} .ban1{vertical-align:top;text-align:center;padding-top:4px;width:150px;} \\r\\n\\t\\t\\t.ban2{position:relative; vertical-align:middle;text-align:center; color:#fff; background-position:0px -41px;/*10px -41px;*/} \\r\\n\\t\\t\\t.ban3{width:140px;padding-left:5px;text-align:center;background-position:-640px -41px;}\\r\\n\\t\\t\\t#ejs_server_heure {position:absolute; bottom:0; width:100%;}\\r\\n\\t\\t\\t#bandeau{background:#B40015;}\\n\\n\\n\\n\\n\\n\\nset_server_date(2020,8,24,19,11,1)\\nCurrent time: 2020-08-24 19:11:01 UTC\\n\\n\\n\\n\\xa0Member access\\n\\nName\\xa0\\n\\n\\nPwd\\n\\n\\n\\xa0\\r\\n\\t\\t\\t$jq(function(){\\r\\n\\t\\t\\t\\t$jq(\"#androidstore\").bind(\"click\", function(e) { e.preventDefault(); e.stopPropagation(); $jq.post(\"/indexAjaxApp.php\", { linkto:\"android\",from:\"site\"}, function () {});  window.open(\"https://play.google.com/store/apps/details?id=org.emsc_csem.lastquake\",\"_blank\"); });\\r\\n\\t\\t\\t\\t$jq(\"#iosstore\").bind(\"click\", function(e) { e.preventDefault(); e.stopPropagation(); $jq.post(\"/indexAjaxApp.php\", { linkto:\"ios\",from:\"site\" }, function () {});  window.open(\"https://itunes.apple.com/us/app/lastquake/id890799748\",\"_blank\"); });\\r\\n\\t\\t\\t\\t\\r\\n\\t\\t\\t});\\r\\n\\t\\t\\t\\n\\n\\n\\nEarthquake information\\n\\nList of latest earthquakes\\nSignificant earthquakes\\nSearch earthquakes\\nEarthquakes interactive map\\nEarthquakes near you\\nFelt earthquakes\\nSpecial reports\\nHow it works\\n\\n\\n  Testimonies, photos\\n\\nPhotos\\nTestimonies\\n\\n\\nInformation services\\n\\n For smartphones\\n Android & iOS App\\n Browser extensions\\n Webservices\\n RSS feeds\\n Seismicity on Google Earth\\n Email notification service\\n\\n\\nFor seismologists\\n\\nLatest data contributions\\nMoment tensors\\nEuro-Med bulletin\\nSeismic Portal\\nNews\\nJobs\\n\\n\\nProjects\\n\\nARISTOTLE\\nCARISMAND\\nIMPROVER\\nSeismic portal\\nCitizen seismology\\nQuake Catcher Network\\nSigma\\nVerce\\nMARsite\\nNERA\\nEPOS\\nREAKT\\n\\n\\nPublications & docs\\n\\nYou are here : \\nEMSC >\\xa0Earthquake >\\xa0Real Time Seismicity\\r\\n\\t\\tOur sponsors:\\xa0\\r\\n\\t\\tdigitalelement\\n\\xa0\\xa0\\xa0\\xa0About EMSC\\n \\r\\n\\t\\t#sitemap div, x:-moz-any-link {margin-top:-13px;} /* Firefox 2*/\\r\\n\\t\\t#sitemap div, x:-moz-any-link, x:default {margin-top:0;} /* Firefox >=3*/\\r\\n\\t\\t#sponsor{margin-right:15px;}\\r\\n\\t\\tdiv#sponimg{position:absolute; display:none; padding:20px; background:rgba(0,0,0,.8);vertical-align:middle;} #sponsor a:hover>div { display: block; }\\r\\n\\t\\tdiv#sponimg img{vertical-align:middle;}\\r\\n\\t\\n\\n var sponsor = {\\r\\n\\t\\t_sp:{\"netacuity\":{\"logo\":\"https:\\\\/\\\\/static3.emsc.eu\\\\/Images\\\\/sites\\\\/p_netacuity_01.gif\",\"link\":\"http:\\\\/\\\\/www.digitalelement.com\\\\/\",\"name\":\"digitalelement\"},\"geosig\":{\"logo\":\"https:\\\\/\\\\/static1.emsc.eu\\\\/Images\\\\/sites\\\\/geosig_logo.jpg\",\"text\":\"Strong motion instrumentation with a focus on Earthquake Early Warning<br>\",\"link\":\"http:\\\\/\\\\/www.geosig.com\\\\/\",\"name\":\"GeoSIG\"},\"scor\":{\"logo\":\"https:\\\\/\\\\/static2.emsc.eu\\\\/Images\\\\/sites\\\\/scor.png\",\"link\":\"https:\\\\/\\\\/www.scor.com\\\\/en\\\\/scor-corporate-foundation-science\",\"name\":\"SCOR\"}}, _i:0, _keys:null,\\r\\n\\t\\t_start:function() {\\r\\n\\t\\t\\tthis._keys = Object.keys(this._sp);\\t\\r\\n\\t\\t},\\t\\r\\n\\t\\t_next: function() {\\r\\n\\t\\t\\tthis._i++;\\r\\n\\t\\t\\tif(this._i >= this._keys.length) this._i=0;\\r\\n\\t\\t\\tvar k=this._keys[this._i]; //console.log(this._keys.length, k, this._i);\\r\\n\\t\\t\\t//console.log( $jq(\"#sponsor a\").contents());\\r\\n\\t\\t\\t$jq(\"#sponsor a\").attr(\"href\",this._sp[k][\"link\"]);\\r\\n\\t\\t\\t$jq(\"#sponsor a\").contents()[0].textContent=this._sp[k][\"name\"]; $jq(\"#sponimg img\").attr(\"src\",this._sp[k][\"logo\"]);\\r\\n\\t\\t\\tvar self=this;\\r\\n\\t\\t\\tsetTimeout(function() {self._next();},1000*40);\\r\\n\\t\\t}\\t\\r\\n\\t}\\r\\n\\t$jq(function() {\\r\\n\\t\\t//console.log( \"ready!\" );\\r\\n\\t\\tsponsor._start();\\r\\n\\t\\tsponsor._next();\\r\\n\\t});\\r\\n\\t\\n\\n\\ntempDisclaimer\\nReal Time Seismicity\\nDefine your criteria to find specific events  -  Quick search: \\r\\n\\t mag≥3  |  mag≥4  |  mag≥5 \\n .npages { height:30px; text-align:center; font-weight:bold; } .npages td { border-bottom: 2px solid #EDF3FE;} a.sublink { /*height:18px;*/ padding:5px 10px; border:1px solid #ccc; margin:0 4px; text-decoration:underline; background-color:#fff;} \\r\\n\\t\\t\\ta.sublinka { color:#000; text-decoration:none; font-weight:normal; background-color:#FFFFCC; /*rgb(255,255,0);*/ background-color:rgba(255,255,0,0.3); } \\r\\n\\t\\t\\t\\n \\n\\r\\n\\t\\t\\t@media print {\\r\\n\\t\\t\\t\\ttbody td {font-size:10px; } .comment { font-size:7px; width:78px;} .tabev3 { padding-right:15px; } .tabev2 { padding-right:2px; } .tabev5 { padding-right:0; padding-left:2px; } .tabev6 { width:140px; }\\r\\n\\t\\t\\t\\t.pagelist,.autour,.tb_infos,.npages {display:none;}\\t.black td{border-top:1px solid black;} #quick_access{display:none;}\\r\\n\\t\\t\\t}\\r\\n\\t\\t\\t addjs_after(\"https://static1.emsc.eu/javascript/tri_tableau.js\"); \\r\\n\\t\\t\\t\\t\\t\\t\\taddjs_after(\"https://static2.emsc.eu/javascript/tableau_tri_event.js\"); \\r\\n\\t\\t\\t\\t\\xa0- Sorting by column is performed on the data of the current page.Glossary var scrollable=false; \\n\\n\\n\\nCitizenResponseDate & Time UTCLatitude degreesLongitude degreesDepth kmMag  [+]Region name  [+]Last update [-]\\n\\n12345678910›»earthquake2020-08-24\\xa0\\xa0\\xa018:14:10.556min ago35.57\\xa0S\\xa0\\xa0178.85\\xa0E\\xa0\\xa0250M 4.3\\xa0OFF E. COAST OF N. ISLAND, N.Z.2020-08-24 18:16\\nearthquake2020-08-24\\xa0\\xa0\\xa018:06:10.91hr 04min ago17.95\\xa0N\\xa0\\xa066.98\\xa0W\\xa0\\xa010MD2.5\\xa0PUERTO RICO REGION2020-08-24 18:20\\nFearthquake2020-08-24\\xa0\\xa0\\xa017:30:21.91hr 40min ago61.49\\xa0N\\xa0\\xa0149.92\\xa0W\\xa0\\xa046ML3.4\\xa0SOUTHERN ALASKA2020-08-24 18:08\\nearthquake2020-08-24\\xa0\\xa0\\xa017:28:04.01hr 42min ago36.45\\xa0S\\xa0\\xa073.16\\xa0W\\xa0\\xa038ML2.6\\xa0OFFSHORE BIO-BIO, CHILE2020-08-24 18:30\\nearthquake2020-08-24\\xa0\\xa0\\xa017:23:00.01hr 48min ago3.62\\xa0N\\xa0\\xa0126.57\\xa0E\\xa0\\xa058 M3.2\\xa0KEPULAUAN TALAUD, INDONESIA2020-08-24 17:49\\nearthquake2020-08-24\\xa0\\xa0\\xa017:22:34.01hr 48min ago27.33\\xa0S\\xa0\\xa069.89\\xa0W\\xa0\\xa0105ML2.8\\xa0ATACAMA, CHILE2020-08-24 17:28\\nearthquake2020-08-24\\xa0\\xa0\\xa017:19:16.51hr 51min ago19.38\\xa0N\\xa0\\xa0155.22\\xa0W\\xa0\\xa02Ml2.6\\xa0ISLAND OF HAWAII, HAWAII2020-08-24 17:24\\nearthquake2020-08-24\\xa0\\xa0\\xa017:15:01.41hr 55min ago15.53\\xa0S\\xa0\\xa0174.22\\xa0W\\xa0\\xa040mb4.8\\xa0TONGA2020-08-24 17:30\\nearthquake2020-08-24\\xa0\\xa0\\xa017:14:19.21hr 56min ago17.98\\xa0N\\xa0\\xa066.94\\xa0W\\xa0\\xa07Md2.8\\xa0PUERTO RICO2020-08-24 17:27\\nearthquake2020-08-24\\xa0\\xa0\\xa017:05:38.32hr 05min ago18.00\\xa0N\\xa0\\xa066.76\\xa0W\\xa0\\xa013Md2.7\\xa0PUERTO RICO REGION2020-08-24 17:31\\nearthquake2020-08-24\\xa0\\xa0\\xa017:03:14.12hr 07min ago19.24\\xa0N\\xa0\\xa0155.39\\xa0W\\xa0\\xa031Md2.1\\xa0ISLAND OF HAWAII, HAWAII2020-08-24 17:07\\nearthquake2020-08-24\\xa0\\xa0\\xa016:44:35.82hr 26min ago27.71\\xa0N\\xa0\\xa018.23\\xa0W\\xa0\\xa035ML3.0\\xa0CANARY ISLANDS, SPAIN REGION2020-08-24 17:05\\nearthquake2020-08-24\\xa0\\xa0\\xa016:37:19.12hr 33min ago56.78\\xa0N\\xa0\\xa0152.64\\xa0W\\xa0\\xa011ML2.7\\xa0KODIAK ISLAND REGION, ALASKA2020-08-24 17:17\\nearthquake2020-08-24\\xa0\\xa0\\xa016:25:06.02hr 45min ago29.22\\xa0S\\xa0\\xa071.20\\xa0W\\xa0\\xa075ML3.5\\xa0COQUIMBO, CHILE2020-08-24 16:42\\nearthquake2020-08-24\\xa0\\xa0\\xa016:23:55.72hr 47min ago17.95\\xa0N\\xa0\\xa066.96\\xa0W\\xa0\\xa06Md2.9\\xa0PUERTO RICO2020-08-24 16:56\\nearthquake2020-08-24\\xa0\\xa0\\xa016:21:42.02hr 49min ago27.26\\xa0S\\xa0\\xa070.02\\xa0W\\xa0\\xa0101ML2.7\\xa0ATACAMA, CHILE2020-08-24 16:26\\nearthquake2020-08-24\\xa0\\xa0\\xa016:18:13.72hr 52min ago17.99\\xa0N\\xa0\\xa066.76\\xa0W\\xa0\\xa013Md2.5\\xa0PUERTO RICO REGION2020-08-24 16:40\\nearthquake2020-08-24\\xa0\\xa0\\xa016:03:50.73hr 07min ago19.09\\xa0N\\xa0\\xa067.07\\xa0W\\xa0\\xa010ML2.5\\xa0PUERTO RICO REGION2020-08-24 17:10\\nearthquake2020-08-24\\xa0\\xa0\\xa015:50:31.93hr 20min ago19.07\\xa0N\\xa0\\xa067.14\\xa0W\\xa0\\xa020ML3.4\\xa0PUERTO RICO REGION2020-08-24 16:58\\nearthquake2020-08-24\\xa0\\xa0\\xa015:36:44.03hr 34min ago3.34\\xa0S\\xa0\\xa0131.08\\xa0E\\xa0\\xa033 M3.1\\xa0CERAM SEA, INDONESIA2020-08-24 15:55\\nearthquake2020-08-24\\xa0\\xa0\\xa015:35:57.03hr 35min ago9.78\\xa0S\\xa0\\xa0119.05\\xa0E\\xa0\\xa010 M3.9\\xa0SUMBA REGION, INDONESIA2020-08-24 15:44\\nearthquake2020-08-24\\xa0\\xa0\\xa015:30:19.63hr 40min ago44.28\\xa0N\\xa0\\xa0115.09\\xa0W\\xa0\\xa014ML3.3\\xa0SOUTHERN IDAHO2020-08-24 15:40\\nearthquake2020-08-24\\xa0\\xa0\\xa015:29:26.03hr 41min ago24.21\\xa0S\\xa0\\xa067.74\\xa0W\\xa0\\xa0227ML3.2\\xa0SALTA, ARGENTINA2020-08-24 15:47\\nearthquake2020-08-24\\xa0\\xa0\\xa015:17:19.03hr 53min ago19.35\\xa0N\\xa0\\xa069.26\\xa0W\\xa0\\xa016 M2.9\\xa0DOMINICAN REPUBLIC REGION2020-08-24 16:06\\nearthquake2020-08-24\\xa0\\xa0\\xa015:07:41.94hr 03min ago19.19\\xa0N\\xa0\\xa0155.47\\xa0W\\xa0\\xa030ML2.0\\xa0ISLAND OF HAWAII, HAWAII2020-08-24 15:13\\nearthquake2020-08-24\\xa0\\xa0\\xa015:05:59.04hr 05min ago10.17\\xa0N\\xa0\\xa0126.19\\xa0E\\xa0\\xa021 M3.9\\xa0PHILIPPINE ISLANDS REGION2020-08-24 15:27\\nearthquake2020-08-24\\xa0\\xa0\\xa015:03:18.24hr 07min ago59.64\\xa0N\\xa0\\xa0152.65\\xa0W\\xa0\\xa096ML2.9\\xa0SOUTHERN ALASKA2020-08-24 15:48\\nearthquake2020-08-24\\xa0\\xa0\\xa014:43:20.04hr 27min ago19.65\\xa0S\\xa0\\xa069.20\\xa0W\\xa0\\xa099ML2.5\\xa0TARAPACA, CHILE2020-08-24 15:13\\nearthquake2020-08-24\\xa0\\xa0\\xa014:42:24.04hr 28min ago38.19\\xa0N\\xa0\\xa0117.95\\xa0W\\xa0\\xa07ml2.0\\xa0NEVADA2020-08-24 14:54\\nearthquake2020-08-24\\xa0\\xa0\\xa014:38:10.74hr 32min ago60.95\\xa0N\\xa0\\xa0146.09\\xa0W\\xa0\\xa016ML2.6\\xa0SOUTHERN ALASKA2020-08-24 15:50\\nearthquake2020-08-24\\xa0\\xa0\\xa014:35:17.04hr 35min ago19.57\\xa0S\\xa0\\xa069.22\\xa0W\\xa0\\xa0102ML3.8\\xa0TARAPACA, CHILE2020-08-24 14:43\\nearthquake2020-08-24\\xa0\\xa0\\xa014:33:59.54hr 37min ago38.19\\xa0N\\xa0\\xa038.68\\xa0E\\xa0\\xa07ML2.2\\xa0EASTERN TURKEY2020-08-24 14:51\\nearthquake2020-08-24\\xa0\\xa0\\xa014:31:27.04hr 39min ago15.41\\xa0N\\xa0\\xa096.35\\xa0W\\xa0\\xa06 M4.2\\xa0OFFSHORE OAXACA, MEXICO2020-08-24 15:02\\nearthquake2020-08-24\\xa0\\xa0\\xa014:27:05.04hr 43min ago19.42\\xa0N\\xa0\\xa0101.25\\xa0E\\xa0\\xa03 M3.6\\xa0LAOS2020-08-24 14:36\\nearthquake2020-08-24\\xa0\\xa0\\xa014:25:37.24hr 45min ago38.18\\xa0N\\xa0\\xa0117.87\\xa0W\\xa0\\xa05ml2.0\\xa0NEVADA2020-08-24 17:05\\nearthquake2020-08-24\\xa0\\xa0\\xa014:23:46.44hr 47min ago17.94\\xa0N\\xa0\\xa066.96\\xa0W\\xa0\\xa010ML2.7\\xa0PUERTO RICO REGION2020-08-24 15:58\\nearthquake2020-08-24\\xa0\\xa0\\xa014:23:31.04hr 47min ago21.14\\xa0S\\xa0\\xa068.92\\xa0W\\xa0\\xa0112ML2.8\\xa0TARAPACA, CHILE2020-08-24 14:35\\nFearthquake2020-08-24\\xa0\\xa0\\xa014:13:13.24hr 57min ago3.78\\xa0S\\xa0\\xa029.25\\xa0E\\xa0\\xa010mb5.0\\xa0BURUNDI2020-08-24 14:38\\nearthquake2020-08-24\\xa0\\xa0\\xa014:01:56.05hr 09min ago11.80\\xa0N\\xa0\\xa0124.19\\xa0E\\xa0\\xa015 M3.1\\xa0LEYTE, PHILIPPINES2020-08-24 14:15\\nearthquake2020-08-24\\xa0\\xa0\\xa013:55:43.65hr 15min ago39.35\\xa0N\\xa0\\xa0123.28\\xa0W\\xa0\\xa02Md2.1\\xa0NORTHERN CALIFORNIA2020-08-24 13:57\\nearthquake2020-08-24\\xa0\\xa0\\xa013:54:49.35hr 16min ago19.06\\xa0N\\xa0\\xa067.15\\xa0W\\xa0\\xa031ML2.7\\xa0PUERTO RICO REGION2020-08-24 15:06\\nearthquake2020-08-24\\xa0\\xa0\\xa013:37:53.05hr 33min ago10.45\\xa0N\\xa0\\xa0125.69\\xa0E\\xa0\\xa078 M3.7\\xa0LEYTE, PHILIPPINES2020-08-24 13:51\\nearthquake2020-08-24\\xa0\\xa0\\xa013:30:30.35hr 40min ago34.33\\xa0N\\xa0\\xa0119.32\\xa0W\\xa0\\xa03Ml2.0\\xa0GREATER LOS ANGELES AREA, CALIF.2020-08-24 13:34\\nearthquake2020-08-24\\xa0\\xa0\\xa013:23:54.45hr 47min ago17.92\\xa0N\\xa0\\xa066.97\\xa0W\\xa0\\xa010ML2.6\\xa0PUERTO RICO REGION2020-08-24 13:53\\nearthquake2020-08-24\\xa0\\xa0\\xa013:23:01.05hr 48min ago38.95\\xa0N\\xa0\\xa035.83\\xa0E\\xa0\\xa016ML2.6\\xa0CENTRAL TURKEY2020-08-24 13:35\\nearthquake2020-08-24\\xa0\\xa0\\xa013:20:25.45hr 50min ago17.98\\xa0N\\xa0\\xa066.83\\xa0W\\xa0\\xa016Md2.4\\xa0PUERTO RICO2020-08-24 13:43\\nearthquake2020-08-24\\xa0\\xa0\\xa013:13:03.05hr 57min ago8.19\\xa0S\\xa0\\xa0117.59\\xa0E\\xa0\\xa0233 M4.0\\xa0SUMBAWA REGION, INDONESIA2020-08-24 13:21\\nearthquake2020-08-24\\xa0\\xa0\\xa013:09:59.56hr 01min ago18.98\\xa0N\\xa0\\xa067.17\\xa0W\\xa0\\xa028ML3.0\\xa0PUERTO RICO REGION2020-08-24 13:58\\nearthquake2020-08-24\\xa0\\xa0\\xa013:05:49.96hr 05min ago25.32\\xa0N\\xa0\\xa097.65\\xa0E\\xa0\\xa010mb4.4\\xa0MYANMAR-CHINA BORDER REGION2020-08-24 14:37\\nearthquake2020-08-24\\xa0\\xa0\\xa012:50:58.06hr 20min ago31.68\\xa0S\\xa0\\xa071.71\\xa0W\\xa0\\xa030ML3.1\\xa0OFFSHORE COQUIMBO, CHILE2020-08-24 13:02\\n 12345678910›»Bold : Earthquakes with a magnitude ≥ 4.5 in Euro-med, or ≥ 5.5 in the world Red : Earthquakes with a magnitude ≥ 5 in Euro-med, or ≥ 6 in the world \\r\\n\\t\\t\\t\\tvar nb_event_on_page=50;\\r\\n\\t\\t\\t\\r\\n\\t\\t\\t\\tfunction cancel_evt(e) {\\r\\n\\t\\t\\t\\t\\tif(e.bubbles===undefined) e.cancelBubble = true;\\r\\n\\t\\t\\t\\t\\telse e.stopPropagation();\\r\\n\\t\\t\\t\\t}\\t\\r\\n\\t\\t\\t\\tfunction go_details(e,id,page) {\\r\\n\\t\\t\\t\\t\\tif((!id) || (id==null)) {\\r\\n\\t\\t\\t\\t\\t\\tcancel_evt(e);\\r\\n\\t\\t\\t\\t\\t\\twindow.open(page,\"Intensity_Map\",\"menubar=no, status=no, scrollbars=no, menubar=no, width=900, height=1000\");\\r\\n\\t\\t\\t\\t\\t}\\t\\r\\n\\t\\t\\t\\t\\telse document.location.href=\"/Earthquake/earthquake.php?id=\"+id;\\r\\n\\t\\t\\t\\t}\\r\\n\\t\\t\\t\\t\\r\\n\\t\\t\\t\\tvar is_hide_magni=true;\\r\\n\\t\\t\\t\\tfunction hide_magni() {\\r\\n\\t\\t\\t\\t\\tif(!is_hide_magni) {\\r\\n\\t\\t\\t\\t\\t\\tis_hide_magni=true;\\r\\n\\t\\t\\t\\t\\t\\tif(document.getElementById(\"thmag\")) document.getElementById(\"thmag\").colSpan=\"1\";\\r\\n\\t\\t\\t\\t\\t\\tif(document.getElementById(\"magplus\")) document.getElementById(\"magplus\").innerHTML=\"[+]\";\\r\\n\\t\\t\\t\\t\\t\\tfor (i=0;i<= nb_event_on_page;i++) {\\r\\n\\t\\t\\t\\t\\t\\t\\tif(document.getElementById(\"magtyp\"+i)) { document.getElementById(\"magtyp\"+i).className=\"tabev5\"; } \\r\\n\\t\\t\\t\\t\\t\\t}\\r\\n\\t\\t\\t\\t\\t}\\r\\n\\t\\t\\t\\t\\telse {\\r\\n\\t\\t\\t\\t\\t\\tis_hide_magni=false;\\r\\n\\t\\t\\t\\t\\t\\tif(document.getElementById(\"thmag\")) document.getElementById(\"thmag\").colSpan=\"2\";\\r\\n\\t\\t\\t\\t\\t\\tif(document.getElementById(\"magplus\")) document.getElementById(\"magplus\").innerHTML=\"[-]\";\\r\\n\\t\\t\\t\\t\\t\\tfor (i=0;i<= nb_event_on_page;i++) {\\r\\n\\t\\t\\t\\t\\t\\t\\tif(document.getElementById(\"magtyp\"+i)) {document.getElementById(\"magtyp\"+i).className=\"tabev52\"; } \\r\\n\\t\\t\\t\\t\\t\\t}\\r\\n\\t\\t\\t\\t\\t}\\t\\r\\n\\t\\t\\t\\t}\\t\\r\\n\\t\\t\\t\\t\\r\\n\\t\\t\\t\\tvar ishide=true;\\r\\n\\t\\t\\t\\tfunction hide_upd() {\\r\\n\\t\\t\\t\\t\\tvar i=0;\\r\\n\\t\\t\\t\\t\\tif(!ishide) {\\r\\n\\t\\t\\t\\t\\t\\tishide=true;\\r\\n\\t\\t\\t\\t\\t\\tdocument.getElementById(\"upd\").className=\"th2 updatetimeno\";\\r\\n\\t\\t\\t\\t\\t\\tdocument.getElementById(\"upda\").style.display=\"block\";\\r\\n\\t\\t\\t\\t\\t\\t\\r\\n\\t\\t\\t\\t\\t\\tfor (i=0;i<= nb_event_on_page;i++) {\\r\\n\\t\\t\\t\\t\\t\\t\\tif(document.getElementById(\"upd\"+i)) document.getElementById(\"upd\"+i).className=\"comment updatetimeno\";\\r\\n\\t\\t\\t\\t\\t\\t\\tif(document.getElementById(\"reg\"+i)) document.getElementById(\"reg\"+i).style.paddingLeft=\"20px\";\\r\\n\\t\\t\\t\\t\\t\\t}\\t\\r\\n\\t\\t\\t\\t\\t}\\r\\n\\t\\t\\t\\t\\telse {\\r\\n\\t\\t\\t\\t\\t\\t\\tishide=false;\\r\\n\\t\\t\\t\\t\\t\\tdocument.getElementById(\"upda\").style.display=\"none\";\\t\\r\\n\\t\\t\\t\\t\\t\\tdocument.getElementById(\"upd\").className=\"th2\";\\r\\n\\t\\t\\t\\t\\t\\t\\r\\n\\t\\t\\t\\t\\t\\tfor (i=0;i<= nb_event_on_page;i++) {\\r\\n\\t\\t\\t\\t\\t\\t\\tif(document.getElementById(\"reg\"+i)) document.getElementById(\"reg\"+i).style.paddingLeft=\"4px\";\\r\\n\\t\\t\\t\\t\\t\\t\\tif(document.getElementById(\"upd\"+i)) document.getElementById(\"upd\"+i).className=\"comment\";\\r\\n\\t\\t\\t\\t\\t\\t}\\t\\r\\n\\t\\t\\t\\t\\t\\t\\r\\n\\t\\t\\t\\t\\t}\\t\\r\\n\\t\\t\\t\\t}\\r\\n\\t\\t\\t\\t\\tfunction update_ago() {\\r\\n\\t\\t\\t\\t\\t\\tvar i=0;\\r\\n\\t\\t\\t\\t\\t\\tvar def=new Array(\"min ago\",\"hr \");\\r\\n\\t\\t\\t\\t\\t\\twhile( document.getElementById(\"ago\"+i)) { \\r\\n\\t\\t\\t\\t\\t\\t\\tvar tb=new Array();\\r\\n\\t\\t\\t\\t\\t\\t\\tvar elem=document.getElementById(\"ago\"+i);\\r\\n\\t\\t\\t\\t\\t\\t\\tvar str=elem.innerHTML.replace(/min ago/i,\"\").replace(/hr/i,\"\");\\r\\n\\t\\t\\t\\t\\t\\t\\ttb=str.split(\" \").reverse();\\r\\n\\t\\t\\t\\t\\t\\t\\t//if(i==0) alert(\"**\"+str+\"**\"+tb[0]+\" | \"+tb[1]);\\r\\n\\t\\t\\t\\t\\t\\t\\tvar str2=\"\";\\r\\n\\t\\t\\t\\t\\t\\t\\tvar ln=tb.length;\\r\\n\\t\\t\\t\\t\\t\\t\\tvar j=0;\\r\\n\\t\\t\\t\\t\\t\\t\\r\\n\\t\\t\\t\\t\\t\\t\\ttb[j]=parseFloat(tb[j])+1;\\r\\n\\t\\t\\t\\t\\t\\t\\tif(tb[j]==60) {\\r\\n\\t\\t\\t\\t\\t\\t\\t\\ttb[j]=0;\\r\\n\\t\\t\\t\\t\\t\\t\\t\\tif(ln<=1) tb[j+1]=0;\\r\\n\\t\\t\\t\\t\\t\\t\\t\\ttb[j+1]=parseFloat(tb[j+1])+1;\\r\\n\\t\\t\\t\\t\\t\\t\\t\\tif(tb[j+1]>=12) elem.parentNode.removeChild(elem);\\r\\n\\t\\t\\t\\t\\t\\t\\t}\\t\\r\\n\\t\\t\\t\\t\\t\\t\\tif(tb[j]<10) { tb[j]=\"0\"+tb[j]; }\\r\\n\\t\\t\\t\\t\\t\\t\\t\\t\\r\\n\\t\\t\\t\\t\\t\\t\\tdo {\\r\\n\\t\\t\\t\\t\\t\\t\\t\\ttb[j]+=def[j];\\r\\n\\t\\t\\t\\t\\t\\t\\t\\tj++;\\r\\n\\t\\t\\t\\t\\t\\t\\t} while(tb.length>=(j+1));\\t\\r\\n\\t\\t\\t\\t\\t\\t\\t\\r\\n\\t\\t\\t\\t\\t\\t\\ttb.reverse();\\r\\n\\t\\t\\t\\t\\t\\t\\tfor(var z=0; z<tb.length;z++) {\\r\\n\\t\\t\\t\\t\\t\\t\\t\\tstr2+=tb[z];\\r\\n\\t\\t\\t\\t\\t\\t\\t}\\t\\r\\n\\t\\t\\t\\t\\r\\n\\t\\t\\t\\t\\t\\t\\telem.innerHTML=str2;\\r\\n\\t\\t\\t\\t\\t\\t\\t//alert(str2);\\r\\n\\t\\t\\t\\t\\t\\t\\ti++;\\r\\n\\t\\t\\t\\t\\t\\t} \\r\\n\\t\\t\\t\\t\\t\\tsetTimeout(\"update_ago()\",60000); //1min \\r\\n\\t\\t\\t\\t\\t}\\r\\n\\t\\t\\t\\t\\tsetTimeout(\"update_ago()\",60000);\\r\\n\\t\\t\\t\\t\\t //update_ago();\\r\\n\\t\\t\\t\\tvar tab_time=new Array( {evid:888216, time:\"2020-08-24&#160;&#160;&#160;18:14:10.5\", times:\"1598292850.5\"},{evid:888217, time:\"2020-08-24&#160;&#160;&#160;18:06:10.9\", times:\"1598292370.9\"},{evid:888214, time:\"2020-08-24&#160;&#160;&#160;17:30:21.9\", times:\"1598290221.9\"},{evid:888212, time:\"2020-08-24&#160;&#160;&#160;17:28:04.0\", times:\"1598290084\"},{evid:888213, time:\"2020-08-24&#160;&#160;&#160;17:23:00.0\", times:\"1598289780\"},{evid:888210, time:\"2020-08-24&#160;&#160;&#160;17:22:34.0\", times:\"1598289754\"},{evid:888207, time:\"2020-08-24&#160;&#160;&#160;17:19:16.5\", times:\"1598289556.5\"},{evid:888209, time:\"2020-08-24&#160;&#160;&#160;17:15:01.4\", times:\"1598289301.4\"},{evid:888208, time:\"2020-08-24&#160;&#160;&#160;17:14:19.2\", times:\"1598289259.2\"},{evid:888211, time:\"2020-08-24&#160;&#160;&#160;17:05:38.3\", times:\"1598288738.3\"},{evid:888205, time:\"2020-08-24&#160;&#160;&#160;17:03:14.1\", times:\"1598288594.1\"},{evid:888202, time:\"2020-08-24&#160;&#160;&#160;16:44:35.8\", times:\"1598287475.8\"},{evid:888206, time:\"2020-08-24&#160;&#160;&#160;16:37:19.1\", times:\"1598287039.1\"},{evid:888200, time:\"2020-08-24&#160;&#160;&#160;16:25:06.0\", times:\"1598286306\"},{evid:888203, time:\"2020-08-24&#160;&#160;&#160;16:23:55.7\", times:\"1598286235.7\"},{evid:888196, time:\"2020-08-24&#160;&#160;&#160;16:21:42.0\", times:\"1598286102\"},{evid:888199, time:\"2020-08-24&#160;&#160;&#160;16:18:13.7\", times:\"1598285893.7\"},{evid:888198, time:\"2020-08-24&#160;&#160;&#160;16:03:50.7\", times:\"1598285030.7\"},{evid:888197, time:\"2020-08-24&#160;&#160;&#160;15:50:31.9\", times:\"1598284231.9\"},{evid:888192, time:\"2020-08-24&#160;&#160;&#160;15:36:44.0\", times:\"1598283404\"},{evid:888189, time:\"2020-08-24&#160;&#160;&#160;15:35:57.0\", times:\"1598283357\"},{evid:888188, time:\"2020-08-24&#160;&#160;&#160;15:30:19.6\", times:\"1598283019.6\"},{evid:888190, time:\"2020-08-24&#160;&#160;&#160;15:29:26.0\", times:\"1598282966\"},{evid:888195, time:\"2020-08-24&#160;&#160;&#160;15:17:19.0\", times:\"1598282239\"},{evid:888184, time:\"2020-08-24&#160;&#160;&#160;15:07:41.9\", times:\"1598281661.9\"},{evid:888187, time:\"2020-08-24&#160;&#160;&#160;15:05:59.0\", times:\"1598281559\"},{evid:888191, time:\"2020-08-24&#160;&#160;&#160;15:03:18.2\", times:\"1598281398.2\"},{evid:888185, time:\"2020-08-24&#160;&#160;&#160;14:43:20.0\", times:\"1598280200\"},{evid:888181, time:\"2020-08-24&#160;&#160;&#160;14:42:24.0\", times:\"1598280144\"},{evid:888182, time:\"2020-08-24&#160;&#160;&#160;14:38:10.7\", times:\"1598279890.7\"},{evid:888178, time:\"2020-08-24&#160;&#160;&#160;14:35:17.0\", times:\"1598279717\"},{evid:888180, time:\"2020-08-24&#160;&#160;&#160;14:33:59.5\", times:\"1598279639.5\"},{evid:888183, time:\"2020-08-24&#160;&#160;&#160;14:31:27.0\", times:\"1598279487\"},{evid:888176, time:\"2020-08-24&#160;&#160;&#160;14:27:05.0\", times:\"1598279225\"},{evid:888175, time:\"2020-08-24&#160;&#160;&#160;14:25:37.2\", times:\"1598279137.2\"},{evid:888193, time:\"2020-08-24&#160;&#160;&#160;14:23:46.4\", times:\"1598279026.4\"},{evid:888174, time:\"2020-08-24&#160;&#160;&#160;14:23:31.0\", times:\"1598279011\"},{evid:888173, time:\"2020-08-24&#160;&#160;&#160;14:13:13.2\", times:\"1598278393.2\"},{evid:888171, time:\"2020-08-24&#160;&#160;&#160;14:01:56.0\", times:\"1598277716\"},{evid:888168, time:\"2020-08-24&#160;&#160;&#160;13:55:43.6\", times:\"1598277343.6\"},{evid:888179, time:\"2020-08-24&#160;&#160;&#160;13:54:49.3\", times:\"1598277289.3\"},{evid:888165, time:\"2020-08-24&#160;&#160;&#160;13:37:53.0\", times:\"1598276273\"},{evid:888159, time:\"2020-08-24&#160;&#160;&#160;13:30:30.3\", times:\"1598275830.3\"},{evid:888164, time:\"2020-08-24&#160;&#160;&#160;13:23:54.4\", times:\"1598275434.4\"},{evid:888162, time:\"2020-08-24&#160;&#160;&#160;13:23:01.0\", times:\"1598275381\"},{evid:888163, time:\"2020-08-24&#160;&#160;&#160;13:20:25.4\", times:\"1598275225.4\"},{evid:888156, time:\"2020-08-24&#160;&#160;&#160;13:13:03.0\", times:\"1598274783\"},{evid:888167, time:\"2020-08-24&#160;&#160;&#160;13:09:59.5\", times:\"1598274599.5\"},{evid:888160, time:\"2020-08-24&#160;&#160;&#160;13:05:49.9\", times:\"1598274349.9\"},{evid:888155, time:\"2020-08-24&#160;&#160;&#160;12:50:58.0\", times:\"1598273458\"});\\nvar tab_tab=new Array( {evid:888216, ago:\"56min ago\", comm: \"0\", pics: \"0\", intens: \"-1\", lat:\"-35.57\", lon:\"178.85\", depth:\"250\", mag:\"4.3\", reg:\"OFF E. COAST OF N. ISLAND, N.Z.\",upd:\"1598292960\"},{evid:888217, ago:\"1hr 04min ago\", comm: \"0\", pics: \"0\", intens: \"-1\", lat:\"17.95\", lon:\"-66.98\", depth:\"10\", mag:\"2.5\", reg:\"PUERTO RICO REGION\",upd:\"1598293200\"},{evid:888214, ago:\"1hr 40min ago\", comm: \"0\", pics: \"0\", intens: \"0\", lat:\"61.49\", lon:\"-149.92\", depth:\"46\", mag:\"3.4\", reg:\"SOUTHERN ALASKA\",upd:\"1598292480\"},{evid:888212, ago:\"1hr 42min ago\", comm: \"0\", pics: \"0\", intens: \"-1\", lat:\"-36.45\", lon:\"-73.16\", depth:\"38\", mag:\"2.6\", reg:\"OFFSHORE BIO-BIO, CHILE\",upd:\"1598293800\"},{evid:888213, ago:\"1hr 48min ago\", comm: \"0\", pics: \"0\", intens: \"-1\", lat:\"3.62\", lon:\"126.57\", depth:\"58\", mag:\"3.2\", reg:\"KEPULAUAN TALAUD, INDONESIA\",upd:\"1598291340\"},{evid:888210, ago:\"1hr 48min ago\", comm: \"0\", pics: \"0\", intens: \"-1\", lat:\"-27.33\", lon:\"-69.89\", depth:\"105\", mag:\"2.8\", reg:\"ATACAMA, CHILE\",upd:\"1598290080\"},{evid:888207, ago:\"1hr 51min ago\", comm: \"0\", pics: \"0\", intens: \"-1\", lat:\"19.38\", lon:\"-155.22\", depth:\"2\", mag:\"2.6\", reg:\"ISLAND OF HAWAII, HAWAII\",upd:\"1598289840\"},{evid:888209, ago:\"1hr 55min ago\", comm: \"0\", pics: \"0\", intens: \"-1\", lat:\"-15.53\", lon:\"-174.22\", depth:\"40\", mag:\"4.8\", reg:\"TONGA\",upd:\"1598290200\"},{evid:888208, ago:\"1hr 56min ago\", comm: \"0\", pics: \"0\", intens: \"-1\", lat:\"17.98\", lon:\"-66.94\", depth:\"7\", mag:\"2.8\", reg:\"PUERTO RICO\",upd:\"1598290020\"},{evid:888211, ago:\"2hr 05min ago\", comm: \"0\", pics: \"0\", intens: \"-1\", lat:\"18.00\", lon:\"-66.76\", depth:\"13\", mag:\"2.7\", reg:\"PUERTO RICO REGION\",upd:\"1598290260\"},{evid:888205, ago:\"2hr 07min ago\", comm: \"0\", pics: \"0\", intens: \"-1\", lat:\"19.24\", lon:\"-155.39\", depth:\"31\", mag:\"2.1\", reg:\"ISLAND OF HAWAII, HAWAII\",upd:\"1598288820\"},{evid:888202, ago:\"2hr 26min ago\", comm: \"0\", pics: \"0\", intens: \"-1\", lat:\"27.71\", lon:\"-18.23\", depth:\"35\", mag:\"3.0\", reg:\"CANARY ISLANDS, SPAIN REGION\",upd:\"1598288700\"},{evid:888206, ago:\"2hr 33min ago\", comm: \"0\", pics: \"0\", intens: \"-1\", lat:\"56.78\", lon:\"-152.64\", depth:\"11\", mag:\"2.7\", reg:\"KODIAK ISLAND REGION, ALASKA\",upd:\"1598289420\"},{evid:888200, ago:\"2hr 45min ago\", comm: \"0\", pics: \"0\", intens: \"-1\", lat:\"-29.22\", lon:\"-71.20\", depth:\"75\", mag:\"3.5\", reg:\"COQUIMBO, CHILE\",upd:\"1598287320\"},{evid:888203, ago:\"2hr 47min ago\", comm: \"0\", pics: \"0\", intens: \"-1\", lat:\"17.95\", lon:\"-66.96\", depth:\"6\", mag:\"2.9\", reg:\"PUERTO RICO\",upd:\"1598288160\"},{evid:888196, ago:\"2hr 49min ago\", comm: \"0\", pics: \"0\", intens: \"-1\", lat:\"-27.26\", lon:\"-70.02\", depth:\"101\", mag:\"2.7\", reg:\"ATACAMA, CHILE\",upd:\"1598286360\"},{evid:888199, ago:\"2hr 52min ago\", comm: \"0\", pics: \"0\", intens: \"-1\", lat:\"17.99\", lon:\"-66.76\", depth:\"13\", mag:\"2.5\", reg:\"PUERTO RICO REGION\",upd:\"1598287200\"},{evid:888198, ago:\"3hr 07min ago\", comm: \"0\", pics: \"0\", intens: \"-1\", lat:\"19.09\", lon:\"-67.07\", depth:\"10\", mag:\"2.5\", reg:\"PUERTO RICO REGION\",upd:\"1598289000\"},{evid:888197, ago:\"3hr 20min ago\", comm: \"0\", pics: \"0\", intens: \"-1\", lat:\"19.07\", lon:\"-67.14\", depth:\"20\", mag:\"3.4\", reg:\"PUERTO RICO REGION\",upd:\"1598288280\"},{evid:888192, ago:\"3hr 34min ago\", comm: \"0\", pics: \"0\", intens: \"-1\", lat:\"-3.34\", lon:\"131.08\", depth:\"33\", mag:\"3.1\", reg:\"CERAM SEA, INDONESIA\",upd:\"1598284500\"},{evid:888189, ago:\"3hr 35min ago\", comm: \"0\", pics: \"0\", intens: \"-1\", lat:\"-9.78\", lon:\"119.05\", depth:\"10\", mag:\"3.9\", reg:\"SUMBA REGION, INDONESIA\",upd:\"1598283840\"},{evid:888188, ago:\"3hr 40min ago\", comm: \"0\", pics: \"0\", intens: \"-1\", lat:\"44.28\", lon:\"-115.09\", depth:\"14\", mag:\"3.3\", reg:\"SOUTHERN IDAHO\",upd:\"1598283600\"},{evid:888190, ago:\"3hr 41min ago\", comm: \"0\", pics: \"0\", intens: \"-1\", lat:\"-24.21\", lon:\"-67.74\", depth:\"227\", mag:\"3.2\", reg:\"SALTA, ARGENTINA\",upd:\"1598284020\"},{evid:888195, ago:\"3hr 53min ago\", comm: \"0\", pics: \"0\", intens: \"-1\", lat:\"19.35\", lon:\"-69.26\", depth:\"16\", mag:\"2.9\", reg:\"DOMINICAN REPUBLIC REGION\",upd:\"1598285160\"},{evid:888184, ago:\"4hr 03min ago\", comm: \"0\", pics: \"0\", intens: \"-1\", lat:\"19.19\", lon:\"-155.47\", depth:\"30\", mag:\"2.0\", reg:\"ISLAND OF HAWAII, HAWAII\",upd:\"1598281980\"},{evid:888187, ago:\"4hr 05min ago\", comm: \"0\", pics: \"0\", intens: \"-1\", lat:\"10.17\", lon:\"126.19\", depth:\"21\", mag:\"3.9\", reg:\"PHILIPPINE ISLANDS REGION\",upd:\"1598282820\"},{evid:888191, ago:\"4hr 07min ago\", comm: \"0\", pics: \"0\", intens: \"-1\", lat:\"59.64\", lon:\"-152.65\", depth:\"96\", mag:\"2.9\", reg:\"SOUTHERN ALASKA\",upd:\"1598284080\"},{evid:888185, ago:\"4hr 27min ago\", comm: \"0\", pics: \"0\", intens: \"-1\", lat:\"-19.65\", lon:\"-69.20\", depth:\"99\", mag:\"2.5\", reg:\"TARAPACA, CHILE\",upd:\"1598281980\"},{evid:888181, ago:\"4hr 28min ago\", comm: \"0\", pics: \"0\", intens: \"-1\", lat:\"38.19\", lon:\"-117.95\", depth:\"7\", mag:\"2.0\", reg:\"NEVADA\",upd:\"1598280840\"},{evid:888182, ago:\"4hr 32min ago\", comm: \"0\", pics: \"0\", intens: \"-1\", lat:\"60.95\", lon:\"-146.09\", depth:\"16\", mag:\"2.6\", reg:\"SOUTHERN ALASKA\",upd:\"1598284200\"},{evid:888178, ago:\"4hr 35min ago\", comm: \"0\", pics: \"0\", intens: \"-1\", lat:\"-19.57\", lon:\"-69.22\", depth:\"102\", mag:\"3.8\", reg:\"TARAPACA, CHILE\",upd:\"1598280180\"},{evid:888180, ago:\"4hr 37min ago\", comm: \"0\", pics: \"0\", intens: \"-1\", lat:\"38.19\", lon:\"38.68\", depth:\"7\", mag:\"2.2\", reg:\"EASTERN TURKEY\",upd:\"1598280660\"},{evid:888183, ago:\"4hr 39min ago\", comm: \"0\", pics: \"0\", intens: \"-1\", lat:\"15.41\", lon:\"-96.35\", depth:\"6\", mag:\"4.2\", reg:\"OFFSHORE OAXACA, MEXICO\",upd:\"1598281320\"},{evid:888176, ago:\"4hr 43min ago\", comm: \"0\", pics: \"0\", intens: \"-1\", lat:\"19.42\", lon:\"101.25\", depth:\"3\", mag:\"3.6\", reg:\"LAOS\",upd:\"1598279760\"},{evid:888175, ago:\"4hr 45min ago\", comm: \"0\", pics: \"0\", intens: \"-1\", lat:\"38.18\", lon:\"-117.87\", depth:\"5\", mag:\"2.0\", reg:\"NEVADA\",upd:\"1598288700\"},{evid:888193, ago:\"4hr 47min ago\", comm: \"0\", pics: \"0\", intens: \"-1\", lat:\"17.94\", lon:\"-66.96\", depth:\"10\", mag:\"2.7\", reg:\"PUERTO RICO REGION\",upd:\"1598284680\"},{evid:888174, ago:\"4hr 47min ago\", comm: \"0\", pics: \"0\", intens: \"-1\", lat:\"-21.14\", lon:\"-68.92\", depth:\"112\", mag:\"2.8\", reg:\"TARAPACA, CHILE\",upd:\"1598279700\"},{evid:888173, ago:\"4hr 57min ago\", comm: \"0\", pics: \"0\", intens: \"0\", lat:\"-3.78\", lon:\"29.25\", depth:\"10\", mag:\"5.0\", reg:\"BURUNDI\",upd:\"1598279880\"},{evid:888171, ago:\"5hr 09min ago\", comm: \"0\", pics: \"0\", intens: \"-1\", lat:\"11.80\", lon:\"124.19\", depth:\"15\", mag:\"3.1\", reg:\"LEYTE, PHILIPPINES\",upd:\"1598278500\"},{evid:888168, ago:\"5hr 15min ago\", comm: \"0\", pics: \"0\", intens: \"-1\", lat:\"39.35\", lon:\"-123.28\", depth:\"2\", mag:\"2.1\", reg:\"NORTHERN CALIFORNIA\",upd:\"1598277420\"},{evid:888179, ago:\"5hr 16min ago\", comm: \"0\", pics: \"0\", intens: \"-1\", lat:\"19.06\", lon:\"-67.15\", depth:\"31\", mag:\"2.7\", reg:\"PUERTO RICO REGION\",upd:\"1598281560\"},{evid:888165, ago:\"5hr 33min ago\", comm: \"0\", pics: \"0\", intens: \"-1\", lat:\"10.45\", lon:\"125.69\", depth:\"78\", mag:\"3.7\", reg:\"LEYTE, PHILIPPINES\",upd:\"1598277060\"},{evid:888159, ago:\"5hr 40min ago\", comm: \"0\", pics: \"0\", intens: \"-1\", lat:\"34.33\", lon:\"-119.32\", depth:\"3\", mag:\"2.0\", reg:\"GREATER LOS ANGELES AREA, CALIF.\",upd:\"1598276040\"},{evid:888164, ago:\"5hr 47min ago\", comm: \"0\", pics: \"0\", intens: \"-1\", lat:\"17.92\", lon:\"-66.97\", depth:\"10\", mag:\"2.6\", reg:\"PUERTO RICO REGION\",upd:\"1598277180\"},{evid:888162, ago:\"5hr 48min ago\", comm: \"0\", pics: \"0\", intens: \"-1\", lat:\"38.95\", lon:\"35.83\", depth:\"16\", mag:\"2.6\", reg:\"CENTRAL TURKEY\",upd:\"1598276100\"},{evid:888163, ago:\"5hr 50min ago\", comm: \"0\", pics: \"0\", intens: \"-1\", lat:\"17.98\", lon:\"-66.83\", depth:\"16\", mag:\"2.4\", reg:\"PUERTO RICO\",upd:\"1598276580\"},{evid:888156, ago:\"5hr 57min ago\", comm: \"0\", pics: \"0\", intens: \"-1\", lat:\"-8.19\", lon:\"117.59\", depth:\"233\", mag:\"4.0\", reg:\"SUMBAWA REGION, INDONESIA\",upd:\"1598275260\"},{evid:888167, ago:\"6hr 01min ago\", comm: \"0\", pics: \"0\", intens: \"-1\", lat:\"18.98\", lon:\"-67.17\", depth:\"28\", mag:\"3.0\", reg:\"PUERTO RICO REGION\",upd:\"1598277480\"},{evid:888160, ago:\"6hr 05min ago\", comm: \"0\", pics: \"0\", intens: \"-1\", lat:\"25.32\", lon:\"97.65\", depth:\"10\", mag:\"4.4\", reg:\"MYANMAR-CHINA BORDER REGION\",upd:\"1598279820\"},{evid:888155, ago:\"6hr 20min ago\", comm: \"0\", pics: \"0\", intens: \"-1\", lat:\"-31.68\", lon:\"-71.71\", depth:\"30\", mag:\"3.1\", reg:\"OFFSHORE COQUIMBO, CHILE\",upd:\"1598274120\"});\\n\\r\\n\\t\\t\\t\\tvar tab_num_alpha=new Array({reg:false,lat:true,lon:true,mag:true,depth:true,upd:true,intens:true,comm:true,pics:true}); \\r\\n\\t\\t\\t\\t//addonload(hide_upd);\\r\\n\\t\\t\\tDisclaimer function changeLocation(adress) { window.location.href = adress; }\\r\\n\\t\\t\\t\\t//function refreshcsem(adress,timeout) { setTimeout(\\'changeLocation(\"\\'+adress+\\'\")\\',timeout*60000); }\\r\\n\\t\\t\\t\\t//if(/www/i.test(window.location.href)) refreshcsem(\"/Earthquake/?csemrefresh=true\",5);\\r\\n\\t\\t\\t\\tfunction rl(timeout) { setTimeout(function() { window.location.reload(); },  timeout*60000); }\\r\\n\\t\\t\\t\\trl(5);\\r\\n\\t\\t\\r\\nvar objbeta=new createEMSCWidget(\"beta1\",65,\"left\",\"POPULARITY MAP\",new Array(0,0,255),new Array(255,0,0),false); \\r\\nobjbeta.W_init(\"iframe\",\"/Tools/realtimefeltmap.php?xminbefore=5&width=740&height=350\",700,420);\\r\\n\\xa0\\n\\n\\n\\n\\nFAQ\\xa0\\xa0\\xa0About EMSC\\r\\n\\xa0\\xa0\\xa0\\xa0\\xa0\\xa0\\xa0\\xa0\\xa0\\xa0\\xa0\\xa0at(\"webmaster_0_emsc-csem_8_org\",true,\"\",\"mast\",\"If you have any comments, please contact us\");\\xa0\\xa0\\xa0\\xa0\\xa0\\xa0\\xa0\\xa0\\xa0\\xa0\\xa0\\xa0\\r\\nSite Map\\xa0\\xa0\\xa0Search\\nMedia : \\xa0\\xa0\\xa0\\xa0\\xa0\\xa0\\xa0\\xa0\\xa0\\xa0\\xa0\\xa0\\xa0\\xa0\\nCompatibility : \\n© 2010 - Privacy\\n\\n\\n\\r\\n  window.dataLayer = window.dataLayer || [];\\r\\n  function gtag(){dataLayer.push(arguments);}\\r\\n  gtag(\\'js\\', new Date());\\r\\n\\r\\n  gtag(\\'config\\', \\'UA-810235-1\\');\\r\\n\\n\\n\\r\\n\\tvar sc_project=217829; \\r\\n\\tvar sc_invisible=1; \\r\\n\\tvar sc_security=\"\"; \\r\\n\\t\\n\\n\\n\\n  \\r\\n\\t\\t\\r\\n\\t\\tvar socketE,intervalID ;\\r\\n\\t\\t\\r\\n\\t\\tfunction conn_io() {\\r\\n\\t\\t\\tif (typeof io == \"undefined\") \\tsetTimeout(\"conn_io()\",200);\\r\\n\\t\\t\\telse { \\r\\n\\t\\t\\t\\tvar isMobile= (/android|mobile|webos|iphone|ipad|ipod|blackberry|iemobile|opera mini/i.test(navigator.userAgent.toLowerCase()));\\r\\n\\t\\t\\t\\tvar opts={transports:[\"polling\"]};\\r\\n\\t\\t\\t\\tif(/*!isMobile &&*/ window.WebSocket) opts.transports.unshift(\"websocket\"); //opts.transports.push(\"websocket\");  //\\r\\n\\t\\t\\t\\t\\t//console.log(opts.transports);  console.log(navigator.userAgent.toLowerCase());\\r\\n\\t\\t\\t\\tsocketE=io.connect(\"https://zebu-neries.emsc-csem.org/Traffic?REF=\"+escape(document.referrer),opts); \\r\\n\\t\\t\\t\\tsocketE.on(\"connect\", function () { \\r\\n\\t\\t\\t\\t\\tsocketE.on(\"cookie\", function (msg) { \\r\\n\\t\\t\\t\\t\\t\\tconsole.log(msg); \\r\\n\\t\\t\\t\\t\\t\\tvar xjs=document.createElement(\"script\"); xjs.src=\"https://zebu-neries.emsc-csem.org/?addSockId=\"+msg.name+\"&value=\"+msg.value+\"&expires=\"+msg.expires; xjs.type=\"text/javascript\"; document.getElementsByTagName(\"head\")[0].appendChild(xjs);\\r\\n\\t\\t\\t\\t\\t});\\r\\n\\t\\t\\t\\t});\\r\\n\\t\\t\\t\\tsocketE.on(\"banner\", function (msg) { /*console.log(msg);*/ /*if(typeof treat_quick_traffic_peak !=\"undefined\") { treat_quick_traffic_peak(JSON.parse(msg)); }*/ });\\r\\n\\t\\t\\t\\tsocketE.on(\"message\",function(mes) { console.log(mes); });\\r\\n\\t\\t\\t}\\t\\r\\n\\t\\t}\\t\\r\\n\\t//\\taddonload(conn_io);\\r\\n\\t\\tif(typeof JSON == \"undefined\") { var xjs2=document.createElement(\"script\"); xjs2.src=\"https://www.emsc-csem.org/javascript/json2.min.js\"; xjs2.type=\"text/javascript\"; document.getElementsByTagName(\"head\")[0].appendChild(xjs2); }\\r\\n\\t\\t\\r\\n\\t\\t\\r\\n\\tfunction loadWs() {\\r\\n\\t\\tvar d=Date.now();\\r\\n\\t\\t\\r\\n\\t\\tvar ws= new WebSocket(\"wss://www.emsc-csem.org/traffic?REF=\"+escape(document.referrer)); \\r\\n\\t\\tws.id=d; //console.log(\"try ws \"+ws.id);\\r\\n\\r\\n\\t\\tws.onopen = function() { /*setInterval(function () { ws.send(\"Test\"); console.log(\"sendTest\"); }, 12 * 60 * 1000); */   };\\r\\n\\t\\tws[\"banner\"]=function (msg) { \\r\\n\\t\\t\\tif(typeof treat_quick_traffic_peak !=\"undefined\") { treat_quick_traffic_peak(msg); } \\r\\n\\t\\t\\telse setTimeout(function() { ws.banner(msg);} , 300 );\\r\\n\\t\\t};\\t\\r\\n\\t\\tws.onmessage = function (evt) { \\r\\n\\t\\t\\tvar m=JSON.parse(evt.data); //console.log(m);\\t\\r\\n\\t\\t\\tif(m.label && m.data && ws[m.label]) ws[m.label](m.data);\\r\\n\\t\\t};\\r\\n\\t\\t\\r\\n\\t\\tws.onclose = function() {\\r\\n\\t\\t\\t//console.log(\"Connection is closed...\",ws.id); console.log(arguments);\\r\\n\\t\\t\\tsetTimeout(function() { loadWs(); }, 1000);\\r\\n\\t\\t};\\r\\n\\t\\tws.onerror = function(err) { };\\r\\n\\t}\\r\\n\\t(function() { loadWs(); })();\\r\\n\\t\\t\\r\\n\\t\\t\\r\\n\\t\\t\\n\\n'"
      ]
     },
     "execution_count": 504,
     "metadata": {},
     "output_type": "execute_result"
    }
   ],
   "source": [
    "# This is the url you will scrape in this exercise\n",
    "url6 = 'https://www.emsc-csem.org/Earthquake/'\n",
    "r6 = requests.get(url6)\n",
    "soup6= BeautifulSoup(r6.content, 'html.parser')\n",
    "soup6.text"
   ]
  },
  {
   "cell_type": "code",
   "execution_count": 521,
   "metadata": {},
   "outputs": [
    {
     "data": {
      "text/plain": [
       "50"
      ]
     },
     "execution_count": 521,
     "metadata": {},
     "output_type": "execute_result"
    }
   ],
   "source": [
    "#your code\n",
    "import re\n",
    "#I extracted date\n",
    "\n",
    "earth = soup6.find_all('td', attrs={'class':'tabev6'})\n",
    "date=[]\n",
    "time=[]\n",
    "for x in earth:\n",
    "     date.append(re.findall(\"(\\d{4}-\\d{2}-\\d{2})\",x.text))\n",
    "\n",
    "date=[num for elem in date for num in elem]\n",
    "len(date)"
   ]
  },
  {
   "cell_type": "code",
   "execution_count": 525,
   "metadata": {
    "collapsed": true
   },
   "outputs": [
    {
     "data": {
      "text/plain": [
       "['18:14:10',\n",
       " '18:06:10',\n",
       " '17:30:21',\n",
       " '17:28:04',\n",
       " '17:23:00',\n",
       " '17:22:34',\n",
       " '17:19:16',\n",
       " '17:15:01',\n",
       " '17:14:19',\n",
       " '17:05:38',\n",
       " '17:03:14',\n",
       " '16:44:35',\n",
       " '16:37:19',\n",
       " '16:25:06',\n",
       " '16:23:55',\n",
       " '16:21:42',\n",
       " '16:18:13',\n",
       " '16:03:50',\n",
       " '15:50:31',\n",
       " '15:36:44',\n",
       " '15:35:57',\n",
       " '15:30:19',\n",
       " '15:29:26',\n",
       " '15:17:19',\n",
       " '15:07:41',\n",
       " '15:05:59',\n",
       " '15:03:18',\n",
       " '14:43:20',\n",
       " '14:42:24',\n",
       " '14:38:10',\n",
       " '14:35:17',\n",
       " '14:33:59',\n",
       " '14:31:27',\n",
       " '14:27:05',\n",
       " '14:25:37',\n",
       " '14:23:46',\n",
       " '14:23:31',\n",
       " '14:13:13',\n",
       " '14:01:56',\n",
       " '13:55:43',\n",
       " '13:54:49',\n",
       " '13:37:53',\n",
       " '13:30:30',\n",
       " '13:23:54',\n",
       " '13:23:01',\n",
       " '13:20:25',\n",
       " '13:13:03',\n",
       " '13:09:59',\n",
       " '13:05:49',\n",
       " '12:50:58']"
      ]
     },
     "execution_count": 525,
     "metadata": {},
     "output_type": "execute_result"
    }
   ],
   "source": [
    "#I extracted time\n",
    "\n",
    "for x in earth:\n",
    "    \n",
    "    time.append(re.findall(\"(\\d{2}:\\d{2}:\\d{2})\",x.text))\n",
    "time=[num for elem in time for num in elem]\n",
    "time"
   ]
  },
  {
   "cell_type": "code",
   "execution_count": 516,
   "metadata": {
    "scrolled": true
   },
   "outputs": [
    {
     "name": "stdout",
     "output_type": "stream",
     "text": [
      "50\n",
      "50\n"
     ]
    }
   ],
   "source": [
    "#I extracted longitud and latitud\n",
    "\n",
    "earth3 = soup6.find('tbody').find_all('tr')\n",
    "l=[]\n",
    "for x in earth3:\n",
    "    t= x.find_all('td', attrs={'class':'tabev1'})\n",
    "    for y in t:\n",
    "        l.append(y.text.replace(\"\\xa0\",\"\"))\n",
    "    \n",
    "latitud = l[::2]\n",
    "longitud=l[1::2]\n",
    "print(len(latitud))\n",
    "print(len(longitud))"
   ]
  },
  {
   "cell_type": "code",
   "execution_count": 518,
   "metadata": {},
   "outputs": [
    {
     "data": {
      "text/plain": [
       "50"
      ]
     },
     "execution_count": 518,
     "metadata": {},
     "output_type": "execute_result"
    }
   ],
   "source": [
    "#I extracted region\n",
    "earth3 = soup6.find('tbody').find_all('tr')\n",
    "region=[]\n",
    "for x in earth3:\n",
    "    y= x.find('td', attrs={'class':'tb_region'})\n",
    "    for j in y:\n",
    "        region.append(j.replace(\"\\xa0\",\"\"))\n",
    "len(region)"
   ]
  },
  {
   "cell_type": "code",
   "execution_count": 529,
   "metadata": {},
   "outputs": [
    {
     "data": {
      "text/html": [
       "<div>\n",
       "<style scoped>\n",
       "    .dataframe tbody tr th:only-of-type {\n",
       "        vertical-align: middle;\n",
       "    }\n",
       "\n",
       "    .dataframe tbody tr th {\n",
       "        vertical-align: top;\n",
       "    }\n",
       "\n",
       "    .dataframe thead th {\n",
       "        text-align: right;\n",
       "    }\n",
       "</style>\n",
       "<table border=\"1\" class=\"dataframe\">\n",
       "  <thead>\n",
       "    <tr style=\"text-align: right;\">\n",
       "      <th></th>\n",
       "      <th>Region</th>\n",
       "      <th>Date</th>\n",
       "      <th>Time</th>\n",
       "      <th>Latitude</th>\n",
       "      <th>Longitude</th>\n",
       "    </tr>\n",
       "  </thead>\n",
       "  <tbody>\n",
       "    <tr>\n",
       "      <th>0</th>\n",
       "      <td>OFF E. COAST OF N. ISLAND, N.Z.</td>\n",
       "      <td>2020-08-24</td>\n",
       "      <td>18:14:10</td>\n",
       "      <td>35.57</td>\n",
       "      <td>178.85</td>\n",
       "    </tr>\n",
       "    <tr>\n",
       "      <th>1</th>\n",
       "      <td>PUERTO RICO REGION</td>\n",
       "      <td>2020-08-24</td>\n",
       "      <td>18:06:10</td>\n",
       "      <td>17.95</td>\n",
       "      <td>66.98</td>\n",
       "    </tr>\n",
       "    <tr>\n",
       "      <th>2</th>\n",
       "      <td>SOUTHERN ALASKA</td>\n",
       "      <td>2020-08-24</td>\n",
       "      <td>17:30:21</td>\n",
       "      <td>61.49</td>\n",
       "      <td>149.92</td>\n",
       "    </tr>\n",
       "    <tr>\n",
       "      <th>3</th>\n",
       "      <td>OFFSHORE BIO-BIO, CHILE</td>\n",
       "      <td>2020-08-24</td>\n",
       "      <td>17:28:04</td>\n",
       "      <td>36.45</td>\n",
       "      <td>73.16</td>\n",
       "    </tr>\n",
       "    <tr>\n",
       "      <th>4</th>\n",
       "      <td>KEPULAUAN TALAUD, INDONESIA</td>\n",
       "      <td>2020-08-24</td>\n",
       "      <td>17:23:00</td>\n",
       "      <td>3.62</td>\n",
       "      <td>126.57</td>\n",
       "    </tr>\n",
       "    <tr>\n",
       "      <th>5</th>\n",
       "      <td>ATACAMA, CHILE</td>\n",
       "      <td>2020-08-24</td>\n",
       "      <td>17:22:34</td>\n",
       "      <td>27.33</td>\n",
       "      <td>69.89</td>\n",
       "    </tr>\n",
       "    <tr>\n",
       "      <th>6</th>\n",
       "      <td>ISLAND OF HAWAII, HAWAII</td>\n",
       "      <td>2020-08-24</td>\n",
       "      <td>17:19:16</td>\n",
       "      <td>19.38</td>\n",
       "      <td>155.22</td>\n",
       "    </tr>\n",
       "    <tr>\n",
       "      <th>7</th>\n",
       "      <td>TONGA</td>\n",
       "      <td>2020-08-24</td>\n",
       "      <td>17:15:01</td>\n",
       "      <td>15.53</td>\n",
       "      <td>174.22</td>\n",
       "    </tr>\n",
       "    <tr>\n",
       "      <th>8</th>\n",
       "      <td>PUERTO RICO</td>\n",
       "      <td>2020-08-24</td>\n",
       "      <td>17:14:19</td>\n",
       "      <td>17.98</td>\n",
       "      <td>66.94</td>\n",
       "    </tr>\n",
       "    <tr>\n",
       "      <th>9</th>\n",
       "      <td>PUERTO RICO REGION</td>\n",
       "      <td>2020-08-24</td>\n",
       "      <td>17:05:38</td>\n",
       "      <td>18.00</td>\n",
       "      <td>66.76</td>\n",
       "    </tr>\n",
       "    <tr>\n",
       "      <th>10</th>\n",
       "      <td>ISLAND OF HAWAII, HAWAII</td>\n",
       "      <td>2020-08-24</td>\n",
       "      <td>17:03:14</td>\n",
       "      <td>19.24</td>\n",
       "      <td>155.39</td>\n",
       "    </tr>\n",
       "    <tr>\n",
       "      <th>11</th>\n",
       "      <td>CANARY ISLANDS, SPAIN REGION</td>\n",
       "      <td>2020-08-24</td>\n",
       "      <td>16:44:35</td>\n",
       "      <td>27.71</td>\n",
       "      <td>18.23</td>\n",
       "    </tr>\n",
       "    <tr>\n",
       "      <th>12</th>\n",
       "      <td>KODIAK ISLAND REGION, ALASKA</td>\n",
       "      <td>2020-08-24</td>\n",
       "      <td>16:37:19</td>\n",
       "      <td>56.78</td>\n",
       "      <td>152.64</td>\n",
       "    </tr>\n",
       "    <tr>\n",
       "      <th>13</th>\n",
       "      <td>COQUIMBO, CHILE</td>\n",
       "      <td>2020-08-24</td>\n",
       "      <td>16:25:06</td>\n",
       "      <td>29.22</td>\n",
       "      <td>71.20</td>\n",
       "    </tr>\n",
       "    <tr>\n",
       "      <th>14</th>\n",
       "      <td>PUERTO RICO</td>\n",
       "      <td>2020-08-24</td>\n",
       "      <td>16:23:55</td>\n",
       "      <td>17.95</td>\n",
       "      <td>66.96</td>\n",
       "    </tr>\n",
       "    <tr>\n",
       "      <th>15</th>\n",
       "      <td>ATACAMA, CHILE</td>\n",
       "      <td>2020-08-24</td>\n",
       "      <td>16:21:42</td>\n",
       "      <td>27.26</td>\n",
       "      <td>70.02</td>\n",
       "    </tr>\n",
       "    <tr>\n",
       "      <th>16</th>\n",
       "      <td>PUERTO RICO REGION</td>\n",
       "      <td>2020-08-24</td>\n",
       "      <td>16:18:13</td>\n",
       "      <td>17.99</td>\n",
       "      <td>66.76</td>\n",
       "    </tr>\n",
       "    <tr>\n",
       "      <th>17</th>\n",
       "      <td>PUERTO RICO REGION</td>\n",
       "      <td>2020-08-24</td>\n",
       "      <td>16:03:50</td>\n",
       "      <td>19.09</td>\n",
       "      <td>67.07</td>\n",
       "    </tr>\n",
       "    <tr>\n",
       "      <th>18</th>\n",
       "      <td>PUERTO RICO REGION</td>\n",
       "      <td>2020-08-24</td>\n",
       "      <td>15:50:31</td>\n",
       "      <td>19.07</td>\n",
       "      <td>67.14</td>\n",
       "    </tr>\n",
       "    <tr>\n",
       "      <th>19</th>\n",
       "      <td>CERAM SEA, INDONESIA</td>\n",
       "      <td>2020-08-24</td>\n",
       "      <td>15:36:44</td>\n",
       "      <td>3.34</td>\n",
       "      <td>131.08</td>\n",
       "    </tr>\n",
       "    <tr>\n",
       "      <th>20</th>\n",
       "      <td>SUMBA REGION, INDONESIA</td>\n",
       "      <td>2020-08-24</td>\n",
       "      <td>15:35:57</td>\n",
       "      <td>9.78</td>\n",
       "      <td>119.05</td>\n",
       "    </tr>\n",
       "    <tr>\n",
       "      <th>21</th>\n",
       "      <td>SOUTHERN IDAHO</td>\n",
       "      <td>2020-08-24</td>\n",
       "      <td>15:30:19</td>\n",
       "      <td>44.28</td>\n",
       "      <td>115.09</td>\n",
       "    </tr>\n",
       "    <tr>\n",
       "      <th>22</th>\n",
       "      <td>SALTA, ARGENTINA</td>\n",
       "      <td>2020-08-24</td>\n",
       "      <td>15:29:26</td>\n",
       "      <td>24.21</td>\n",
       "      <td>67.74</td>\n",
       "    </tr>\n",
       "    <tr>\n",
       "      <th>23</th>\n",
       "      <td>DOMINICAN REPUBLIC REGION</td>\n",
       "      <td>2020-08-24</td>\n",
       "      <td>15:17:19</td>\n",
       "      <td>19.35</td>\n",
       "      <td>69.26</td>\n",
       "    </tr>\n",
       "    <tr>\n",
       "      <th>24</th>\n",
       "      <td>ISLAND OF HAWAII, HAWAII</td>\n",
       "      <td>2020-08-24</td>\n",
       "      <td>15:07:41</td>\n",
       "      <td>19.19</td>\n",
       "      <td>155.47</td>\n",
       "    </tr>\n",
       "    <tr>\n",
       "      <th>25</th>\n",
       "      <td>PHILIPPINE ISLANDS REGION</td>\n",
       "      <td>2020-08-24</td>\n",
       "      <td>15:05:59</td>\n",
       "      <td>10.17</td>\n",
       "      <td>126.19</td>\n",
       "    </tr>\n",
       "    <tr>\n",
       "      <th>26</th>\n",
       "      <td>SOUTHERN ALASKA</td>\n",
       "      <td>2020-08-24</td>\n",
       "      <td>15:03:18</td>\n",
       "      <td>59.64</td>\n",
       "      <td>152.65</td>\n",
       "    </tr>\n",
       "    <tr>\n",
       "      <th>27</th>\n",
       "      <td>TARAPACA, CHILE</td>\n",
       "      <td>2020-08-24</td>\n",
       "      <td>14:43:20</td>\n",
       "      <td>19.65</td>\n",
       "      <td>69.20</td>\n",
       "    </tr>\n",
       "    <tr>\n",
       "      <th>28</th>\n",
       "      <td>NEVADA</td>\n",
       "      <td>2020-08-24</td>\n",
       "      <td>14:42:24</td>\n",
       "      <td>38.19</td>\n",
       "      <td>117.95</td>\n",
       "    </tr>\n",
       "    <tr>\n",
       "      <th>29</th>\n",
       "      <td>SOUTHERN ALASKA</td>\n",
       "      <td>2020-08-24</td>\n",
       "      <td>14:38:10</td>\n",
       "      <td>60.95</td>\n",
       "      <td>146.09</td>\n",
       "    </tr>\n",
       "    <tr>\n",
       "      <th>30</th>\n",
       "      <td>TARAPACA, CHILE</td>\n",
       "      <td>2020-08-24</td>\n",
       "      <td>14:35:17</td>\n",
       "      <td>19.57</td>\n",
       "      <td>69.22</td>\n",
       "    </tr>\n",
       "    <tr>\n",
       "      <th>31</th>\n",
       "      <td>EASTERN TURKEY</td>\n",
       "      <td>2020-08-24</td>\n",
       "      <td>14:33:59</td>\n",
       "      <td>38.19</td>\n",
       "      <td>38.68</td>\n",
       "    </tr>\n",
       "    <tr>\n",
       "      <th>32</th>\n",
       "      <td>OFFSHORE OAXACA, MEXICO</td>\n",
       "      <td>2020-08-24</td>\n",
       "      <td>14:31:27</td>\n",
       "      <td>15.41</td>\n",
       "      <td>96.35</td>\n",
       "    </tr>\n",
       "    <tr>\n",
       "      <th>33</th>\n",
       "      <td>LAOS</td>\n",
       "      <td>2020-08-24</td>\n",
       "      <td>14:27:05</td>\n",
       "      <td>19.42</td>\n",
       "      <td>101.25</td>\n",
       "    </tr>\n",
       "    <tr>\n",
       "      <th>34</th>\n",
       "      <td>NEVADA</td>\n",
       "      <td>2020-08-24</td>\n",
       "      <td>14:25:37</td>\n",
       "      <td>38.18</td>\n",
       "      <td>117.87</td>\n",
       "    </tr>\n",
       "    <tr>\n",
       "      <th>35</th>\n",
       "      <td>PUERTO RICO REGION</td>\n",
       "      <td>2020-08-24</td>\n",
       "      <td>14:23:46</td>\n",
       "      <td>17.94</td>\n",
       "      <td>66.96</td>\n",
       "    </tr>\n",
       "    <tr>\n",
       "      <th>36</th>\n",
       "      <td>TARAPACA, CHILE</td>\n",
       "      <td>2020-08-24</td>\n",
       "      <td>14:23:31</td>\n",
       "      <td>21.14</td>\n",
       "      <td>68.92</td>\n",
       "    </tr>\n",
       "    <tr>\n",
       "      <th>37</th>\n",
       "      <td>BURUNDI</td>\n",
       "      <td>2020-08-24</td>\n",
       "      <td>14:13:13</td>\n",
       "      <td>3.78</td>\n",
       "      <td>29.25</td>\n",
       "    </tr>\n",
       "    <tr>\n",
       "      <th>38</th>\n",
       "      <td>LEYTE, PHILIPPINES</td>\n",
       "      <td>2020-08-24</td>\n",
       "      <td>14:01:56</td>\n",
       "      <td>11.80</td>\n",
       "      <td>124.19</td>\n",
       "    </tr>\n",
       "    <tr>\n",
       "      <th>39</th>\n",
       "      <td>NORTHERN CALIFORNIA</td>\n",
       "      <td>2020-08-24</td>\n",
       "      <td>13:55:43</td>\n",
       "      <td>39.35</td>\n",
       "      <td>123.28</td>\n",
       "    </tr>\n",
       "    <tr>\n",
       "      <th>40</th>\n",
       "      <td>PUERTO RICO REGION</td>\n",
       "      <td>2020-08-24</td>\n",
       "      <td>13:54:49</td>\n",
       "      <td>19.06</td>\n",
       "      <td>67.15</td>\n",
       "    </tr>\n",
       "    <tr>\n",
       "      <th>41</th>\n",
       "      <td>LEYTE, PHILIPPINES</td>\n",
       "      <td>2020-08-24</td>\n",
       "      <td>13:37:53</td>\n",
       "      <td>10.45</td>\n",
       "      <td>125.69</td>\n",
       "    </tr>\n",
       "    <tr>\n",
       "      <th>42</th>\n",
       "      <td>GREATER LOS ANGELES AREA, CALIF.</td>\n",
       "      <td>2020-08-24</td>\n",
       "      <td>13:30:30</td>\n",
       "      <td>34.33</td>\n",
       "      <td>119.32</td>\n",
       "    </tr>\n",
       "    <tr>\n",
       "      <th>43</th>\n",
       "      <td>PUERTO RICO REGION</td>\n",
       "      <td>2020-08-24</td>\n",
       "      <td>13:23:54</td>\n",
       "      <td>17.92</td>\n",
       "      <td>66.97</td>\n",
       "    </tr>\n",
       "    <tr>\n",
       "      <th>44</th>\n",
       "      <td>CENTRAL TURKEY</td>\n",
       "      <td>2020-08-24</td>\n",
       "      <td>13:23:01</td>\n",
       "      <td>38.95</td>\n",
       "      <td>35.83</td>\n",
       "    </tr>\n",
       "    <tr>\n",
       "      <th>45</th>\n",
       "      <td>PUERTO RICO</td>\n",
       "      <td>2020-08-24</td>\n",
       "      <td>13:20:25</td>\n",
       "      <td>17.98</td>\n",
       "      <td>66.83</td>\n",
       "    </tr>\n",
       "    <tr>\n",
       "      <th>46</th>\n",
       "      <td>SUMBAWA REGION, INDONESIA</td>\n",
       "      <td>2020-08-24</td>\n",
       "      <td>13:13:03</td>\n",
       "      <td>8.19</td>\n",
       "      <td>117.59</td>\n",
       "    </tr>\n",
       "    <tr>\n",
       "      <th>47</th>\n",
       "      <td>PUERTO RICO REGION</td>\n",
       "      <td>2020-08-24</td>\n",
       "      <td>13:09:59</td>\n",
       "      <td>18.98</td>\n",
       "      <td>67.17</td>\n",
       "    </tr>\n",
       "    <tr>\n",
       "      <th>48</th>\n",
       "      <td>MYANMAR-CHINA BORDER REGION</td>\n",
       "      <td>2020-08-24</td>\n",
       "      <td>13:05:49</td>\n",
       "      <td>25.32</td>\n",
       "      <td>97.65</td>\n",
       "    </tr>\n",
       "    <tr>\n",
       "      <th>49</th>\n",
       "      <td>OFFSHORE COQUIMBO, CHILE</td>\n",
       "      <td>2020-08-24</td>\n",
       "      <td>12:50:58</td>\n",
       "      <td>31.68</td>\n",
       "      <td>71.71</td>\n",
       "    </tr>\n",
       "  </tbody>\n",
       "</table>\n",
       "</div>"
      ],
      "text/plain": [
       "                              Region        Date      Time Latitude Longitude\n",
       "0    OFF E. COAST OF N. ISLAND, N.Z.  2020-08-24  18:14:10    35.57    178.85\n",
       "1                 PUERTO RICO REGION  2020-08-24  18:06:10    17.95     66.98\n",
       "2                    SOUTHERN ALASKA  2020-08-24  17:30:21    61.49    149.92\n",
       "3            OFFSHORE BIO-BIO, CHILE  2020-08-24  17:28:04    36.45     73.16\n",
       "4        KEPULAUAN TALAUD, INDONESIA  2020-08-24  17:23:00     3.62    126.57\n",
       "5                     ATACAMA, CHILE  2020-08-24  17:22:34    27.33     69.89\n",
       "6           ISLAND OF HAWAII, HAWAII  2020-08-24  17:19:16    19.38    155.22\n",
       "7                              TONGA  2020-08-24  17:15:01    15.53    174.22\n",
       "8                        PUERTO RICO  2020-08-24  17:14:19    17.98     66.94\n",
       "9                 PUERTO RICO REGION  2020-08-24  17:05:38    18.00     66.76\n",
       "10          ISLAND OF HAWAII, HAWAII  2020-08-24  17:03:14    19.24    155.39\n",
       "11      CANARY ISLANDS, SPAIN REGION  2020-08-24  16:44:35    27.71     18.23\n",
       "12      KODIAK ISLAND REGION, ALASKA  2020-08-24  16:37:19    56.78    152.64\n",
       "13                   COQUIMBO, CHILE  2020-08-24  16:25:06    29.22     71.20\n",
       "14                       PUERTO RICO  2020-08-24  16:23:55    17.95     66.96\n",
       "15                    ATACAMA, CHILE  2020-08-24  16:21:42    27.26     70.02\n",
       "16                PUERTO RICO REGION  2020-08-24  16:18:13    17.99     66.76\n",
       "17                PUERTO RICO REGION  2020-08-24  16:03:50    19.09     67.07\n",
       "18                PUERTO RICO REGION  2020-08-24  15:50:31    19.07     67.14\n",
       "19              CERAM SEA, INDONESIA  2020-08-24  15:36:44     3.34    131.08\n",
       "20           SUMBA REGION, INDONESIA  2020-08-24  15:35:57     9.78    119.05\n",
       "21                    SOUTHERN IDAHO  2020-08-24  15:30:19    44.28    115.09\n",
       "22                  SALTA, ARGENTINA  2020-08-24  15:29:26    24.21     67.74\n",
       "23         DOMINICAN REPUBLIC REGION  2020-08-24  15:17:19    19.35     69.26\n",
       "24          ISLAND OF HAWAII, HAWAII  2020-08-24  15:07:41    19.19    155.47\n",
       "25         PHILIPPINE ISLANDS REGION  2020-08-24  15:05:59    10.17    126.19\n",
       "26                   SOUTHERN ALASKA  2020-08-24  15:03:18    59.64    152.65\n",
       "27                   TARAPACA, CHILE  2020-08-24  14:43:20    19.65     69.20\n",
       "28                            NEVADA  2020-08-24  14:42:24    38.19    117.95\n",
       "29                   SOUTHERN ALASKA  2020-08-24  14:38:10    60.95    146.09\n",
       "30                   TARAPACA, CHILE  2020-08-24  14:35:17    19.57     69.22\n",
       "31                    EASTERN TURKEY  2020-08-24  14:33:59    38.19     38.68\n",
       "32           OFFSHORE OAXACA, MEXICO  2020-08-24  14:31:27    15.41     96.35\n",
       "33                              LAOS  2020-08-24  14:27:05    19.42    101.25\n",
       "34                            NEVADA  2020-08-24  14:25:37    38.18    117.87\n",
       "35                PUERTO RICO REGION  2020-08-24  14:23:46    17.94     66.96\n",
       "36                   TARAPACA, CHILE  2020-08-24  14:23:31    21.14     68.92\n",
       "37                           BURUNDI  2020-08-24  14:13:13     3.78     29.25\n",
       "38                LEYTE, PHILIPPINES  2020-08-24  14:01:56    11.80    124.19\n",
       "39               NORTHERN CALIFORNIA  2020-08-24  13:55:43    39.35    123.28\n",
       "40                PUERTO RICO REGION  2020-08-24  13:54:49    19.06     67.15\n",
       "41                LEYTE, PHILIPPINES  2020-08-24  13:37:53    10.45    125.69\n",
       "42  GREATER LOS ANGELES AREA, CALIF.  2020-08-24  13:30:30    34.33    119.32\n",
       "43                PUERTO RICO REGION  2020-08-24  13:23:54    17.92     66.97\n",
       "44                    CENTRAL TURKEY  2020-08-24  13:23:01    38.95     35.83\n",
       "45                       PUERTO RICO  2020-08-24  13:20:25    17.98     66.83\n",
       "46         SUMBAWA REGION, INDONESIA  2020-08-24  13:13:03     8.19    117.59\n",
       "47                PUERTO RICO REGION  2020-08-24  13:09:59    18.98     67.17\n",
       "48       MYANMAR-CHINA BORDER REGION  2020-08-24  13:05:49    25.32     97.65\n",
       "49          OFFSHORE COQUIMBO, CHILE  2020-08-24  12:50:58    31.68     71.71"
      ]
     },
     "execution_count": 529,
     "metadata": {},
     "output_type": "execute_result"
    }
   ],
   "source": [
    "# Creating the data frame\n",
    "table={\"Region\":region,\"Date\":date,\"Time\":time,\"Latitude\":latitud,\"Longitude\":longitud}\n",
    "df_terremoto=pd.DataFrame(table)\n",
    "df_terremoto"
   ]
  },
  {
   "cell_type": "markdown",
   "metadata": {},
   "source": [
    "#### Count number of tweets by a given Twitter account."
   ]
  },
  {
   "cell_type": "markdown",
   "metadata": {},
   "source": [
    "You will need to include a ***try/except block*** for account names not found. \n",
    "<br>***Hint:*** the program should count the number of tweets for any provided account"
   ]
  },
  {
   "cell_type": "code",
   "execution_count": null,
   "metadata": {
    "collapsed": true
   },
   "outputs": [],
   "source": [
    "# This is the url you will scrape in this exercise \n",
    "# You will need to add the account credentials to this url\n",
    "url = 'https://twitter.com/'"
   ]
  },
  {
   "cell_type": "code",
   "execution_count": null,
   "metadata": {
    "collapsed": true
   },
   "outputs": [],
   "source": [
    "#your code"
   ]
  },
  {
   "cell_type": "markdown",
   "metadata": {},
   "source": [
    "#### Number of followers of a given twitter account"
   ]
  },
  {
   "cell_type": "markdown",
   "metadata": {},
   "source": [
    "You will need to include a ***try/except block*** in case account/s name not found. \n",
    "<br>***Hint:*** the program should count the followers for any provided account"
   ]
  },
  {
   "cell_type": "code",
   "execution_count": null,
   "metadata": {
    "collapsed": true
   },
   "outputs": [],
   "source": [
    "# This is the url you will scrape in this exercise \n",
    "# You will need to add the account credentials to this url\n",
    "url = 'https://twitter.com/'"
   ]
  },
  {
   "cell_type": "code",
   "execution_count": null,
   "metadata": {
    "collapsed": true
   },
   "outputs": [],
   "source": [
    "#your code"
   ]
  },
  {
   "cell_type": "markdown",
   "metadata": {},
   "source": [
    "#### List all language names and number of related articles in the order they appear in wikipedia.org"
   ]
  },
  {
   "cell_type": "code",
   "execution_count": null,
   "metadata": {
    "collapsed": true
   },
   "outputs": [],
   "source": [
    "# This is the url you will scrape in this exercise\n",
    "url = 'https://www.wikipedia.org/'"
   ]
  },
  {
   "cell_type": "code",
   "execution_count": null,
   "metadata": {
    "collapsed": true
   },
   "outputs": [],
   "source": [
    "#your code"
   ]
  },
  {
   "cell_type": "markdown",
   "metadata": {},
   "source": [
    "#### A list with the different kind of datasets available in data.gov.uk "
   ]
  },
  {
   "cell_type": "code",
   "execution_count": null,
   "metadata": {
    "collapsed": true
   },
   "outputs": [],
   "source": [
    "# This is the url you will scrape in this exercise\n",
    "url = 'https://data.gov.uk/'"
   ]
  },
  {
   "cell_type": "code",
   "execution_count": null,
   "metadata": {
    "collapsed": true
   },
   "outputs": [],
   "source": [
    "#your code "
   ]
  },
  {
   "cell_type": "markdown",
   "metadata": {},
   "source": [
    "#### Top 10 languages by number of native speakers stored in a Pandas Dataframe"
   ]
  },
  {
   "cell_type": "code",
   "execution_count": null,
   "metadata": {
    "collapsed": true
   },
   "outputs": [],
   "source": [
    "# This is the url you will scrape in this exercise\n",
    "url = 'https://en.wikipedia.org/wiki/List_of_languages_by_number_of_native_speakers'"
   ]
  },
  {
   "cell_type": "code",
   "execution_count": null,
   "metadata": {
    "collapsed": true
   },
   "outputs": [],
   "source": [
    "#your code"
   ]
  },
  {
   "cell_type": "markdown",
   "metadata": {},
   "source": [
    "### BONUS QUESTIONS"
   ]
  },
  {
   "cell_type": "markdown",
   "metadata": {},
   "source": [
    "#### Scrape a certain number of tweets of a given Twitter account."
   ]
  },
  {
   "cell_type": "code",
   "execution_count": null,
   "metadata": {
    "collapsed": true
   },
   "outputs": [],
   "source": [
    "# This is the url you will scrape in this exercise \n",
    "# You will need to add the account credentials to this url\n",
    "url = 'https://twitter.com/'"
   ]
  },
  {
   "cell_type": "code",
   "execution_count": null,
   "metadata": {
    "collapsed": true
   },
   "outputs": [],
   "source": [
    "# your code"
   ]
  },
  {
   "cell_type": "markdown",
   "metadata": {},
   "source": [
    "#### IMDB's Top 250 data (movie name, Initial release, director name and stars) as a pandas dataframe"
   ]
  },
  {
   "cell_type": "code",
   "execution_count": null,
   "metadata": {
    "collapsed": true
   },
   "outputs": [],
   "source": [
    "# This is the url you will scrape in this exercise \n",
    "url = 'https://www.imdb.com/chart/top'"
   ]
  },
  {
   "cell_type": "code",
   "execution_count": null,
   "metadata": {
    "collapsed": true
   },
   "outputs": [],
   "source": [
    "# your code"
   ]
  },
  {
   "cell_type": "markdown",
   "metadata": {},
   "source": [
    "#### Movie name, year and a brief summary of the top 10 random movies (IMDB) as a pandas dataframe."
   ]
  },
  {
   "cell_type": "code",
   "execution_count": null,
   "metadata": {
    "collapsed": true
   },
   "outputs": [],
   "source": [
    "#This is the url you will scrape in this exercise\n",
    "url = 'http://www.imdb.com/chart/top'"
   ]
  },
  {
   "cell_type": "code",
   "execution_count": null,
   "metadata": {
    "collapsed": true
   },
   "outputs": [],
   "source": [
    "#your code"
   ]
  },
  {
   "cell_type": "markdown",
   "metadata": {},
   "source": [
    "#### Find the live weather report (temperature, wind speed, description and weather) of a given city."
   ]
  },
  {
   "cell_type": "code",
   "execution_count": null,
   "metadata": {
    "collapsed": true
   },
   "outputs": [],
   "source": [
    "#https://openweathermap.org/current\n",
    "city = city=input('Enter the city:')\n",
    "url = 'http://api.openweathermap.org/data/2.5/weather?'+'q='+city+'&APPID=b35975e18dc93725acb092f7272cc6b8&units=metric'"
   ]
  },
  {
   "cell_type": "code",
   "execution_count": null,
   "metadata": {
    "collapsed": true
   },
   "outputs": [],
   "source": [
    "# your code"
   ]
  },
  {
   "cell_type": "markdown",
   "metadata": {},
   "source": [
    "#### Book name,price and stock availability as a pandas dataframe."
   ]
  },
  {
   "cell_type": "code",
   "execution_count": null,
   "metadata": {
    "collapsed": true
   },
   "outputs": [],
   "source": [
    "# This is the url you will scrape in this exercise. \n",
    "# It is a fictional bookstore created to be scraped. \n",
    "url = 'http://books.toscrape.com/'"
   ]
  },
  {
   "cell_type": "code",
   "execution_count": null,
   "metadata": {
    "collapsed": true
   },
   "outputs": [],
   "source": [
    "#your code"
   ]
  }
 ],
 "metadata": {
  "kernelspec": {
   "display_name": "Python 3",
   "language": "python",
   "name": "python3"
  },
  "language_info": {
   "codemirror_mode": {
    "name": "ipython",
    "version": 3
   },
   "file_extension": ".py",
   "mimetype": "text/x-python",
   "name": "python",
   "nbconvert_exporter": "python",
   "pygments_lexer": "ipython3",
   "version": "3.7.6"
  }
 },
 "nbformat": 4,
 "nbformat_minor": 2
}
